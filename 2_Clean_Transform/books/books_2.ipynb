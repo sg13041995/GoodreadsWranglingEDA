{
 "cells": [
  {
   "cell_type": "code",
   "execution_count": 1,
   "metadata": {},
   "outputs": [],
   "source": [
    "import pandas as pd\n",
    "import re"
   ]
  },
  {
   "cell_type": "code",
   "execution_count": 2,
   "metadata": {},
   "outputs": [],
   "source": [
    "items = pd.read_parquet('../3_ProcessedData/books_SE_v1.parquet')"
   ]
  },
  {
   "cell_type": "markdown",
   "metadata": {},
   "source": [
    "### Exploratory Data Analysis - Search Engine"
   ]
  },
  {
   "cell_type": "code",
   "execution_count": 3,
   "metadata": {},
   "outputs": [
    {
     "data": {
      "text/plain": [
       "(2360655, 18)"
      ]
     },
     "execution_count": 3,
     "metadata": {},
     "output_type": "execute_result"
    }
   ],
   "source": [
    "items.shape"
   ]
  },
  {
   "cell_type": "code",
   "execution_count": 4,
   "metadata": {},
   "outputs": [
    {
     "data": {
      "text/html": [
       "<div>\n",
       "<style scoped>\n",
       "    .dataframe tbody tr th:only-of-type {\n",
       "        vertical-align: middle;\n",
       "    }\n",
       "\n",
       "    .dataframe tbody tr th {\n",
       "        vertical-align: top;\n",
       "    }\n",
       "\n",
       "    .dataframe thead th {\n",
       "        text-align: right;\n",
       "    }\n",
       "</style>\n",
       "<table border=\"1\" class=\"dataframe\">\n",
       "  <thead>\n",
       "    <tr style=\"text-align: right;\">\n",
       "      <th></th>\n",
       "      <th>isbn</th>\n",
       "      <th>country_code</th>\n",
       "      <th>language_code</th>\n",
       "      <th>average_rating</th>\n",
       "      <th>description</th>\n",
       "      <th>link</th>\n",
       "      <th>publisher</th>\n",
       "      <th>num_pages</th>\n",
       "      <th>publication_day</th>\n",
       "      <th>isbn13</th>\n",
       "      <th>publication_month</th>\n",
       "      <th>publication_year</th>\n",
       "      <th>url</th>\n",
       "      <th>image_url</th>\n",
       "      <th>book_id</th>\n",
       "      <th>ratings_count</th>\n",
       "      <th>title</th>\n",
       "      <th>title_without_series</th>\n",
       "    </tr>\n",
       "  </thead>\n",
       "  <tbody>\n",
       "    <tr>\n",
       "      <th>0</th>\n",
       "      <td>0312853122</td>\n",
       "      <td>US</td>\n",
       "      <td></td>\n",
       "      <td>4.00</td>\n",
       "      <td></td>\n",
       "      <td>https://www.goodreads.com/book/show/5333265-w-...</td>\n",
       "      <td>St. Martin's Press</td>\n",
       "      <td>256</td>\n",
       "      <td>1</td>\n",
       "      <td>9780312853129</td>\n",
       "      <td>9</td>\n",
       "      <td>1984</td>\n",
       "      <td>https://www.goodreads.com/book/show/5333265-w-...</td>\n",
       "      <td>https://images.gr-assets.com/books/1310220028m...</td>\n",
       "      <td>5333265</td>\n",
       "      <td>3</td>\n",
       "      <td>W.C. Fields: A Life on Film</td>\n",
       "      <td>W.C. Fields: A Life on Film</td>\n",
       "    </tr>\n",
       "    <tr>\n",
       "      <th>1</th>\n",
       "      <td>0743509986</td>\n",
       "      <td>US</td>\n",
       "      <td></td>\n",
       "      <td>3.23</td>\n",
       "      <td>Anita Diamant's international bestseller \"The ...</td>\n",
       "      <td>https://www.goodreads.com/book/show/1333909.Go...</td>\n",
       "      <td>Simon &amp; Schuster Audio</td>\n",
       "      <td></td>\n",
       "      <td>1</td>\n",
       "      <td>9780743509985</td>\n",
       "      <td>10</td>\n",
       "      <td>2001</td>\n",
       "      <td>https://www.goodreads.com/book/show/1333909.Go...</td>\n",
       "      <td>https://s.gr-assets.com/assets/nophoto/book/11...</td>\n",
       "      <td>1333909</td>\n",
       "      <td>10</td>\n",
       "      <td>Good Harbor</td>\n",
       "      <td>Good Harbor</td>\n",
       "    </tr>\n",
       "    <tr>\n",
       "      <th>2</th>\n",
       "      <td></td>\n",
       "      <td>US</td>\n",
       "      <td>eng</td>\n",
       "      <td>4.03</td>\n",
       "      <td>Omnibus book club edition containing the Ladie...</td>\n",
       "      <td>https://www.goodreads.com/book/show/7327624-th...</td>\n",
       "      <td>Nelson Doubleday, Inc.</td>\n",
       "      <td>600</td>\n",
       "      <td></td>\n",
       "      <td></td>\n",
       "      <td></td>\n",
       "      <td>1987</td>\n",
       "      <td>https://www.goodreads.com/book/show/7327624-th...</td>\n",
       "      <td>https://images.gr-assets.com/books/1304100136m...</td>\n",
       "      <td>7327624</td>\n",
       "      <td>140</td>\n",
       "      <td>The Unschooled Wizard (Sun Wolf and Starhawk, ...</td>\n",
       "      <td>The Unschooled Wizard (Sun Wolf and Starhawk, ...</td>\n",
       "    </tr>\n",
       "    <tr>\n",
       "      <th>3</th>\n",
       "      <td>0743294297</td>\n",
       "      <td>US</td>\n",
       "      <td>eng</td>\n",
       "      <td>3.49</td>\n",
       "      <td>Addie Downs and Valerie Adler were eight when ...</td>\n",
       "      <td>https://www.goodreads.com/book/show/6066819-be...</td>\n",
       "      <td>Atria Books</td>\n",
       "      <td>368</td>\n",
       "      <td>14</td>\n",
       "      <td>9780743294294</td>\n",
       "      <td>7</td>\n",
       "      <td>2009</td>\n",
       "      <td>https://www.goodreads.com/book/show/6066819-be...</td>\n",
       "      <td>https://s.gr-assets.com/assets/nophoto/book/11...</td>\n",
       "      <td>6066819</td>\n",
       "      <td>51184</td>\n",
       "      <td>Best Friends Forever</td>\n",
       "      <td>Best Friends Forever</td>\n",
       "    </tr>\n",
       "    <tr>\n",
       "      <th>4</th>\n",
       "      <td>0850308712</td>\n",
       "      <td>US</td>\n",
       "      <td></td>\n",
       "      <td>3.40</td>\n",
       "      <td></td>\n",
       "      <td>https://www.goodreads.com/book/show/287140.Run...</td>\n",
       "      <td></td>\n",
       "      <td></td>\n",
       "      <td></td>\n",
       "      <td>9780850308716</td>\n",
       "      <td></td>\n",
       "      <td></td>\n",
       "      <td>https://www.goodreads.com/book/show/287140.Run...</td>\n",
       "      <td>https://images.gr-assets.com/books/1413219371m...</td>\n",
       "      <td>287140</td>\n",
       "      <td>15</td>\n",
       "      <td>Runic Astrology: Starcraft and Timekeeping in ...</td>\n",
       "      <td>Runic Astrology: Starcraft and Timekeeping in ...</td>\n",
       "    </tr>\n",
       "  </tbody>\n",
       "</table>\n",
       "</div>"
      ],
      "text/plain": [
       "         isbn country_code language_code average_rating  \\\n",
       "0  0312853122           US                         4.00   \n",
       "1  0743509986           US                         3.23   \n",
       "2                       US           eng           4.03   \n",
       "3  0743294297           US           eng           3.49   \n",
       "4  0850308712           US                         3.40   \n",
       "\n",
       "                                         description  \\\n",
       "0                                                      \n",
       "1  Anita Diamant's international bestseller \"The ...   \n",
       "2  Omnibus book club edition containing the Ladie...   \n",
       "3  Addie Downs and Valerie Adler were eight when ...   \n",
       "4                                                      \n",
       "\n",
       "                                                link               publisher  \\\n",
       "0  https://www.goodreads.com/book/show/5333265-w-...      St. Martin's Press   \n",
       "1  https://www.goodreads.com/book/show/1333909.Go...  Simon & Schuster Audio   \n",
       "2  https://www.goodreads.com/book/show/7327624-th...  Nelson Doubleday, Inc.   \n",
       "3  https://www.goodreads.com/book/show/6066819-be...             Atria Books   \n",
       "4  https://www.goodreads.com/book/show/287140.Run...                           \n",
       "\n",
       "  num_pages publication_day         isbn13 publication_month publication_year  \\\n",
       "0       256               1  9780312853129                 9             1984   \n",
       "1                         1  9780743509985                10             2001   \n",
       "2       600                                                              1987   \n",
       "3       368              14  9780743294294                 7             2009   \n",
       "4                            9780850308716                                      \n",
       "\n",
       "                                                 url  \\\n",
       "0  https://www.goodreads.com/book/show/5333265-w-...   \n",
       "1  https://www.goodreads.com/book/show/1333909.Go...   \n",
       "2  https://www.goodreads.com/book/show/7327624-th...   \n",
       "3  https://www.goodreads.com/book/show/6066819-be...   \n",
       "4  https://www.goodreads.com/book/show/287140.Run...   \n",
       "\n",
       "                                           image_url  book_id ratings_count  \\\n",
       "0  https://images.gr-assets.com/books/1310220028m...  5333265             3   \n",
       "1  https://s.gr-assets.com/assets/nophoto/book/11...  1333909            10   \n",
       "2  https://images.gr-assets.com/books/1304100136m...  7327624           140   \n",
       "3  https://s.gr-assets.com/assets/nophoto/book/11...  6066819         51184   \n",
       "4  https://images.gr-assets.com/books/1413219371m...   287140            15   \n",
       "\n",
       "                                               title  \\\n",
       "0                        W.C. Fields: A Life on Film   \n",
       "1                                        Good Harbor   \n",
       "2  The Unschooled Wizard (Sun Wolf and Starhawk, ...   \n",
       "3                               Best Friends Forever   \n",
       "4  Runic Astrology: Starcraft and Timekeeping in ...   \n",
       "\n",
       "                                title_without_series  \n",
       "0                        W.C. Fields: A Life on Film  \n",
       "1                                        Good Harbor  \n",
       "2  The Unschooled Wizard (Sun Wolf and Starhawk, ...  \n",
       "3                               Best Friends Forever  \n",
       "4  Runic Astrology: Starcraft and Timekeeping in ...  "
      ]
     },
     "execution_count": 4,
     "metadata": {},
     "output_type": "execute_result"
    }
   ],
   "source": [
    "items.head()"
   ]
  },
  {
   "cell_type": "code",
   "execution_count": 8,
   "metadata": {},
   "outputs": [
    {
     "data": {
      "text/plain": [
       "(2360655,)"
      ]
     },
     "execution_count": 8,
     "metadata": {},
     "output_type": "execute_result"
    }
   ],
   "source": [
    "items[\"book_id\"].unique().shape"
   ]
  },
  {
   "cell_type": "markdown",
   "metadata": {},
   "source": [
    "- All books have unique book id in the dataset"
   ]
  },
  {
   "cell_type": "code",
   "execution_count": 5,
   "metadata": {},
   "outputs": [
    {
     "data": {
      "text/plain": [
       "(2,)"
      ]
     },
     "execution_count": 5,
     "metadata": {},
     "output_type": "execute_result"
    }
   ],
   "source": [
    "items[\"country_code\"].unique().shape"
   ]
  },
  {
   "cell_type": "code",
   "execution_count": 6,
   "metadata": {},
   "outputs": [
    {
     "data": {
      "text/plain": [
       "country_code\n",
       "US    2360165\n",
       "          490\n",
       "Name: count, dtype: int64"
      ]
     },
     "execution_count": 6,
     "metadata": {},
     "output_type": "execute_result"
    }
   ],
   "source": [
    "items[\"country_code\"].value_counts()"
   ]
  },
  {
   "cell_type": "code",
   "execution_count": 7,
   "metadata": {},
   "outputs": [
    {
     "data": {
      "text/plain": [
       "(227,)"
      ]
     },
     "execution_count": 7,
     "metadata": {},
     "output_type": "execute_result"
    }
   ],
   "source": [
    "items[\"language_code\"].unique().shape"
   ]
  },
  {
   "cell_type": "code",
   "execution_count": 8,
   "metadata": {},
   "outputs": [
    {
     "data": {
      "text/plain": [
       "language_code\n",
       "         1060153\n",
       "eng       708457\n",
       "en-US      91452\n",
       "en-GB      58358\n",
       "spa        54524\n",
       "          ...   \n",
       "hat            1\n",
       "ltz            1\n",
       "btk            1\n",
       "sla            1\n",
       "lao            1\n",
       "Name: count, Length: 227, dtype: int64"
      ]
     },
     "execution_count": 8,
     "metadata": {},
     "output_type": "execute_result"
    }
   ],
   "source": [
    "items[\"language_code\"].value_counts()"
   ]
  },
  {
   "cell_type": "markdown",
   "metadata": {},
   "source": [
    "**Function to check if a string contains non-English characters**"
   ]
  },
  {
   "cell_type": "code",
   "execution_count": 10,
   "metadata": {},
   "outputs": [],
   "source": [
    "def has_non_english_chars(text):\n",
    "    # Using regular expression to match non-English characters\n",
    "    return bool(re.search('[^\\x00-\\x7F]', text))"
   ]
  },
  {
   "cell_type": "code",
   "execution_count": 12,
   "metadata": {},
   "outputs": [],
   "source": [
    "# Applying the function to the DataFrame\n",
    "items['has_non_english_chars'] = items['title_without_series'].apply(has_non_english_chars)"
   ]
  },
  {
   "cell_type": "markdown",
   "metadata": {},
   "source": [
    "**Only English vs Non-English/Mixed count**"
   ]
  },
  {
   "cell_type": "code",
   "execution_count": 22,
   "metadata": {},
   "outputs": [
    {
     "name": "stdout",
     "output_type": "stream",
     "text": [
      "2360655\n",
      "247600\n",
      "2113055\n"
     ]
    }
   ],
   "source": [
    "print(items.shape[0])\n",
    "print(items.loc[items[\"has_non_english_chars\"] == True].shape[0])\n",
    "print(items.loc[items[\"has_non_english_chars\"] == False].shape[0])"
   ]
  },
  {
   "cell_type": "markdown",
   "metadata": {},
   "source": [
    "**Create separate DF for only English**"
   ]
  },
  {
   "cell_type": "code",
   "execution_count": 25,
   "metadata": {},
   "outputs": [],
   "source": [
    "eng_items = items.loc[items[\"has_non_english_chars\"] == False, [\"book_id\",\"title_without_series\", \"title\", \"language_code\"]]"
   ]
  },
  {
   "cell_type": "code",
   "execution_count": 26,
   "metadata": {},
   "outputs": [
    {
     "data": {
      "text/html": [
       "<div>\n",
       "<style scoped>\n",
       "    .dataframe tbody tr th:only-of-type {\n",
       "        vertical-align: middle;\n",
       "    }\n",
       "\n",
       "    .dataframe tbody tr th {\n",
       "        vertical-align: top;\n",
       "    }\n",
       "\n",
       "    .dataframe thead th {\n",
       "        text-align: right;\n",
       "    }\n",
       "</style>\n",
       "<table border=\"1\" class=\"dataframe\">\n",
       "  <thead>\n",
       "    <tr style=\"text-align: right;\">\n",
       "      <th></th>\n",
       "      <th>book_id</th>\n",
       "      <th>title_without_series</th>\n",
       "      <th>title</th>\n",
       "      <th>language_code</th>\n",
       "    </tr>\n",
       "  </thead>\n",
       "  <tbody>\n",
       "    <tr>\n",
       "      <th>0</th>\n",
       "      <td>5333265</td>\n",
       "      <td>W.C. Fields: A Life on Film</td>\n",
       "      <td>W.C. Fields: A Life on Film</td>\n",
       "      <td></td>\n",
       "    </tr>\n",
       "    <tr>\n",
       "      <th>1</th>\n",
       "      <td>1333909</td>\n",
       "      <td>Good Harbor</td>\n",
       "      <td>Good Harbor</td>\n",
       "      <td></td>\n",
       "    </tr>\n",
       "    <tr>\n",
       "      <th>2</th>\n",
       "      <td>7327624</td>\n",
       "      <td>The Unschooled Wizard (Sun Wolf and Starhawk, ...</td>\n",
       "      <td>The Unschooled Wizard (Sun Wolf and Starhawk, ...</td>\n",
       "      <td>eng</td>\n",
       "    </tr>\n",
       "    <tr>\n",
       "      <th>3</th>\n",
       "      <td>6066819</td>\n",
       "      <td>Best Friends Forever</td>\n",
       "      <td>Best Friends Forever</td>\n",
       "      <td>eng</td>\n",
       "    </tr>\n",
       "    <tr>\n",
       "      <th>4</th>\n",
       "      <td>287140</td>\n",
       "      <td>Runic Astrology: Starcraft and Timekeeping in ...</td>\n",
       "      <td>Runic Astrology: Starcraft and Timekeeping in ...</td>\n",
       "      <td></td>\n",
       "    </tr>\n",
       "  </tbody>\n",
       "</table>\n",
       "</div>"
      ],
      "text/plain": [
       "   book_id                               title_without_series  \\\n",
       "0  5333265                        W.C. Fields: A Life on Film   \n",
       "1  1333909                                        Good Harbor   \n",
       "2  7327624  The Unschooled Wizard (Sun Wolf and Starhawk, ...   \n",
       "3  6066819                               Best Friends Forever   \n",
       "4   287140  Runic Astrology: Starcraft and Timekeeping in ...   \n",
       "\n",
       "                                               title language_code  \n",
       "0                        W.C. Fields: A Life on Film                \n",
       "1                                        Good Harbor                \n",
       "2  The Unschooled Wizard (Sun Wolf and Starhawk, ...           eng  \n",
       "3                               Best Friends Forever           eng  \n",
       "4  Runic Astrology: Starcraft and Timekeeping in ...                "
      ]
     },
     "execution_count": 26,
     "metadata": {},
     "output_type": "execute_result"
    }
   ],
   "source": [
    "eng_items.head()"
   ]
  },
  {
   "cell_type": "code",
   "execution_count": 27,
   "metadata": {},
   "outputs": [
    {
     "data": {
      "text/plain": [
       "2113055"
      ]
     },
     "execution_count": 27,
     "metadata": {},
     "output_type": "execute_result"
    }
   ],
   "source": [
    "len(eng_items)"
   ]
  },
  {
   "cell_type": "markdown",
   "metadata": {},
   "source": [
    "**Exporting only English DF**"
   ]
  },
  {
   "cell_type": "code",
   "execution_count": 29,
   "metadata": {},
   "outputs": [],
   "source": [
    "eng_items.to_parquet('../3_ProcessedData/books_SE_v2.parquet', index=True, compression=\"snappy\")"
   ]
  },
  {
   "cell_type": "markdown",
   "metadata": {},
   "source": [
    "### EDA - Only English DF"
   ]
  },
  {
   "cell_type": "code",
   "execution_count": 2,
   "metadata": {},
   "outputs": [],
   "source": [
    "eng_items = pd.read_parquet('../3_ProcessedData/books_SE_v2.parquet')"
   ]
  },
  {
   "cell_type": "code",
   "execution_count": 17,
   "metadata": {},
   "outputs": [
    {
     "data": {
      "text/plain": [
       "2113055"
      ]
     },
     "execution_count": 17,
     "metadata": {},
     "output_type": "execute_result"
    }
   ],
   "source": [
    "eng_items.shape[0]"
   ]
  },
  {
   "cell_type": "code",
   "execution_count": 3,
   "metadata": {},
   "outputs": [
    {
     "data": {
      "text/html": [
       "<div>\n",
       "<style scoped>\n",
       "    .dataframe tbody tr th:only-of-type {\n",
       "        vertical-align: middle;\n",
       "    }\n",
       "\n",
       "    .dataframe tbody tr th {\n",
       "        vertical-align: top;\n",
       "    }\n",
       "\n",
       "    .dataframe thead th {\n",
       "        text-align: right;\n",
       "    }\n",
       "</style>\n",
       "<table border=\"1\" class=\"dataframe\">\n",
       "  <thead>\n",
       "    <tr style=\"text-align: right;\">\n",
       "      <th></th>\n",
       "      <th>book_id</th>\n",
       "      <th>title_without_series</th>\n",
       "      <th>title</th>\n",
       "      <th>language_code</th>\n",
       "    </tr>\n",
       "  </thead>\n",
       "  <tbody>\n",
       "    <tr>\n",
       "      <th>0</th>\n",
       "      <td>5333265</td>\n",
       "      <td>W.C. Fields: A Life on Film</td>\n",
       "      <td>W.C. Fields: A Life on Film</td>\n",
       "      <td></td>\n",
       "    </tr>\n",
       "    <tr>\n",
       "      <th>1</th>\n",
       "      <td>1333909</td>\n",
       "      <td>Good Harbor</td>\n",
       "      <td>Good Harbor</td>\n",
       "      <td></td>\n",
       "    </tr>\n",
       "    <tr>\n",
       "      <th>2</th>\n",
       "      <td>7327624</td>\n",
       "      <td>The Unschooled Wizard (Sun Wolf and Starhawk, ...</td>\n",
       "      <td>The Unschooled Wizard (Sun Wolf and Starhawk, ...</td>\n",
       "      <td>eng</td>\n",
       "    </tr>\n",
       "    <tr>\n",
       "      <th>3</th>\n",
       "      <td>6066819</td>\n",
       "      <td>Best Friends Forever</td>\n",
       "      <td>Best Friends Forever</td>\n",
       "      <td>eng</td>\n",
       "    </tr>\n",
       "    <tr>\n",
       "      <th>4</th>\n",
       "      <td>287140</td>\n",
       "      <td>Runic Astrology: Starcraft and Timekeeping in ...</td>\n",
       "      <td>Runic Astrology: Starcraft and Timekeeping in ...</td>\n",
       "      <td></td>\n",
       "    </tr>\n",
       "  </tbody>\n",
       "</table>\n",
       "</div>"
      ],
      "text/plain": [
       "   book_id                               title_without_series  \\\n",
       "0  5333265                        W.C. Fields: A Life on Film   \n",
       "1  1333909                                        Good Harbor   \n",
       "2  7327624  The Unschooled Wizard (Sun Wolf and Starhawk, ...   \n",
       "3  6066819                               Best Friends Forever   \n",
       "4   287140  Runic Astrology: Starcraft and Timekeeping in ...   \n",
       "\n",
       "                                               title language_code  \n",
       "0                        W.C. Fields: A Life on Film                \n",
       "1                                        Good Harbor                \n",
       "2  The Unschooled Wizard (Sun Wolf and Starhawk, ...           eng  \n",
       "3                               Best Friends Forever           eng  \n",
       "4  Runic Astrology: Starcraft and Timekeeping in ...                "
      ]
     },
     "execution_count": 3,
     "metadata": {},
     "output_type": "execute_result"
    }
   ],
   "source": [
    "eng_items.head()"
   ]
  },
  {
   "cell_type": "code",
   "execution_count": 4,
   "metadata": {},
   "outputs": [
    {
     "data": {
      "text/plain": [
       "language_code\n",
       "         1026251\n",
       "eng       702536\n",
       "en-US      91021\n",
       "en-GB      58120\n",
       "ita        46313\n",
       "          ...   \n",
       "tup            1\n",
       "vai            1\n",
       "vec            1\n",
       "yid            1\n",
       "lao            1\n",
       "Name: count, Length: 189, dtype: int64"
      ]
     },
     "execution_count": 4,
     "metadata": {},
     "output_type": "execute_result"
    }
   ],
   "source": [
    "eng_items[\"language_code\"].value_counts()"
   ]
  },
  {
   "cell_type": "markdown",
   "metadata": {},
   "source": [
    "#### Creating Modified Title to Redcue Search Space"
   ]
  },
  {
   "cell_type": "markdown",
   "metadata": {},
   "source": [
    "**Removing characters apart from A-z, a-z and 0-9 and single space**"
   ]
  },
  {
   "cell_type": "code",
   "execution_count": 9,
   "metadata": {},
   "outputs": [],
   "source": [
    "eng_items[\"mod_title\"] = eng_items[\"title\"].str.replace(\"[^a-zA-Z0-9 ]\", \"\", regex=True)\n",
    "eng_items[\"mod_title_without_series\"] = eng_items[\"title_without_series\"].str.replace(\"[^a-zA-Z0-9 ]\", \"\", regex=True)"
   ]
  },
  {
   "cell_type": "markdown",
   "metadata": {},
   "source": [
    "**Make `mod_title` lower case**"
   ]
  },
  {
   "cell_type": "code",
   "execution_count": 10,
   "metadata": {},
   "outputs": [],
   "source": [
    "eng_items[\"mod_title\"] = eng_items[\"mod_title\"].str.lower()\n",
    "eng_items[\"mod_title_without_series\"] = eng_items[\"mod_title_without_series\"].str.lower()"
   ]
  },
  {
   "cell_type": "markdown",
   "metadata": {},
   "source": [
    "**Replacing any extra spaces with a single space**"
   ]
  },
  {
   "cell_type": "code",
   "execution_count": 11,
   "metadata": {},
   "outputs": [],
   "source": [
    "eng_items[\"mod_title\"] = eng_items[\"mod_title\"].str.replace(\"\\s+\", \" \", regex=True)\n",
    "eng_items[\"mod_title_without_series\"] = eng_items[\"mod_title_without_series\"].str.replace(\"\\s+\", \" \", regex=True)"
   ]
  },
  {
   "cell_type": "code",
   "execution_count": 12,
   "metadata": {},
   "outputs": [
    {
     "data": {
      "text/html": [
       "<div>\n",
       "<style scoped>\n",
       "    .dataframe tbody tr th:only-of-type {\n",
       "        vertical-align: middle;\n",
       "    }\n",
       "\n",
       "    .dataframe tbody tr th {\n",
       "        vertical-align: top;\n",
       "    }\n",
       "\n",
       "    .dataframe thead th {\n",
       "        text-align: right;\n",
       "    }\n",
       "</style>\n",
       "<table border=\"1\" class=\"dataframe\">\n",
       "  <thead>\n",
       "    <tr style=\"text-align: right;\">\n",
       "      <th></th>\n",
       "      <th>book_id</th>\n",
       "      <th>title_without_series</th>\n",
       "      <th>title</th>\n",
       "      <th>language_code</th>\n",
       "      <th>mod_title</th>\n",
       "      <th>mod_title_without_series</th>\n",
       "    </tr>\n",
       "  </thead>\n",
       "  <tbody>\n",
       "    <tr>\n",
       "      <th>0</th>\n",
       "      <td>5333265</td>\n",
       "      <td>W.C. Fields: A Life on Film</td>\n",
       "      <td>W.C. Fields: A Life on Film</td>\n",
       "      <td></td>\n",
       "      <td>wc fields a life on film</td>\n",
       "      <td>wc fields a life on film</td>\n",
       "    </tr>\n",
       "    <tr>\n",
       "      <th>1</th>\n",
       "      <td>1333909</td>\n",
       "      <td>Good Harbor</td>\n",
       "      <td>Good Harbor</td>\n",
       "      <td></td>\n",
       "      <td>good harbor</td>\n",
       "      <td>good harbor</td>\n",
       "    </tr>\n",
       "    <tr>\n",
       "      <th>2</th>\n",
       "      <td>7327624</td>\n",
       "      <td>The Unschooled Wizard (Sun Wolf and Starhawk, ...</td>\n",
       "      <td>The Unschooled Wizard (Sun Wolf and Starhawk, ...</td>\n",
       "      <td>eng</td>\n",
       "      <td>the unschooled wizard sun wolf and starhawk 12</td>\n",
       "      <td>the unschooled wizard sun wolf and starhawk 12</td>\n",
       "    </tr>\n",
       "    <tr>\n",
       "      <th>3</th>\n",
       "      <td>6066819</td>\n",
       "      <td>Best Friends Forever</td>\n",
       "      <td>Best Friends Forever</td>\n",
       "      <td>eng</td>\n",
       "      <td>best friends forever</td>\n",
       "      <td>best friends forever</td>\n",
       "    </tr>\n",
       "    <tr>\n",
       "      <th>4</th>\n",
       "      <td>287140</td>\n",
       "      <td>Runic Astrology: Starcraft and Timekeeping in ...</td>\n",
       "      <td>Runic Astrology: Starcraft and Timekeeping in ...</td>\n",
       "      <td></td>\n",
       "      <td>runic astrology starcraft and timekeeping in t...</td>\n",
       "      <td>runic astrology starcraft and timekeeping in t...</td>\n",
       "    </tr>\n",
       "  </tbody>\n",
       "</table>\n",
       "</div>"
      ],
      "text/plain": [
       "   book_id                               title_without_series  \\\n",
       "0  5333265                        W.C. Fields: A Life on Film   \n",
       "1  1333909                                        Good Harbor   \n",
       "2  7327624  The Unschooled Wizard (Sun Wolf and Starhawk, ...   \n",
       "3  6066819                               Best Friends Forever   \n",
       "4   287140  Runic Astrology: Starcraft and Timekeeping in ...   \n",
       "\n",
       "                                               title language_code  \\\n",
       "0                        W.C. Fields: A Life on Film                 \n",
       "1                                        Good Harbor                 \n",
       "2  The Unschooled Wizard (Sun Wolf and Starhawk, ...           eng   \n",
       "3                               Best Friends Forever           eng   \n",
       "4  Runic Astrology: Starcraft and Timekeeping in ...                 \n",
       "\n",
       "                                           mod_title  \\\n",
       "0                           wc fields a life on film   \n",
       "1                                        good harbor   \n",
       "2     the unschooled wizard sun wolf and starhawk 12   \n",
       "3                               best friends forever   \n",
       "4  runic astrology starcraft and timekeeping in t...   \n",
       "\n",
       "                            mod_title_without_series  \n",
       "0                           wc fields a life on film  \n",
       "1                                        good harbor  \n",
       "2     the unschooled wizard sun wolf and starhawk 12  \n",
       "3                               best friends forever  \n",
       "4  runic astrology starcraft and timekeeping in t...  "
      ]
     },
     "execution_count": 12,
     "metadata": {},
     "output_type": "execute_result"
    }
   ],
   "source": [
    "eng_items.head()"
   ]
  },
  {
   "cell_type": "markdown",
   "metadata": {},
   "source": [
    "**Looking for mod titles < 1**"
   ]
  },
  {
   "cell_type": "code",
   "execution_count": 15,
   "metadata": {},
   "outputs": [
    {
     "data": {
      "text/html": [
       "<div>\n",
       "<style scoped>\n",
       "    .dataframe tbody tr th:only-of-type {\n",
       "        vertical-align: middle;\n",
       "    }\n",
       "\n",
       "    .dataframe tbody tr th {\n",
       "        vertical-align: top;\n",
       "    }\n",
       "\n",
       "    .dataframe thead th {\n",
       "        text-align: right;\n",
       "    }\n",
       "</style>\n",
       "<table border=\"1\" class=\"dataframe\">\n",
       "  <thead>\n",
       "    <tr style=\"text-align: right;\">\n",
       "      <th></th>\n",
       "      <th>book_id</th>\n",
       "      <th>title_without_series</th>\n",
       "      <th>title</th>\n",
       "      <th>language_code</th>\n",
       "      <th>mod_title</th>\n",
       "      <th>mod_title_without_series</th>\n",
       "    </tr>\n",
       "  </thead>\n",
       "  <tbody>\n",
       "    <tr>\n",
       "      <th>347481</th>\n",
       "      <td>12093145</td>\n",
       "      <td>-</td>\n",
       "      <td>-</td>\n",
       "      <td></td>\n",
       "      <td></td>\n",
       "      <td></td>\n",
       "    </tr>\n",
       "    <tr>\n",
       "      <th>381663</th>\n",
       "      <td>9151153</td>\n",
       "      <td>&amp;</td>\n",
       "      <td>&amp;</td>\n",
       "      <td></td>\n",
       "      <td></td>\n",
       "      <td></td>\n",
       "    </tr>\n",
       "    <tr>\n",
       "      <th>447622</th>\n",
       "      <td>21896313</td>\n",
       "      <td>--------</td>\n",
       "      <td>--------</td>\n",
       "      <td>ara</td>\n",
       "      <td></td>\n",
       "      <td></td>\n",
       "    </tr>\n",
       "    <tr>\n",
       "      <th>498824</th>\n",
       "      <td>22744516</td>\n",
       "      <td>..</td>\n",
       "      <td>..</td>\n",
       "      <td>eng</td>\n",
       "      <td></td>\n",
       "      <td></td>\n",
       "    </tr>\n",
       "    <tr>\n",
       "      <th>768922</th>\n",
       "      <td>18071040</td>\n",
       "      <td>******</td>\n",
       "      <td>******</td>\n",
       "      <td>en-US</td>\n",
       "      <td></td>\n",
       "      <td></td>\n",
       "    </tr>\n",
       "    <tr>\n",
       "      <th>896489</th>\n",
       "      <td>2433394</td>\n",
       "      <td></td>\n",
       "      <td></td>\n",
       "      <td></td>\n",
       "      <td></td>\n",
       "      <td></td>\n",
       "    </tr>\n",
       "    <tr>\n",
       "      <th>908029</th>\n",
       "      <td>35481140</td>\n",
       "      <td>?</td>\n",
       "      <td>?</td>\n",
       "      <td></td>\n",
       "      <td></td>\n",
       "      <td></td>\n",
       "    </tr>\n",
       "    <tr>\n",
       "      <th>949431</th>\n",
       "      <td>18869234</td>\n",
       "      <td>;</td>\n",
       "      <td>;</td>\n",
       "      <td>eng</td>\n",
       "      <td></td>\n",
       "      <td></td>\n",
       "    </tr>\n",
       "    <tr>\n",
       "      <th>967041</th>\n",
       "      <td>6046733</td>\n",
       "      <td></td>\n",
       "      <td></td>\n",
       "      <td></td>\n",
       "      <td></td>\n",
       "      <td></td>\n",
       "    </tr>\n",
       "    <tr>\n",
       "      <th>995664</th>\n",
       "      <td>20428529</td>\n",
       "      <td>;</td>\n",
       "      <td>;</td>\n",
       "      <td></td>\n",
       "      <td></td>\n",
       "      <td></td>\n",
       "    </tr>\n",
       "    <tr>\n",
       "      <th>1022228</th>\n",
       "      <td>5756291</td>\n",
       "      <td>_____</td>\n",
       "      <td>_____</td>\n",
       "      <td>eng</td>\n",
       "      <td></td>\n",
       "      <td></td>\n",
       "    </tr>\n",
       "    <tr>\n",
       "      <th>1234524</th>\n",
       "      <td>29522179</td>\n",
       "      <td></td>\n",
       "      <td></td>\n",
       "      <td>eng</td>\n",
       "      <td></td>\n",
       "      <td></td>\n",
       "    </tr>\n",
       "    <tr>\n",
       "      <th>1311406</th>\n",
       "      <td>23280835</td>\n",
       "      <td></td>\n",
       "      <td></td>\n",
       "      <td></td>\n",
       "      <td></td>\n",
       "      <td></td>\n",
       "    </tr>\n",
       "    <tr>\n",
       "      <th>1321876</th>\n",
       "      <td>25587914</td>\n",
       "      <td>--</td>\n",
       "      <td>--</td>\n",
       "      <td></td>\n",
       "      <td></td>\n",
       "      <td></td>\n",
       "    </tr>\n",
       "    <tr>\n",
       "      <th>1407595</th>\n",
       "      <td>10192004</td>\n",
       "      <td></td>\n",
       "      <td></td>\n",
       "      <td></td>\n",
       "      <td></td>\n",
       "      <td></td>\n",
       "    </tr>\n",
       "    <tr>\n",
       "      <th>1424903</th>\n",
       "      <td>7997274</td>\n",
       "      <td>?</td>\n",
       "      <td>?</td>\n",
       "      <td></td>\n",
       "      <td></td>\n",
       "      <td></td>\n",
       "    </tr>\n",
       "    <tr>\n",
       "      <th>1448565</th>\n",
       "      <td>24936849</td>\n",
       "      <td>;</td>\n",
       "      <td>;</td>\n",
       "      <td></td>\n",
       "      <td></td>\n",
       "      <td></td>\n",
       "    </tr>\n",
       "    <tr>\n",
       "      <th>1524863</th>\n",
       "      <td>67415</td>\n",
       "      <td>&lt;&gt;.</td>\n",
       "      <td>&lt;&gt;.</td>\n",
       "      <td></td>\n",
       "      <td></td>\n",
       "      <td></td>\n",
       "    </tr>\n",
       "    <tr>\n",
       "      <th>1868376</th>\n",
       "      <td>25423066</td>\n",
       "      <td></td>\n",
       "      <td></td>\n",
       "      <td>eng</td>\n",
       "      <td></td>\n",
       "      <td></td>\n",
       "    </tr>\n",
       "    <tr>\n",
       "      <th>1959537</th>\n",
       "      <td>30337448</td>\n",
       "      <td>.</td>\n",
       "      <td>.</td>\n",
       "      <td></td>\n",
       "      <td></td>\n",
       "      <td></td>\n",
       "    </tr>\n",
       "    <tr>\n",
       "      <th>2081364</th>\n",
       "      <td>15845606</td>\n",
       "      <td>_</td>\n",
       "      <td>_</td>\n",
       "      <td></td>\n",
       "      <td></td>\n",
       "      <td></td>\n",
       "    </tr>\n",
       "    <tr>\n",
       "      <th>2297415</th>\n",
       "      <td>7807037</td>\n",
       "      <td></td>\n",
       "      <td></td>\n",
       "      <td></td>\n",
       "      <td></td>\n",
       "      <td></td>\n",
       "    </tr>\n",
       "  </tbody>\n",
       "</table>\n",
       "</div>"
      ],
      "text/plain": [
       "          book_id title_without_series     title language_code mod_title  \\\n",
       "347481   12093145                    -         -                           \n",
       "381663    9151153                    &         &                           \n",
       "447622   21896313             --------  --------           ara             \n",
       "498824   22744516                   ..        ..           eng             \n",
       "768922   18071040               ******    ******         en-US             \n",
       "896489    2433394                                                          \n",
       "908029   35481140                    ?         ?                           \n",
       "949431   18869234                    ;         ;           eng             \n",
       "967041    6046733                                                          \n",
       "995664   20428529                    ;         ;                           \n",
       "1022228   5756291                _____     _____           eng             \n",
       "1234524  29522179                                          eng             \n",
       "1311406  23280835                                                          \n",
       "1321876  25587914                   --        --                           \n",
       "1407595  10192004                                                          \n",
       "1424903   7997274                    ?         ?                           \n",
       "1448565  24936849                    ;         ;                           \n",
       "1524863     67415                  <>.       <>.                           \n",
       "1868376  25423066                                          eng             \n",
       "1959537  30337448                    .         .                           \n",
       "2081364  15845606                    _         _                           \n",
       "2297415   7807037                                                          \n",
       "\n",
       "        mod_title_without_series  \n",
       "347481                            \n",
       "381663                            \n",
       "447622                            \n",
       "498824                            \n",
       "768922                            \n",
       "896489                            \n",
       "908029                            \n",
       "949431                            \n",
       "967041                            \n",
       "995664                            \n",
       "1022228                           \n",
       "1234524                           \n",
       "1311406                           \n",
       "1321876                           \n",
       "1407595                           \n",
       "1424903                           \n",
       "1448565                           \n",
       "1524863                           \n",
       "1868376                           \n",
       "1959537                           \n",
       "2081364                           \n",
       "2297415                           "
      ]
     },
     "execution_count": 15,
     "metadata": {},
     "output_type": "execute_result"
    }
   ],
   "source": [
    "eng_items.loc[eng_items[\"mod_title\"].str.len() < 1]"
   ]
  },
  {
   "cell_type": "code",
   "execution_count": 16,
   "metadata": {},
   "outputs": [
    {
     "data": {
      "text/plain": [
       "array(['12093145', '9151153', '21896313', '22744516', '18071040',\n",
       "       '2433394', '35481140', '18869234', '6046733', '20428529',\n",
       "       '5756291', '29522179', '23280835', '25587914', '10192004',\n",
       "       '7997274', '24936849', '67415', '25423066', '30337448', '15845606',\n",
       "       '7807037'], dtype=object)"
      ]
     },
     "execution_count": 16,
     "metadata": {},
     "output_type": "execute_result"
    }
   ],
   "source": [
    "eng_items.loc[eng_items[\"mod_title\"].str.len() < 1, \"book_id\"].values"
   ]
  },
  {
   "cell_type": "code",
   "execution_count": 18,
   "metadata": {},
   "outputs": [
    {
     "data": {
      "text/plain": [
       "22"
      ]
     },
     "execution_count": 18,
     "metadata": {},
     "output_type": "execute_result"
    }
   ],
   "source": [
    "eng_items.loc[eng_items[\"mod_title\"].str.len() < 1, \"book_id\"].shape[0]"
   ]
  },
  {
   "cell_type": "markdown",
   "metadata": {},
   "source": [
    "- The above list of `book_id` does not have any valid english characters as `title` or `title_without_series`\n",
    "- So, the modified titles became 0"
   ]
  },
  {
   "cell_type": "markdown",
   "metadata": {},
   "source": [
    "**Dropping the books with mod title less than 1**"
   ]
  },
  {
   "cell_type": "code",
   "execution_count": 19,
   "metadata": {},
   "outputs": [],
   "source": [
    "eng_items = eng_items.loc[eng_items[\"mod_title\"].str.len() > 0]"
   ]
  },
  {
   "cell_type": "code",
   "execution_count": 20,
   "metadata": {},
   "outputs": [
    {
     "data": {
      "text/plain": [
       "2113033"
      ]
     },
     "execution_count": 20,
     "metadata": {},
     "output_type": "execute_result"
    }
   ],
   "source": [
    "eng_items.shape[0]"
   ]
  },
  {
   "cell_type": "markdown",
   "metadata": {},
   "source": [
    "**Looking for mod titles < 2**"
   ]
  },
  {
   "cell_type": "code",
   "execution_count": 48,
   "metadata": {},
   "outputs": [
    {
     "data": {
      "text/html": [
       "<div>\n",
       "<style scoped>\n",
       "    .dataframe tbody tr th:only-of-type {\n",
       "        vertical-align: middle;\n",
       "    }\n",
       "\n",
       "    .dataframe tbody tr th {\n",
       "        vertical-align: top;\n",
       "    }\n",
       "\n",
       "    .dataframe thead th {\n",
       "        text-align: right;\n",
       "    }\n",
       "</style>\n",
       "<table border=\"1\" class=\"dataframe\">\n",
       "  <thead>\n",
       "    <tr style=\"text-align: right;\">\n",
       "      <th></th>\n",
       "      <th>book_id</th>\n",
       "      <th>title_without_series</th>\n",
       "      <th>title</th>\n",
       "      <th>language_code</th>\n",
       "      <th>mod_title</th>\n",
       "      <th>mod_title_without_series</th>\n",
       "    </tr>\n",
       "  </thead>\n",
       "  <tbody>\n",
       "    <tr>\n",
       "      <th>1063899</th>\n",
       "      <td>6496901</td>\n",
       "      <td>U!</td>\n",
       "      <td>U!</td>\n",
       "      <td>ind</td>\n",
       "      <td>u</td>\n",
       "      <td>u</td>\n",
       "    </tr>\n",
       "    <tr>\n",
       "      <th>1588952</th>\n",
       "      <td>9711968</td>\n",
       "      <td>Q</td>\n",
       "      <td>Q</td>\n",
       "      <td></td>\n",
       "      <td>q</td>\n",
       "      <td>q</td>\n",
       "    </tr>\n",
       "    <tr>\n",
       "      <th>367661</th>\n",
       "      <td>32790971</td>\n",
       "      <td>3</td>\n",
       "      <td>3</td>\n",
       "      <td>eng</td>\n",
       "      <td>3</td>\n",
       "      <td>3</td>\n",
       "    </tr>\n",
       "    <tr>\n",
       "      <th>1262961</th>\n",
       "      <td>23419145</td>\n",
       "      <td>X</td>\n",
       "      <td>X</td>\n",
       "      <td>eng</td>\n",
       "      <td>x</td>\n",
       "      <td>x</td>\n",
       "    </tr>\n",
       "    <tr>\n",
       "      <th>302417</th>\n",
       "      <td>884001</td>\n",
       "      <td>M</td>\n",
       "      <td>M</td>\n",
       "      <td>eng</td>\n",
       "      <td>m</td>\n",
       "      <td>m</td>\n",
       "    </tr>\n",
       "    <tr>\n",
       "      <th>1943578</th>\n",
       "      <td>26849896</td>\n",
       "      <td>J</td>\n",
       "      <td>J</td>\n",
       "      <td>eng</td>\n",
       "      <td>j</td>\n",
       "      <td>j</td>\n",
       "    </tr>\n",
       "    <tr>\n",
       "      <th>1495503</th>\n",
       "      <td>13489087</td>\n",
       "      <td>Y</td>\n",
       "      <td>Y</td>\n",
       "      <td>eng</td>\n",
       "      <td>y</td>\n",
       "      <td>y</td>\n",
       "    </tr>\n",
       "    <tr>\n",
       "      <th>555069</th>\n",
       "      <td>25752896</td>\n",
       "      <td>G.</td>\n",
       "      <td>G.</td>\n",
       "      <td>jpn</td>\n",
       "      <td>g</td>\n",
       "      <td>g</td>\n",
       "    </tr>\n",
       "    <tr>\n",
       "      <th>612026</th>\n",
       "      <td>8220178</td>\n",
       "      <td>K</td>\n",
       "      <td>K</td>\n",
       "      <td></td>\n",
       "      <td>k</td>\n",
       "      <td>k</td>\n",
       "    </tr>\n",
       "    <tr>\n",
       "      <th>674089</th>\n",
       "      <td>20322529</td>\n",
       "      <td>3</td>\n",
       "      <td>3</td>\n",
       "      <td></td>\n",
       "      <td>3</td>\n",
       "      <td>3</td>\n",
       "    </tr>\n",
       "  </tbody>\n",
       "</table>\n",
       "</div>"
      ],
      "text/plain": [
       "          book_id title_without_series title language_code mod_title  \\\n",
       "1063899   6496901                   U!    U!           ind         u   \n",
       "1588952   9711968                    Q     Q                       q   \n",
       "367661   32790971                    3     3           eng         3   \n",
       "1262961  23419145                    X     X           eng         x   \n",
       "302417     884001                    M     M           eng         m   \n",
       "1943578  26849896                    J     J           eng         j   \n",
       "1495503  13489087                    Y     Y           eng         y   \n",
       "555069   25752896                   G.    G.           jpn         g   \n",
       "612026    8220178                    K     K                       k   \n",
       "674089   20322529                    3     3                       3   \n",
       "\n",
       "        mod_title_without_series  \n",
       "1063899                        u  \n",
       "1588952                        q  \n",
       "367661                         3  \n",
       "1262961                        x  \n",
       "302417                         m  \n",
       "1943578                        j  \n",
       "1495503                        y  \n",
       "555069                         g  \n",
       "612026                         k  \n",
       "674089                         3  "
      ]
     },
     "execution_count": 48,
     "metadata": {},
     "output_type": "execute_result"
    }
   ],
   "source": [
    "eng_items.loc[eng_items[\"mod_title\"].str.len() < 2].sample(10)"
   ]
  },
  {
   "cell_type": "markdown",
   "metadata": {},
   "source": [
    "- looks good to me"
   ]
  },
  {
   "cell_type": "markdown",
   "metadata": {},
   "source": [
    "**Looking for mod titles < 5**"
   ]
  },
  {
   "cell_type": "code",
   "execution_count": 71,
   "metadata": {},
   "outputs": [
    {
     "data": {
      "text/html": [
       "<div>\n",
       "<style scoped>\n",
       "    .dataframe tbody tr th:only-of-type {\n",
       "        vertical-align: middle;\n",
       "    }\n",
       "\n",
       "    .dataframe tbody tr th {\n",
       "        vertical-align: top;\n",
       "    }\n",
       "\n",
       "    .dataframe thead th {\n",
       "        text-align: right;\n",
       "    }\n",
       "</style>\n",
       "<table border=\"1\" class=\"dataframe\">\n",
       "  <thead>\n",
       "    <tr style=\"text-align: right;\">\n",
       "      <th></th>\n",
       "      <th>book_id</th>\n",
       "      <th>title_without_series</th>\n",
       "      <th>title</th>\n",
       "      <th>language_code</th>\n",
       "      <th>mod_title</th>\n",
       "      <th>mod_title_without_series</th>\n",
       "    </tr>\n",
       "  </thead>\n",
       "  <tbody>\n",
       "    <tr>\n",
       "      <th>1825885</th>\n",
       "      <td>552489</td>\n",
       "      <td>Oink?</td>\n",
       "      <td>Oink?</td>\n",
       "      <td></td>\n",
       "      <td>oink</td>\n",
       "      <td>oink</td>\n",
       "    </tr>\n",
       "    <tr>\n",
       "      <th>2069287</th>\n",
       "      <td>30168348</td>\n",
       "      <td>HHhH</td>\n",
       "      <td>HHhH</td>\n",
       "      <td>rus</td>\n",
       "      <td>hhhh</td>\n",
       "      <td>hhhh</td>\n",
       "    </tr>\n",
       "    <tr>\n",
       "      <th>1872456</th>\n",
       "      <td>10427422</td>\n",
       "      <td>Naku</td>\n",
       "      <td>Naku</td>\n",
       "      <td>fin</td>\n",
       "      <td>naku</td>\n",
       "      <td>naku</td>\n",
       "    </tr>\n",
       "    <tr>\n",
       "      <th>549604</th>\n",
       "      <td>22011697</td>\n",
       "      <td>Rush</td>\n",
       "      <td>Rush</td>\n",
       "      <td>eng</td>\n",
       "      <td>rush</td>\n",
       "      <td>rush</td>\n",
       "    </tr>\n",
       "    <tr>\n",
       "      <th>403252</th>\n",
       "      <td>1330342</td>\n",
       "      <td>Aura</td>\n",
       "      <td>Aura</td>\n",
       "      <td>spa</td>\n",
       "      <td>aura</td>\n",
       "      <td>aura</td>\n",
       "    </tr>\n",
       "    <tr>\n",
       "      <th>2253429</th>\n",
       "      <td>22320776</td>\n",
       "      <td>Effe</td>\n",
       "      <td>Effe</td>\n",
       "      <td>fre</td>\n",
       "      <td>effe</td>\n",
       "      <td>effe</td>\n",
       "    </tr>\n",
       "    <tr>\n",
       "      <th>1113254</th>\n",
       "      <td>6707259</td>\n",
       "      <td>Kick</td>\n",
       "      <td>Kick</td>\n",
       "      <td></td>\n",
       "      <td>kick</td>\n",
       "      <td>kick</td>\n",
       "    </tr>\n",
       "    <tr>\n",
       "      <th>944908</th>\n",
       "      <td>2073930</td>\n",
       "      <td>Dog</td>\n",
       "      <td>Dog</td>\n",
       "      <td></td>\n",
       "      <td>dog</td>\n",
       "      <td>dog</td>\n",
       "    </tr>\n",
       "    <tr>\n",
       "      <th>1615338</th>\n",
       "      <td>1992331</td>\n",
       "      <td>Nino</td>\n",
       "      <td>Nino</td>\n",
       "      <td></td>\n",
       "      <td>nino</td>\n",
       "      <td>nino</td>\n",
       "    </tr>\n",
       "    <tr>\n",
       "      <th>1792878</th>\n",
       "      <td>11747245</td>\n",
       "      <td>Wolf</td>\n",
       "      <td>Wolf</td>\n",
       "      <td>eng</td>\n",
       "      <td>wolf</td>\n",
       "      <td>wolf</td>\n",
       "    </tr>\n",
       "  </tbody>\n",
       "</table>\n",
       "</div>"
      ],
      "text/plain": [
       "          book_id title_without_series  title language_code mod_title  \\\n",
       "1825885    552489                Oink?  Oink?                    oink   \n",
       "2069287  30168348                 HHhH   HHhH           rus      hhhh   \n",
       "1872456  10427422                 Naku   Naku           fin      naku   \n",
       "549604   22011697                 Rush   Rush           eng      rush   \n",
       "403252    1330342                 Aura   Aura           spa      aura   \n",
       "2253429  22320776                 Effe   Effe           fre      effe   \n",
       "1113254   6707259                 Kick   Kick                    kick   \n",
       "944908    2073930                  Dog    Dog                     dog   \n",
       "1615338   1992331                 Nino   Nino                    nino   \n",
       "1792878  11747245                 Wolf   Wolf           eng      wolf   \n",
       "\n",
       "        mod_title_without_series  \n",
       "1825885                     oink  \n",
       "2069287                     hhhh  \n",
       "1872456                     naku  \n",
       "549604                      rush  \n",
       "403252                      aura  \n",
       "2253429                     effe  \n",
       "1113254                     kick  \n",
       "944908                       dog  \n",
       "1615338                     nino  \n",
       "1792878                     wolf  "
      ]
     },
     "execution_count": 71,
     "metadata": {},
     "output_type": "execute_result"
    }
   ],
   "source": [
    "eng_items.loc[eng_items[\"mod_title\"].str.len() < 5].sample(10)"
   ]
  },
  {
   "cell_type": "markdown",
   "metadata": {},
   "source": [
    "- looks good to me"
   ]
  },
  {
   "cell_type": "markdown",
   "metadata": {},
   "source": [
    "**Exporting only English modified DF**"
   ]
  },
  {
   "cell_type": "code",
   "execution_count": 72,
   "metadata": {},
   "outputs": [],
   "source": [
    "eng_items.to_parquet('../3_ProcessedData/books_SE_v3.parquet', index=True, compression=\"snappy\")"
   ]
  }
 ],
 "metadata": {
  "kernelspec": {
   "display_name": "Python 3",
   "language": "python",
   "name": "python3"
  },
  "language_info": {
   "codemirror_mode": {
    "name": "ipython",
    "version": 3
   },
   "file_extension": ".py",
   "mimetype": "text/x-python",
   "name": "python",
   "nbconvert_exporter": "python",
   "pygments_lexer": "ipython3",
   "version": "3.10.11"
  }
 },
 "nbformat": 4,
 "nbformat_minor": 2
}
