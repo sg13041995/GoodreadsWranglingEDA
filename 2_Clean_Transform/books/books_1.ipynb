{
 "cells": [
  {
   "cell_type": "code",
   "execution_count": 1,
   "metadata": {},
   "outputs": [],
   "source": [
    "import pandas as pd\n",
    "import json\n",
    "import gzip"
   ]
  },
  {
   "cell_type": "markdown",
   "metadata": {},
   "source": [
    "**Streaming the data without unzipping the complete file into the memory**\n",
    "- Reading the first line or record"
   ]
  },
  {
   "cell_type": "code",
   "execution_count": 6,
   "metadata": {},
   "outputs": [
    {
     "data": {
      "text/plain": [
       "b'{\"isbn\": \"0312853122\", \"text_reviews_count\": \"1\", \"series\": [], \"country_code\": \"US\", \"language_code\": \"\", \"popular_shelves\": [{\"count\": \"3\", \"name\": \"to-read\"}, {\"count\": \"1\", \"name\": \"p\"}, {\"count\": \"1\", \"name\": \"collection\"}, {\"count\": \"1\", \"name\": \"w-c-fields\"}, {\"count\": \"1\", \"name\": \"biography\"}], \"asin\": \"\", \"is_ebook\": \"false\", \"average_rating\": \"4.00\", \"kindle_asin\": \"\", \"similar_books\": [], \"description\": \"\", \"format\": \"Paperback\", \"link\": \"https://www.goodreads.com/book/show/5333265-w-c-fields\", \"authors\": [{\"author_id\": \"604031\", \"role\": \"\"}], \"publisher\": \"St. Martin\\'s Press\", \"num_pages\": \"256\", \"publication_day\": \"1\", \"isbn13\": \"9780312853129\", \"publication_month\": \"9\", \"edition_information\": \"\", \"publication_year\": \"1984\", \"url\": \"https://www.goodreads.com/book/show/5333265-w-c-fields\", \"image_url\": \"https://images.gr-assets.com/books/1310220028m/5333265.jpg\", \"book_id\": \"5333265\", \"ratings_count\": \"3\", \"work_id\": \"5400751\", \"title\": \"W.C. Fields: A Life on Film\", \"title_without_series\": \"W.C. Fields: A Life on Film\"}\\n'"
      ]
     },
     "execution_count": 6,
     "metadata": {},
     "output_type": "execute_result"
    }
   ],
   "source": [
    "with gzip.open(\"../../1_Source/books.json.gz\") as f:\n",
    "    line = f.readline()\n",
    "\n",
    "line"
   ]
  },
  {
   "cell_type": "markdown",
   "metadata": {},
   "source": [
    "**json to dict**"
   ]
  },
  {
   "cell_type": "code",
   "execution_count": 3,
   "metadata": {},
   "outputs": [
    {
     "data": {
      "text/plain": [
       "{'isbn': '0312853122',\n",
       " 'text_reviews_count': '1',\n",
       " 'series': [],\n",
       " 'country_code': 'US',\n",
       " 'language_code': '',\n",
       " 'popular_shelves': [{'count': '3', 'name': 'to-read'},\n",
       "  {'count': '1', 'name': 'p'},\n",
       "  {'count': '1', 'name': 'collection'},\n",
       "  {'count': '1', 'name': 'w-c-fields'},\n",
       "  {'count': '1', 'name': 'biography'}],\n",
       " 'asin': '',\n",
       " 'is_ebook': 'false',\n",
       " 'average_rating': '4.00',\n",
       " 'kindle_asin': '',\n",
       " 'similar_books': [],\n",
       " 'description': '',\n",
       " 'format': 'Paperback',\n",
       " 'link': 'https://www.goodreads.com/book/show/5333265-w-c-fields',\n",
       " 'authors': [{'author_id': '604031', 'role': ''}],\n",
       " 'publisher': \"St. Martin's Press\",\n",
       " 'num_pages': '256',\n",
       " 'publication_day': '1',\n",
       " 'isbn13': '9780312853129',\n",
       " 'publication_month': '9',\n",
       " 'edition_information': '',\n",
       " 'publication_year': '1984',\n",
       " 'url': 'https://www.goodreads.com/book/show/5333265-w-c-fields',\n",
       " 'image_url': 'https://images.gr-assets.com/books/1310220028m/5333265.jpg',\n",
       " 'book_id': '5333265',\n",
       " 'ratings_count': '3',\n",
       " 'work_id': '5400751',\n",
       " 'title': 'W.C. Fields: A Life on Film',\n",
       " 'title_without_series': 'W.C. Fields: A Life on Film'}"
      ]
     },
     "execution_count": 3,
     "metadata": {},
     "output_type": "execute_result"
    }
   ],
   "source": [
    "json.loads(line)"
   ]
  },
  {
   "cell_type": "markdown",
   "metadata": {},
   "source": [
    "**List of all columns or keys**"
   ]
  },
  {
   "cell_type": "code",
   "execution_count": 4,
   "metadata": {},
   "outputs": [
    {
     "name": "stdout",
     "output_type": "stream",
     "text": [
      "['isbn', 'text_reviews_count', 'series', 'country_code', 'language_code', 'popular_shelves', 'asin', 'is_ebook', 'average_rating', 'kindle_asin', 'similar_books', 'description', 'format', 'link', 'authors', 'publisher', 'num_pages', 'publication_day', 'isbn13', 'publication_month', 'edition_information', 'publication_year', 'url', 'image_url', 'book_id', 'ratings_count', 'work_id', 'title', 'title_without_series']\n",
      "29\n"
     ]
    }
   ],
   "source": [
    "print(list(json.loads(line).keys()))\n",
    "\n",
    "print(len(list(json.loads(line).keys())))"
   ]
  },
  {
   "cell_type": "markdown",
   "metadata": {},
   "source": [
    "**We will consider the following columns for the Search Engine**\n",
    "- `['isbn', 'country_code', 'language_code', 'average_rating', 'description', 'link', 'publisher', 'num_pages', 'publication_day', 'isbn13', 'publication_month', 'publication_year', 'url', 'image_url', 'book_id', 'ratings_count', 'title', 'title_without_series']`"
   ]
  },
  {
   "cell_type": "code",
   "execution_count": 6,
   "metadata": {},
   "outputs": [
    {
     "name": "stdout",
     "output_type": "stream",
     "text": [
      "['isbn', 'country_code', 'language_code', 'average_rating', 'description', 'link', 'publisher', 'num_pages', 'publication_day', 'isbn13', 'publication_month', 'publication_year', 'url', 'image_url', 'book_id', 'ratings_count', 'title', 'title_without_series']\n",
      "18\n",
      "['asin', 'authors', 'edition_information', 'format', 'is_ebook', 'kindle_asin', 'popular_shelves', 'series', 'similar_books', 'text_reviews_count', 'work_id']\n",
      "11\n"
     ]
    }
   ],
   "source": [
    "cols = ['isbn', 'country_code', 'language_code', 'average_rating', 'description', 'link', 'publisher', 'num_pages', 'publication_day', 'isbn13', 'publication_month', 'publication_year', 'url', 'image_url', 'book_id', 'ratings_count', 'title', 'title_without_series']\n",
    "\n",
    "print(cols)\n",
    "print(len(cols))\n",
    "\n",
    "remaining_cols = list(set(json.loads(line).keys()) - set(cols))\n",
    "remaining_cols.sort()\n",
    "\n",
    "print(remaining_cols)\n",
    "print(len(remaining_cols))"
   ]
  },
  {
   "cell_type": "markdown",
   "metadata": {},
   "source": [
    "**Creating dictionary structure**"
   ]
  },
  {
   "cell_type": "code",
   "execution_count": 7,
   "metadata": {},
   "outputs": [
    {
     "data": {
      "text/plain": [
       "{'isbn': \"dict_data['isbn']\",\n",
       " 'country_code': \"dict_data['country_code']\",\n",
       " 'language_code': \"dict_data['language_code']\",\n",
       " 'average_rating': \"dict_data['average_rating']\",\n",
       " 'description': \"dict_data['description']\",\n",
       " 'link': \"dict_data['link']\",\n",
       " 'publisher': \"dict_data['publisher']\",\n",
       " 'num_pages': \"dict_data['num_pages']\",\n",
       " 'publication_day': \"dict_data['publication_day']\",\n",
       " 'isbn13': \"dict_data['isbn13']\",\n",
       " 'publication_month': \"dict_data['publication_month']\",\n",
       " 'publication_year': \"dict_data['publication_year']\",\n",
       " 'url': \"dict_data['url']\",\n",
       " 'image_url': \"dict_data['image_url']\",\n",
       " 'book_id': \"dict_data['book_id']\",\n",
       " 'ratings_count': \"dict_data['ratings_count']\",\n",
       " 'title': \"dict_data['title']\",\n",
       " 'title_without_series': \"dict_data['title_without_series']\"}"
      ]
     },
     "execution_count": 7,
     "metadata": {},
     "output_type": "execute_result"
    }
   ],
   "source": [
    "temp_dict = dict()\n",
    "\n",
    "for col in cols:\n",
    "    temp_dict[col] = f\"dict_data['{col}']\"\n",
    "\n",
    "temp_dict"
   ]
  },
  {
   "cell_type": "markdown",
   "metadata": {},
   "source": [
    "**Parser function from json to dictionary**"
   ]
  },
  {
   "cell_type": "code",
   "execution_count": 9,
   "metadata": {},
   "outputs": [],
   "source": [
    "def parse_fields(json_line):\n",
    "    dict_data = json.loads(json_line)\n",
    "\n",
    "    return {\n",
    "        'isbn': dict_data['isbn'],\n",
    "        'country_code': dict_data['country_code'],\n",
    "        'language_code': dict_data['language_code'],\n",
    "        'average_rating': dict_data['average_rating'],\n",
    "        'description': dict_data['description'],\n",
    "        'link': dict_data['link'],\n",
    "        'publisher': dict_data['publisher'],\n",
    "        'num_pages': dict_data['num_pages'],\n",
    "        'publication_day': dict_data['publication_day'],\n",
    "        'isbn13': dict_data['isbn13'],\n",
    "        'publication_month': dict_data['publication_month'],\n",
    "        'publication_year': dict_data['publication_year'],\n",
    "        'url': dict_data['url'],\n",
    "        'image_url': dict_data['image_url'],\n",
    "        'book_id': dict_data['book_id'],\n",
    "        'ratings_count': dict_data['ratings_count'],\n",
    "        'title': dict_data['title'],\n",
    "        'title_without_series': dict_data['title_without_series']\n",
    "    }"
   ]
  },
  {
   "cell_type": "code",
   "execution_count": 10,
   "metadata": {},
   "outputs": [
    {
     "data": {
      "text/plain": [
       "{'isbn': '0312853122',\n",
       " 'country_code': 'US',\n",
       " 'language_code': '',\n",
       " 'average_rating': '4.00',\n",
       " 'description': '',\n",
       " 'link': 'https://www.goodreads.com/book/show/5333265-w-c-fields',\n",
       " 'publisher': \"St. Martin's Press\",\n",
       " 'num_pages': '256',\n",
       " 'publication_day': '1',\n",
       " 'isbn13': '9780312853129',\n",
       " 'publication_month': '9',\n",
       " 'publication_year': '1984',\n",
       " 'url': 'https://www.goodreads.com/book/show/5333265-w-c-fields',\n",
       " 'image_url': 'https://images.gr-assets.com/books/1310220028m/5333265.jpg',\n",
       " 'book_id': '5333265',\n",
       " 'ratings_count': '3',\n",
       " 'title': 'W.C. Fields: A Life on Film',\n",
       " 'title_without_series': 'W.C. Fields: A Life on Film'}"
      ]
     },
     "execution_count": 10,
     "metadata": {},
     "output_type": "execute_result"
    }
   ],
   "source": [
    "parse_fields(line)"
   ]
  },
  {
   "cell_type": "markdown",
   "metadata": {},
   "source": [
    "**Reading the whole file in streaming fashion**"
   ]
  },
  {
   "cell_type": "code",
   "execution_count": 11,
   "metadata": {},
   "outputs": [],
   "source": [
    "books = []\n",
    "\n",
    "with gzip.open(\"../../1_Source/books.json.gz\") as f:\n",
    "    while True:\n",
    "        # reading the line\n",
    "        line = f.readline()\n",
    "\n",
    "        # we will break the infinite loop when we reach the end of the dataset file\n",
    "        if not line:\n",
    "            break\n",
    "        \n",
    "        # parsing the line\n",
    "        fields = parse_fields(line)\n",
    "        books.append(fields)"
   ]
  },
  {
   "cell_type": "markdown",
   "metadata": {},
   "source": [
    "**Total number of books**"
   ]
  },
  {
   "cell_type": "code",
   "execution_count": 12,
   "metadata": {},
   "outputs": [
    {
     "data": {
      "text/plain": [
       "2360655"
      ]
     },
     "execution_count": 12,
     "metadata": {},
     "output_type": "execute_result"
    }
   ],
   "source": [
    "len(books)"
   ]
  },
  {
   "cell_type": "code",
   "execution_count": 13,
   "metadata": {},
   "outputs": [
    {
     "name": "stdout",
     "output_type": "stream",
     "text": [
      "{'isbn': '0312853122', 'country_code': 'US', 'language_code': '', 'average_rating': '4.00', 'description': '', 'link': 'https://www.goodreads.com/book/show/5333265-w-c-fields', 'publisher': \"St. Martin's Press\", 'num_pages': '256', 'publication_day': '1', 'isbn13': '9780312853129', 'publication_month': '9', 'publication_year': '1984', 'url': 'https://www.goodreads.com/book/show/5333265-w-c-fields', 'image_url': 'https://images.gr-assets.com/books/1310220028m/5333265.jpg', 'book_id': '5333265', 'ratings_count': '3', 'title': 'W.C. Fields: A Life on Film', 'title_without_series': 'W.C. Fields: A Life on Film'}\n"
     ]
    }
   ],
   "source": [
    "print(books[0])"
   ]
  },
  {
   "cell_type": "markdown",
   "metadata": {},
   "source": [
    "**Creating a DataFrame**"
   ]
  },
  {
   "cell_type": "code",
   "execution_count": 14,
   "metadata": {},
   "outputs": [],
   "source": [
    "items = pd.DataFrame.from_dict(books)"
   ]
  },
  {
   "cell_type": "markdown",
   "metadata": {},
   "source": [
    "**Rows and Columns of the DataFrame**"
   ]
  },
  {
   "cell_type": "code",
   "execution_count": 15,
   "metadata": {},
   "outputs": [
    {
     "name": "stdout",
     "output_type": "stream",
     "text": [
      "Rows: 2360655\n",
      "Columns: 18\n"
     ]
    }
   ],
   "source": [
    "print(f\"Rows: {items.shape[0]}\")\n",
    "print(f\"Columns: {items.shape[1]}\")"
   ]
  },
  {
   "cell_type": "markdown",
   "metadata": {},
   "source": [
    "**We don't need the `books` object anymore**"
   ]
  },
  {
   "cell_type": "code",
   "execution_count": null,
   "metadata": {},
   "outputs": [],
   "source": [
    "del(books)"
   ]
  },
  {
   "cell_type": "markdown",
   "metadata": {},
   "source": [
    "**Exporting the dataframe as parquet**"
   ]
  },
  {
   "cell_type": "code",
   "execution_count": 20,
   "metadata": {},
   "outputs": [],
   "source": [
    "items.to_parquet('../../3_ProcessedData/books_SE_v1.parquet', index=True, compression=\"snappy\")"
   ]
  },
  {
   "cell_type": "markdown",
   "metadata": {},
   "source": [
    "**Exporting the dataframe as compressed json where each line will be a json object**"
   ]
  },
  {
   "cell_type": "code",
   "execution_count": 21,
   "metadata": {},
   "outputs": [],
   "source": [
    "with gzip.open('../../3_ProcessedData/books_SE_v1.json.gz', 'wt', encoding='utf-8') as file:\n",
    "    file.write(items.to_json(orient='records', lines=True))"
   ]
  }
 ],
 "metadata": {
  "kernelspec": {
   "display_name": "Python 3",
   "language": "python",
   "name": "python3"
  },
  "language_info": {
   "codemirror_mode": {
    "name": "ipython",
    "version": 3
   },
   "file_extension": ".py",
   "mimetype": "text/x-python",
   "name": "python",
   "nbconvert_exporter": "python",
   "pygments_lexer": "ipython3",
   "version": "3.10.11"
  }
 },
 "nbformat": 4,
 "nbformat_minor": 2
}
