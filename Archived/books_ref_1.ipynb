{
 "cells": [
  {
   "cell_type": "markdown",
   "metadata": {},
   "source": [
    "**Modules**"
   ]
  },
  {
   "cell_type": "code",
   "execution_count": 1,
   "metadata": {},
   "outputs": [],
   "source": [
    "import pandas as pd\n",
    "import json\n",
    "import gzip\n",
    "import gc"
   ]
  },
  {
   "cell_type": "markdown",
   "metadata": {},
   "source": [
    "### Loading Complete Dataset"
   ]
  },
  {
   "cell_type": "markdown",
   "metadata": {},
   "source": [
    "**Streaming the data without unzipping the complete file into the memory**\n",
    "- Reading data one line at a time"
   ]
  },
  {
   "cell_type": "code",
   "execution_count": 3,
   "metadata": {},
   "outputs": [
    {
     "data": {
      "text/plain": [
       "b'{\"isbn\": \"0312853122\", \"text_reviews_count\": \"1\", \"series\": [], \"country_code\": \"US\", \"language_code\": \"\", \"popular_shelves\": [{\"count\": \"3\", \"name\": \"to-read\"}, {\"count\": \"1\", \"name\": \"p\"}, {\"count\": \"1\", \"name\": \"collection\"}, {\"count\": \"1\", \"name\": \"w-c-fields\"}, {\"count\": \"1\", \"name\": \"biography\"}], \"asin\": \"\", \"is_ebook\": \"false\", \"average_rating\": \"4.00\", \"kindle_asin\": \"\", \"similar_books\": [], \"description\": \"\", \"format\": \"Paperback\", \"link\": \"https://www.goodreads.com/book/show/5333265-w-c-fields\", \"authors\": [{\"author_id\": \"604031\", \"role\": \"\"}], \"publisher\": \"St. Martin\\'s Press\", \"num_pages\": \"256\", \"publication_day\": \"1\", \"isbn13\": \"9780312853129\", \"publication_month\": \"9\", \"edition_information\": \"\", \"publication_year\": \"1984\", \"url\": \"https://www.goodreads.com/book/show/5333265-w-c-fields\", \"image_url\": \"https://images.gr-assets.com/books/1310220028m/5333265.jpg\", \"book_id\": \"5333265\", \"ratings_count\": \"3\", \"work_id\": \"5400751\", \"title\": \"W.C. Fields: A Life on Film\", \"title_without_series\": \"W.C. Fields: A Life on Film\"}\\n'"
      ]
     },
     "execution_count": 3,
     "metadata": {},
     "output_type": "execute_result"
    }
   ],
   "source": [
    "with gzip.open(\"../Initial/books.json.gz\") as f:\n",
    "    line = f.readline()\n",
    "\n",
    "line"
   ]
  },
  {
   "cell_type": "markdown",
   "metadata": {},
   "source": [
    "**json to dict**"
   ]
  },
  {
   "cell_type": "code",
   "execution_count": 4,
   "metadata": {},
   "outputs": [
    {
     "data": {
      "text/plain": [
       "{'isbn': '0312853122',\n",
       " 'text_reviews_count': '1',\n",
       " 'series': [],\n",
       " 'country_code': 'US',\n",
       " 'language_code': '',\n",
       " 'popular_shelves': [{'count': '3', 'name': 'to-read'},\n",
       "  {'count': '1', 'name': 'p'},\n",
       "  {'count': '1', 'name': 'collection'},\n",
       "  {'count': '1', 'name': 'w-c-fields'},\n",
       "  {'count': '1', 'name': 'biography'}],\n",
       " 'asin': '',\n",
       " 'is_ebook': 'false',\n",
       " 'average_rating': '4.00',\n",
       " 'kindle_asin': '',\n",
       " 'similar_books': [],\n",
       " 'description': '',\n",
       " 'format': 'Paperback',\n",
       " 'link': 'https://www.goodreads.com/book/show/5333265-w-c-fields',\n",
       " 'authors': [{'author_id': '604031', 'role': ''}],\n",
       " 'publisher': \"St. Martin's Press\",\n",
       " 'num_pages': '256',\n",
       " 'publication_day': '1',\n",
       " 'isbn13': '9780312853129',\n",
       " 'publication_month': '9',\n",
       " 'edition_information': '',\n",
       " 'publication_year': '1984',\n",
       " 'url': 'https://www.goodreads.com/book/show/5333265-w-c-fields',\n",
       " 'image_url': 'https://images.gr-assets.com/books/1310220028m/5333265.jpg',\n",
       " 'book_id': '5333265',\n",
       " 'ratings_count': '3',\n",
       " 'work_id': '5400751',\n",
       " 'title': 'W.C. Fields: A Life on Film',\n",
       " 'title_without_series': 'W.C. Fields: A Life on Film'}"
      ]
     },
     "execution_count": 4,
     "metadata": {},
     "output_type": "execute_result"
    }
   ],
   "source": [
    "line = json.loads(line)\n",
    "line"
   ]
  },
  {
   "cell_type": "markdown",
   "metadata": {},
   "source": [
    "**List of all columns or keys**"
   ]
  },
  {
   "cell_type": "code",
   "execution_count": 5,
   "metadata": {},
   "outputs": [
    {
     "name": "stdout",
     "output_type": "stream",
     "text": [
      "['isbn', 'text_reviews_count', 'series', 'country_code', 'language_code', 'popular_shelves', 'asin', 'is_ebook', 'average_rating', 'kindle_asin', 'similar_books', 'description', 'format', 'link', 'authors', 'publisher', 'num_pages', 'publication_day', 'isbn13', 'publication_month', 'edition_information', 'publication_year', 'url', 'image_url', 'book_id', 'ratings_count', 'work_id', 'title', 'title_without_series']\n"
     ]
    }
   ],
   "source": [
    "print(list(line.keys()))"
   ]
  },
  {
   "cell_type": "markdown",
   "metadata": {},
   "source": [
    "**Required columns or keys for analysis**\n",
    "- Manually selected based on the requirement"
   ]
  },
  {
   "cell_type": "code",
   "execution_count": 6,
   "metadata": {},
   "outputs": [],
   "source": [
    "cols_not_required = [\"\"]\n",
    "\n",
    "req_columns = [\n",
    "    'isbn',\n",
    "    'text_reviews_count',\n",
    "    'series',\n",
    "    'country_code',\n",
    "    'language_code',\n",
    "    'asin',\n",
    "    'is_ebook',\n",
    "    'average_rating',\n",
    "    'kindle_asin',\n",
    "    'similar_books',\n",
    "    'description',\n",
    "    'format',\n",
    "    'link',\n",
    "    'authors',\n",
    "    'publisher',\n",
    "    'num_pages',\n",
    "    'publication_day',\n",
    "    'isbn13',\n",
    "    'publication_month',\n",
    "    'publication_year',\n",
    "    'url',\n",
    "    'image_url',\n",
    "    'book_id',\n",
    "    'ratings_count',\n",
    "    'title_without_series'\n",
    "]"
   ]
  },
  {
   "cell_type": "markdown",
   "metadata": {},
   "source": [
    "**Creating empty dataframe so that we can append the records dynamically**"
   ]
  },
  {
   "cell_type": "code",
   "execution_count": 7,
   "metadata": {},
   "outputs": [
    {
     "data": {
      "text/html": [
       "<div>\n",
       "<style scoped>\n",
       "    .dataframe tbody tr th:only-of-type {\n",
       "        vertical-align: middle;\n",
       "    }\n",
       "\n",
       "    .dataframe tbody tr th {\n",
       "        vertical-align: top;\n",
       "    }\n",
       "\n",
       "    .dataframe thead th {\n",
       "        text-align: right;\n",
       "    }\n",
       "</style>\n",
       "<table border=\"1\" class=\"dataframe\">\n",
       "  <thead>\n",
       "    <tr style=\"text-align: right;\">\n",
       "      <th></th>\n",
       "      <th>isbn</th>\n",
       "      <th>text_reviews_count</th>\n",
       "      <th>series</th>\n",
       "      <th>country_code</th>\n",
       "      <th>language_code</th>\n",
       "      <th>asin</th>\n",
       "      <th>is_ebook</th>\n",
       "      <th>average_rating</th>\n",
       "      <th>kindle_asin</th>\n",
       "      <th>similar_books</th>\n",
       "      <th>...</th>\n",
       "      <th>num_pages</th>\n",
       "      <th>publication_day</th>\n",
       "      <th>isbn13</th>\n",
       "      <th>publication_month</th>\n",
       "      <th>publication_year</th>\n",
       "      <th>url</th>\n",
       "      <th>image_url</th>\n",
       "      <th>book_id</th>\n",
       "      <th>ratings_count</th>\n",
       "      <th>title_without_series</th>\n",
       "    </tr>\n",
       "  </thead>\n",
       "  <tbody>\n",
       "  </tbody>\n",
       "</table>\n",
       "<p>0 rows × 25 columns</p>\n",
       "</div>"
      ],
      "text/plain": [
       "Empty DataFrame\n",
       "Columns: [isbn, text_reviews_count, series, country_code, language_code, asin, is_ebook, average_rating, kindle_asin, similar_books, description, format, link, authors, publisher, num_pages, publication_day, isbn13, publication_month, publication_year, url, image_url, book_id, ratings_count, title_without_series]\n",
       "Index: []\n",
       "\n",
       "[0 rows x 25 columns]"
      ]
     },
     "execution_count": 7,
     "metadata": {},
     "output_type": "execute_result"
    }
   ],
   "source": [
    "# items = pd.DataFrame(columns=req_columns)\n",
    "# items"
   ]
  },
  {
   "cell_type": "markdown",
   "metadata": {},
   "source": [
    "**Parsing the json data (one at a time) and creation a dictionary while using the necessary columns**"
   ]
  },
  {
   "cell_type": "code",
   "execution_count": 2,
   "metadata": {},
   "outputs": [],
   "source": [
    "def parse_fields(line):\n",
    "    data = json.loads(line)\n",
    "    return {\n",
    "        'isbn' : data['isbn'],\n",
    "        'text_reviews_count' : data['text_reviews_count'],\n",
    "        'series' : data['series'],\n",
    "        'country_code' : data['country_code'],\n",
    "        'language_code' : data['language_code'],\n",
    "        'asin' : data['asin'],\n",
    "        'is_ebook' : data['is_ebook'],\n",
    "        'average_rating' : data['average_rating'],\n",
    "        'kindle_asin' : data['kindle_asin'],\n",
    "        'similar_books' : data['similar_books'],\n",
    "        'description' : data['description'],\n",
    "        'format' : data['format'],\n",
    "        'link' : data['link'],\n",
    "        'authors' : data['authors'],\n",
    "        'publisher' : data['publisher'],\n",
    "        'num_pages' : data['num_pages'],\n",
    "        'publication_day' : data['publication_day'],\n",
    "        'isbn13' : data['isbn13'],\n",
    "        'publication_month' : data['publication_month'],\n",
    "        'publication_year' : data['publication_year'],\n",
    "        'url' : data['url'],\n",
    "        'image_url' : data['image_url'],\n",
    "        'book_id' : data['book_id'],\n",
    "        'ratings_count' : data['ratings_count'],\n",
    "        'title_without_series' : data['title_without_series']\n",
    "    }"
   ]
  },
  {
   "cell_type": "markdown",
   "metadata": {},
   "source": [
    "**We will go through all the books from the dataset, chunk by chunk (10000 lines = 1 chunk) till the end and simultaneously keep adding the records into the dataframe**\n",
    "- Runtime: 8-9 m\n",
    "- Slightly better memory management but cost slightly extra time"
   ]
  },
  {
   "cell_type": "code",
   "execution_count": 9,
   "metadata": {},
   "outputs": [
    {
     "ename": "StopIteration",
     "evalue": "",
     "output_type": "error",
     "traceback": [
      "\u001b[1;31m---------------------------------------------------------------------------\u001b[0m",
      "\u001b[1;31mStopIteration\u001b[0m                             Traceback (most recent call last)",
      "\u001b[1;32me:\\LFS\\Projects\\DataScience\\RE_SE\\Datasets\\Wrangling_EDA\\goodreads_books.json.ipynb Cell 15\u001b[0m line \u001b[0;36m1\n\u001b[0;32m     <a href='vscode-notebook-cell:/e%3A/LFS/Projects/DataScience/RE_SE/Datasets/Wrangling_EDA/goodreads_books.json.ipynb#X16sZmlsZQ%3D%3D?line=13'>14</a>\u001b[0m items \u001b[39m=\u001b[39m pd\u001b[39m.\u001b[39mconcat((items,temp_df), ignore_index\u001b[39m=\u001b[39m\u001b[39mTrue\u001b[39;00m)\n\u001b[0;32m     <a href='vscode-notebook-cell:/e%3A/LFS/Projects/DataScience/RE_SE/Datasets/Wrangling_EDA/goodreads_books.json.ipynb#X16sZmlsZQ%3D%3D?line=15'>16</a>\u001b[0m \u001b[39m# Read the next chunk\u001b[39;00m\n\u001b[1;32m---> <a href='vscode-notebook-cell:/e%3A/LFS/Projects/DataScience/RE_SE/Datasets/Wrangling_EDA/goodreads_books.json.ipynb#X16sZmlsZQ%3D%3D?line=16'>17</a>\u001b[0m json_chunk \u001b[39m=\u001b[39m [\u001b[39mnext\u001b[39m(f) \u001b[39mfor\u001b[39;00m _ \u001b[39min\u001b[39;00m \u001b[39mrange\u001b[39m(chunk_size)]\n",
      "\u001b[1;32me:\\LFS\\Projects\\DataScience\\RE_SE\\Datasets\\Wrangling_EDA\\goodreads_books.json.ipynb Cell 15\u001b[0m line \u001b[0;36m1\n\u001b[0;32m     <a href='vscode-notebook-cell:/e%3A/LFS/Projects/DataScience/RE_SE/Datasets/Wrangling_EDA/goodreads_books.json.ipynb#X16sZmlsZQ%3D%3D?line=13'>14</a>\u001b[0m items \u001b[39m=\u001b[39m pd\u001b[39m.\u001b[39mconcat((items,temp_df), ignore_index\u001b[39m=\u001b[39m\u001b[39mTrue\u001b[39;00m)\n\u001b[0;32m     <a href='vscode-notebook-cell:/e%3A/LFS/Projects/DataScience/RE_SE/Datasets/Wrangling_EDA/goodreads_books.json.ipynb#X16sZmlsZQ%3D%3D?line=15'>16</a>\u001b[0m \u001b[39m# Read the next chunk\u001b[39;00m\n\u001b[1;32m---> <a href='vscode-notebook-cell:/e%3A/LFS/Projects/DataScience/RE_SE/Datasets/Wrangling_EDA/goodreads_books.json.ipynb#X16sZmlsZQ%3D%3D?line=16'>17</a>\u001b[0m json_chunk \u001b[39m=\u001b[39m [\u001b[39mnext\u001b[39;49m(f) \u001b[39mfor\u001b[39;00m _ \u001b[39min\u001b[39;00m \u001b[39mrange\u001b[39m(chunk_size)]\n",
      "\u001b[1;31mStopIteration\u001b[0m: "
     ]
    }
   ],
   "source": [
    "# chunk_size = 10000\n",
    "\n",
    "# with gzip.open(\"../Initial/goodreads_books.json.gz\") as f:\n",
    "\n",
    "#     json_chunk = [next(f) for _ in range(chunk_size)]\n",
    "    \n",
    "#     while json_chunk:\n",
    "#         temp_dict_chunk = list()\n",
    "#         for line in json_chunk:\n",
    "#             dict_data = parse_fields(line)\n",
    "#             temp_dict_chunk.append(dict_data)\n",
    "        \n",
    "#         temp_df = pd.DataFrame.from_dict(temp_dict_chunk)\n",
    "#         items = pd.concat((items,temp_df), ignore_index=True)\n",
    "\n",
    "#         # Read the next chunk\n",
    "#         json_chunk = [next(f) for _ in range(chunk_size)]"
   ]
  },
  {
   "cell_type": "code",
   "execution_count": 11,
   "metadata": {},
   "outputs": [
    {
     "data": {
      "text/plain": [
       "2360000"
      ]
     },
     "execution_count": 11,
     "metadata": {},
     "output_type": "execute_result"
    }
   ],
   "source": [
    "# len(items)"
   ]
  },
  {
   "cell_type": "markdown",
   "metadata": {},
   "source": [
    "**Insight**\n",
    "- The total number of records = 2,360,655 and we have got = 2,360,000\n",
    "  - We failed to read some data from the end of the file because we have chosen the chunk size as 1000 and the last remaining line count was 655.\n",
    "  - So, the chunk size should be chosen carefully or the function logic should be build carefully to handle the corner cases. "
   ]
  },
  {
   "cell_type": "markdown",
   "metadata": {},
   "source": [
    "**We will use the following method to read the data from the file instead of the above one**\n",
    "- Reading one line at a time\n",
    "- Runtime: 4-5 m\n",
    "- Slightly faster but consumes slightly more memory"
   ]
  },
  {
   "cell_type": "code",
   "execution_count": 3,
   "metadata": {},
   "outputs": [],
   "source": [
    "books = []\n",
    "\n",
    "with gzip.open(\"../Initial/goodreads_books.json.gz\") as f:\n",
    "    while True:\n",
    "        # reading the line\n",
    "        line = f.readline()\n",
    "\n",
    "        # we will break the infinite loop when we reach the end of the dataset file\n",
    "        if not line:\n",
    "            break\n",
    "        \n",
    "        # parsing the line\n",
    "        fields = parse_fields(line)\n",
    "        books.append(fields)"
   ]
  },
  {
   "cell_type": "markdown",
   "metadata": {},
   "source": [
    "**Total number of books**"
   ]
  },
  {
   "cell_type": "code",
   "execution_count": 4,
   "metadata": {},
   "outputs": [
    {
     "data": {
      "text/plain": [
       "2360655"
      ]
     },
     "execution_count": 4,
     "metadata": {},
     "output_type": "execute_result"
    }
   ],
   "source": [
    "len(books)"
   ]
  },
  {
   "cell_type": "markdown",
   "metadata": {},
   "source": [
    "**Insight**\n",
    "- There are 2,360,655 book records in total"
   ]
  },
  {
   "cell_type": "code",
   "execution_count": 5,
   "metadata": {},
   "outputs": [
    {
     "data": {
      "text/plain": [
       "{'isbn': '0312853122',\n",
       " 'text_reviews_count': '1',\n",
       " 'series': [],\n",
       " 'country_code': 'US',\n",
       " 'language_code': '',\n",
       " 'asin': '',\n",
       " 'is_ebook': 'false',\n",
       " 'average_rating': '4.00',\n",
       " 'kindle_asin': '',\n",
       " 'similar_books': [],\n",
       " 'description': '',\n",
       " 'format': 'Paperback',\n",
       " 'link': 'https://www.goodreads.com/book/show/5333265-w-c-fields',\n",
       " 'authors': [{'author_id': '604031', 'role': ''}],\n",
       " 'publisher': \"St. Martin's Press\",\n",
       " 'num_pages': '256',\n",
       " 'publication_day': '1',\n",
       " 'isbn13': '9780312853129',\n",
       " 'publication_month': '9',\n",
       " 'publication_year': '1984',\n",
       " 'url': 'https://www.goodreads.com/book/show/5333265-w-c-fields',\n",
       " 'image_url': 'https://images.gr-assets.com/books/1310220028m/5333265.jpg',\n",
       " 'book_id': '5333265',\n",
       " 'ratings_count': '3',\n",
       " 'title_without_series': 'W.C. Fields: A Life on Film'}"
      ]
     },
     "execution_count": 5,
     "metadata": {},
     "output_type": "execute_result"
    }
   ],
   "source": [
    "books[0]"
   ]
  },
  {
   "cell_type": "markdown",
   "metadata": {},
   "source": [
    "**Creating a DataFrame**"
   ]
  },
  {
   "cell_type": "code",
   "execution_count": 6,
   "metadata": {},
   "outputs": [],
   "source": [
    "items = pd.DataFrame.from_dict(books)"
   ]
  },
  {
   "cell_type": "markdown",
   "metadata": {},
   "source": [
    "**Rows and Columns of the DataFrame**"
   ]
  },
  {
   "cell_type": "code",
   "execution_count": 7,
   "metadata": {},
   "outputs": [
    {
     "name": "stdout",
     "output_type": "stream",
     "text": [
      "Rows: 2360655\n",
      "Columns: 25\n"
     ]
    }
   ],
   "source": [
    "print(f\"Rows: {items.shape[0]}\")\n",
    "print(f\"Columns: {items.shape[1]}\")"
   ]
  },
  {
   "cell_type": "markdown",
   "metadata": {},
   "source": [
    "**We don't need the `books` object anymore**\n",
    "- Deleting the object from namespace and forcing Python for garbage collection (if required)\n",
    "- The `del` method only removes the variable from the namespace and it does not remove the variable from the memory space\n",
    "- To clear the variable from memory we can use the gc.collect() method"
   ]
  },
  {
   "cell_type": "code",
   "execution_count": 8,
   "metadata": {},
   "outputs": [],
   "source": [
    "del(books)"
   ]
  },
  {
   "cell_type": "code",
   "execution_count": 15,
   "metadata": {},
   "outputs": [
    {
     "data": {
      "text/plain": [
       "644"
      ]
     },
     "execution_count": 15,
     "metadata": {},
     "output_type": "execute_result"
    }
   ],
   "source": [
    "gc.collect()"
   ]
  },
  {
   "cell_type": "markdown",
   "metadata": {},
   "source": [
    "### EDA - Complete Dataset"
   ]
  },
  {
   "cell_type": "code",
   "execution_count": 10,
   "metadata": {},
   "outputs": [
    {
     "data": {
      "text/html": [
       "<div>\n",
       "<style scoped>\n",
       "    .dataframe tbody tr th:only-of-type {\n",
       "        vertical-align: middle;\n",
       "    }\n",
       "\n",
       "    .dataframe tbody tr th {\n",
       "        vertical-align: top;\n",
       "    }\n",
       "\n",
       "    .dataframe thead th {\n",
       "        text-align: right;\n",
       "    }\n",
       "</style>\n",
       "<table border=\"1\" class=\"dataframe\">\n",
       "  <thead>\n",
       "    <tr style=\"text-align: right;\">\n",
       "      <th></th>\n",
       "      <th>isbn</th>\n",
       "      <th>text_reviews_count</th>\n",
       "      <th>series</th>\n",
       "      <th>country_code</th>\n",
       "      <th>language_code</th>\n",
       "      <th>asin</th>\n",
       "      <th>is_ebook</th>\n",
       "      <th>average_rating</th>\n",
       "      <th>kindle_asin</th>\n",
       "      <th>similar_books</th>\n",
       "      <th>...</th>\n",
       "      <th>num_pages</th>\n",
       "      <th>publication_day</th>\n",
       "      <th>isbn13</th>\n",
       "      <th>publication_month</th>\n",
       "      <th>publication_year</th>\n",
       "      <th>url</th>\n",
       "      <th>image_url</th>\n",
       "      <th>book_id</th>\n",
       "      <th>ratings_count</th>\n",
       "      <th>title_without_series</th>\n",
       "    </tr>\n",
       "  </thead>\n",
       "  <tbody>\n",
       "    <tr>\n",
       "      <th>0</th>\n",
       "      <td>0312853122</td>\n",
       "      <td>1</td>\n",
       "      <td>[]</td>\n",
       "      <td>US</td>\n",
       "      <td></td>\n",
       "      <td></td>\n",
       "      <td>false</td>\n",
       "      <td>4.00</td>\n",
       "      <td></td>\n",
       "      <td>[]</td>\n",
       "      <td>...</td>\n",
       "      <td>256</td>\n",
       "      <td>1</td>\n",
       "      <td>9780312853129</td>\n",
       "      <td>9</td>\n",
       "      <td>1984</td>\n",
       "      <td>https://www.goodreads.com/book/show/5333265-w-...</td>\n",
       "      <td>https://images.gr-assets.com/books/1310220028m...</td>\n",
       "      <td>5333265</td>\n",
       "      <td>3</td>\n",
       "      <td>W.C. Fields: A Life on Film</td>\n",
       "    </tr>\n",
       "    <tr>\n",
       "      <th>1</th>\n",
       "      <td>0743509986</td>\n",
       "      <td>6</td>\n",
       "      <td>[]</td>\n",
       "      <td>US</td>\n",
       "      <td></td>\n",
       "      <td></td>\n",
       "      <td>false</td>\n",
       "      <td>3.23</td>\n",
       "      <td>B000FC0PBC</td>\n",
       "      <td>[8709549, 17074050, 28937, 158816, 228563, 112...</td>\n",
       "      <td>...</td>\n",
       "      <td></td>\n",
       "      <td>1</td>\n",
       "      <td>9780743509985</td>\n",
       "      <td>10</td>\n",
       "      <td>2001</td>\n",
       "      <td>https://www.goodreads.com/book/show/1333909.Go...</td>\n",
       "      <td>https://s.gr-assets.com/assets/nophoto/book/11...</td>\n",
       "      <td>1333909</td>\n",
       "      <td>10</td>\n",
       "      <td>Good Harbor</td>\n",
       "    </tr>\n",
       "    <tr>\n",
       "      <th>2</th>\n",
       "      <td></td>\n",
       "      <td>7</td>\n",
       "      <td>[189911]</td>\n",
       "      <td>US</td>\n",
       "      <td>eng</td>\n",
       "      <td>B00071IKUY</td>\n",
       "      <td>false</td>\n",
       "      <td>4.03</td>\n",
       "      <td></td>\n",
       "      <td>[19997, 828466, 1569323, 425389, 1176674, 2627...</td>\n",
       "      <td>...</td>\n",
       "      <td>600</td>\n",
       "      <td></td>\n",
       "      <td></td>\n",
       "      <td></td>\n",
       "      <td>1987</td>\n",
       "      <td>https://www.goodreads.com/book/show/7327624-th...</td>\n",
       "      <td>https://images.gr-assets.com/books/1304100136m...</td>\n",
       "      <td>7327624</td>\n",
       "      <td>140</td>\n",
       "      <td>The Unschooled Wizard (Sun Wolf and Starhawk, ...</td>\n",
       "    </tr>\n",
       "    <tr>\n",
       "      <th>3</th>\n",
       "      <td>0743294297</td>\n",
       "      <td>3282</td>\n",
       "      <td>[]</td>\n",
       "      <td>US</td>\n",
       "      <td>eng</td>\n",
       "      <td></td>\n",
       "      <td>false</td>\n",
       "      <td>3.49</td>\n",
       "      <td>B002ENBLOK</td>\n",
       "      <td>[6604176, 6054190, 2285777, 82641, 7569453, 70...</td>\n",
       "      <td>...</td>\n",
       "      <td>368</td>\n",
       "      <td>14</td>\n",
       "      <td>9780743294294</td>\n",
       "      <td>7</td>\n",
       "      <td>2009</td>\n",
       "      <td>https://www.goodreads.com/book/show/6066819-be...</td>\n",
       "      <td>https://s.gr-assets.com/assets/nophoto/book/11...</td>\n",
       "      <td>6066819</td>\n",
       "      <td>51184</td>\n",
       "      <td>Best Friends Forever</td>\n",
       "    </tr>\n",
       "    <tr>\n",
       "      <th>4</th>\n",
       "      <td>0850308712</td>\n",
       "      <td>5</td>\n",
       "      <td>[]</td>\n",
       "      <td>US</td>\n",
       "      <td></td>\n",
       "      <td></td>\n",
       "      <td>false</td>\n",
       "      <td>3.40</td>\n",
       "      <td></td>\n",
       "      <td>[]</td>\n",
       "      <td>...</td>\n",
       "      <td></td>\n",
       "      <td></td>\n",
       "      <td>9780850308716</td>\n",
       "      <td></td>\n",
       "      <td></td>\n",
       "      <td>https://www.goodreads.com/book/show/287140.Run...</td>\n",
       "      <td>https://images.gr-assets.com/books/1413219371m...</td>\n",
       "      <td>287140</td>\n",
       "      <td>15</td>\n",
       "      <td>Runic Astrology: Starcraft and Timekeeping in ...</td>\n",
       "    </tr>\n",
       "  </tbody>\n",
       "</table>\n",
       "<p>5 rows × 25 columns</p>\n",
       "</div>"
      ],
      "text/plain": [
       "         isbn text_reviews_count    series country_code language_code  \\\n",
       "0  0312853122                  1        []           US                 \n",
       "1  0743509986                  6        []           US                 \n",
       "2                              7  [189911]           US           eng   \n",
       "3  0743294297               3282        []           US           eng   \n",
       "4  0850308712                  5        []           US                 \n",
       "\n",
       "         asin is_ebook average_rating kindle_asin  \\\n",
       "0                false           4.00               \n",
       "1                false           3.23  B000FC0PBC   \n",
       "2  B00071IKUY    false           4.03               \n",
       "3                false           3.49  B002ENBLOK   \n",
       "4                false           3.40               \n",
       "\n",
       "                                       similar_books  ... num_pages  \\\n",
       "0                                                 []  ...       256   \n",
       "1  [8709549, 17074050, 28937, 158816, 228563, 112...  ...             \n",
       "2  [19997, 828466, 1569323, 425389, 1176674, 2627...  ...       600   \n",
       "3  [6604176, 6054190, 2285777, 82641, 7569453, 70...  ...       368   \n",
       "4                                                 []  ...             \n",
       "\n",
       "  publication_day         isbn13 publication_month publication_year  \\\n",
       "0               1  9780312853129                 9             1984   \n",
       "1               1  9780743509985                10             2001   \n",
       "2                                                              1987   \n",
       "3              14  9780743294294                 7             2009   \n",
       "4                  9780850308716                                      \n",
       "\n",
       "                                                 url  \\\n",
       "0  https://www.goodreads.com/book/show/5333265-w-...   \n",
       "1  https://www.goodreads.com/book/show/1333909.Go...   \n",
       "2  https://www.goodreads.com/book/show/7327624-th...   \n",
       "3  https://www.goodreads.com/book/show/6066819-be...   \n",
       "4  https://www.goodreads.com/book/show/287140.Run...   \n",
       "\n",
       "                                           image_url  book_id ratings_count  \\\n",
       "0  https://images.gr-assets.com/books/1310220028m...  5333265             3   \n",
       "1  https://s.gr-assets.com/assets/nophoto/book/11...  1333909            10   \n",
       "2  https://images.gr-assets.com/books/1304100136m...  7327624           140   \n",
       "3  https://s.gr-assets.com/assets/nophoto/book/11...  6066819         51184   \n",
       "4  https://images.gr-assets.com/books/1413219371m...   287140            15   \n",
       "\n",
       "                                title_without_series  \n",
       "0                        W.C. Fields: A Life on Film  \n",
       "1                                        Good Harbor  \n",
       "2  The Unschooled Wizard (Sun Wolf and Starhawk, ...  \n",
       "3                               Best Friends Forever  \n",
       "4  Runic Astrology: Starcraft and Timekeeping in ...  \n",
       "\n",
       "[5 rows x 25 columns]"
      ]
     },
     "execution_count": 10,
     "metadata": {},
     "output_type": "execute_result"
    }
   ],
   "source": [
    "items.head()"
   ]
  },
  {
   "cell_type": "markdown",
   "metadata": {},
   "source": [
    "**Number of unique book_id**"
   ]
  },
  {
   "cell_type": "code",
   "execution_count": 12,
   "metadata": {},
   "outputs": [
    {
     "data": {
      "text/plain": [
       "(2360655,)"
      ]
     },
     "execution_count": 12,
     "metadata": {},
     "output_type": "execute_result"
    }
   ],
   "source": [
    "items[\"book_id\"].unique().shape"
   ]
  },
  {
   "cell_type": "markdown",
   "metadata": {},
   "source": [
    "**Insight**\n",
    "- All the books have unique book_id = 2,360,655\n",
    "\n",
    "```\n",
    "Rows: 2360655\n",
    "```"
   ]
  },
  {
   "cell_type": "markdown",
   "metadata": {},
   "source": [
    "**Checking for null values**"
   ]
  },
  {
   "cell_type": "code",
   "execution_count": 16,
   "metadata": {},
   "outputs": [
    {
     "data": {
      "text/plain": [
       "isbn                    0\n",
       "text_reviews_count      0\n",
       "series                  0\n",
       "country_code            0\n",
       "language_code           0\n",
       "asin                    0\n",
       "is_ebook                0\n",
       "average_rating          0\n",
       "kindle_asin             0\n",
       "similar_books           0\n",
       "description             0\n",
       "format                  0\n",
       "link                    0\n",
       "authors                 0\n",
       "publisher               0\n",
       "num_pages               0\n",
       "publication_day         0\n",
       "isbn13                  0\n",
       "publication_month       0\n",
       "publication_year        0\n",
       "url                     0\n",
       "image_url               0\n",
       "book_id                 0\n",
       "ratings_count           0\n",
       "title_without_series    0\n",
       "dtype: int64"
      ]
     },
     "execution_count": 16,
     "metadata": {},
     "output_type": "execute_result"
    }
   ],
   "source": [
    "items.isnull().sum()"
   ]
  },
  {
   "cell_type": "markdown",
   "metadata": {},
   "source": [
    "**Insight**\n",
    "- Although we can visually see empty data but null values are not there"
   ]
  },
  {
   "cell_type": "markdown",
   "metadata": {},
   "source": [
    "#### `title_without_series` Column"
   ]
  },
  {
   "cell_type": "code",
   "execution_count": 63,
   "metadata": {},
   "outputs": [
    {
     "data": {
      "text/plain": [
       "(7, 25)"
      ]
     },
     "execution_count": 63,
     "metadata": {},
     "output_type": "execute_result"
    }
   ],
   "source": [
    "items.loc[items[\"title_without_series\"].str.len() == 0].shape"
   ]
  },
  {
   "cell_type": "code",
   "execution_count": null,
   "metadata": {},
   "outputs": [],
   "source": [
    "# items.loc[items[\"title_without_series\"].str.len() == 0]"
   ]
  },
  {
   "cell_type": "code",
   "execution_count": null,
   "metadata": {},
   "outputs": [],
   "source": [
    "# items.loc[items[\"title_without_series\"].str.len() == 0, \"book_id\"].values"
   ]
  },
  {
   "cell_type": "markdown",
   "metadata": {},
   "source": [
    "**Insight**\n",
    "- There are 7 books without any title (len == 0)\n",
    "  - ['2433394', '6046733', '29522179', '23280835', '10192004',\n",
    "       '25423066', '7807037']"
   ]
  },
  {
   "cell_type": "code",
   "execution_count": 71,
   "metadata": {},
   "outputs": [
    {
     "data": {
      "text/plain": [
       "(248, 25)"
      ]
     },
     "execution_count": 71,
     "metadata": {},
     "output_type": "execute_result"
    }
   ],
   "source": [
    "items.loc[items[\"title_without_series\"].str.len() == 1].shape"
   ]
  },
  {
   "cell_type": "code",
   "execution_count": null,
   "metadata": {},
   "outputs": [],
   "source": [
    "# items.loc[items[\"title_without_series\"].str.len() == 1]"
   ]
  },
  {
   "cell_type": "markdown",
   "metadata": {},
   "source": [
    "**Insight**\n",
    "- I have crosschecked some titles from the associated link and their names seems correct for most opf the cases (9 out of 10)\n",
    "  - 1, NOT OKAY => Actual Title: Sunk\n",
    "  - X, OKAY\n",
    "  - 5, OKAY\n",
    "  - Y, OKAY\n",
    "  - C, OKAY\n",
    "  - 6, OKAY\n",
    "  - 7, OKAY\n",
    "  - Q, OKAY\n",
    "  - L, OKAY\n",
    "  - Y, OKAY (Not as the same Y as above)\n",
    "- So, we will keep the records"
   ]
  },
  {
   "cell_type": "markdown",
   "metadata": {},
   "source": [
    "#### `isbn` Column Wrangling"
   ]
  },
  {
   "cell_type": "code",
   "execution_count": 18,
   "metadata": {},
   "outputs": [
    {
     "data": {
      "text/plain": [
       "(983373, 25)"
      ]
     },
     "execution_count": 18,
     "metadata": {},
     "output_type": "execute_result"
    }
   ],
   "source": [
    "items.loc[items[\"isbn\"].str.len() < 1].shape"
   ]
  },
  {
   "cell_type": "code",
   "execution_count": null,
   "metadata": {},
   "outputs": [],
   "source": [
    "# items.loc[items[\"isbn\"].str.len() < 1].sample(5)"
   ]
  },
  {
   "cell_type": "code",
   "execution_count": 24,
   "metadata": {},
   "outputs": [
    {
     "data": {
      "text/plain": [
       "(2829, 25)"
      ]
     },
     "execution_count": 24,
     "metadata": {},
     "output_type": "execute_result"
    }
   ],
   "source": [
    "items.loc[(items[\"isbn\"].str.len() > 0) & (items[\"isbn\"].str.len() < 10)].shape"
   ]
  },
  {
   "cell_type": "code",
   "execution_count": null,
   "metadata": {},
   "outputs": [],
   "source": [
    "# items.loc[(items[\"isbn\"].str.len() > 0) & (items[\"isbn\"].str.len() < 10)].sample(5)"
   ]
  },
  {
   "cell_type": "code",
   "execution_count": 34,
   "metadata": {},
   "outputs": [
    {
     "data": {
      "text/plain": [
       "(0, 25)"
      ]
     },
     "execution_count": 34,
     "metadata": {},
     "output_type": "execute_result"
    }
   ],
   "source": [
    "items.loc[items[\"isbn\"].str.len() > 10].shape"
   ]
  },
  {
   "cell_type": "code",
   "execution_count": 35,
   "metadata": {},
   "outputs": [
    {
     "data": {
      "text/plain": [
       "(1374453, 25)"
      ]
     },
     "execution_count": 35,
     "metadata": {},
     "output_type": "execute_result"
    }
   ],
   "source": [
    "items.loc[items[\"isbn\"].str.len() == 10].shape"
   ]
  },
  {
   "cell_type": "code",
   "execution_count": 36,
   "metadata": {},
   "outputs": [
    {
     "data": {
      "text/plain": [
       "2360655"
      ]
     },
     "execution_count": 36,
     "metadata": {},
     "output_type": "execute_result"
    }
   ],
   "source": [
    "1374453 + 2829 + 983373"
   ]
  },
  {
   "cell_type": "code",
   "execution_count": 52,
   "metadata": {},
   "outputs": [
    {
     "data": {
      "text/plain": [
       "(121243, 25)"
      ]
     },
     "execution_count": 52,
     "metadata": {},
     "output_type": "execute_result"
    }
   ],
   "source": [
    "items.loc[(items[\"isbn\"].str.len() == 10) & (items[\"isbn\"].str.isdigit() == False)].shape"
   ]
  },
  {
   "cell_type": "code",
   "execution_count": null,
   "metadata": {},
   "outputs": [],
   "source": [
    "# items.loc[(items[\"isbn\"].str.len() == 10) & (items[\"isbn\"].str.isdigit() == False)].sample(5)"
   ]
  },
  {
   "cell_type": "code",
   "execution_count": 58,
   "metadata": {},
   "outputs": [
    {
     "data": {
      "text/plain": [
       "(117288, 25)"
      ]
     },
     "execution_count": 58,
     "metadata": {},
     "output_type": "execute_result"
    }
   ],
   "source": [
    "items.loc[(items[\"isbn\"].str.len() == 10) & (items[\"isbn\"].str.endswith(\"X\") == True)].shape"
   ]
  },
  {
   "cell_type": "code",
   "execution_count": 62,
   "metadata": {},
   "outputs": [
    {
     "data": {
      "text/plain": [
       "(0, 25)"
      ]
     },
     "execution_count": 62,
     "metadata": {},
     "output_type": "execute_result"
    }
   ],
   "source": [
    "items.loc[(items[\"isbn\"].str.len() == 10) & (items[\"isbn\"].str.endswith('[a-zA-Z]'))].shape"
   ]
  },
  {
   "cell_type": "markdown",
   "metadata": {},
   "source": [
    "**Insight**\n",
    "- Any ISBN with length more than 0 less than 10 digit long or alphanumeric can be considered as invalid = 2,829\n",
    "- Any ISBN with length less than 1 can be considered missing = 983,373\n",
    "- There is no ISBN with length more than 10"
   ]
  },
  {
   "cell_type": "markdown",
   "metadata": {},
   "source": [
    "**We don't need the `books` object anymore**\n",
    "- Deleting the object from namespace and forcing Python for garbage collection (if required)\n",
    "- The `del` method only removes the variable from the namespace and it does not remove the variable from the memory space\n",
    "- To clear the variable from memory we can use the gc.collect() method"
   ]
  },
  {
   "cell_type": "code",
   "execution_count": 15,
   "metadata": {},
   "outputs": [
    {
     "data": {
      "text/plain": [
       "0"
      ]
     },
     "execution_count": 15,
     "metadata": {},
     "output_type": "execute_result"
    }
   ],
   "source": [
    "del(books)\n",
    "gc.collect()"
   ]
  },
  {
   "cell_type": "markdown",
   "metadata": {},
   "source": [
    "### Exploratory Data Analysis"
   ]
  },
  {
   "cell_type": "markdown",
   "metadata": {},
   "source": [
    "**List of Columns**"
   ]
  },
  {
   "cell_type": "code",
   "execution_count": 16,
   "metadata": {},
   "outputs": [
    {
     "data": {
      "text/plain": [
       "['isbn',\n",
       " 'average_rating',\n",
       " 'similar_books',\n",
       " 'description',\n",
       " 'link',\n",
       " 'authors',\n",
       " 'publisher',\n",
       " 'num_pages',\n",
       " 'publication_day',\n",
       " 'publication_month',\n",
       " 'publication_year',\n",
       " 'isbn13',\n",
       " 'url',\n",
       " 'image_url',\n",
       " 'gr_book_id',\n",
       " 'ratings_count',\n",
       " 'title']"
      ]
     },
     "execution_count": 16,
     "metadata": {},
     "output_type": "execute_result"
    }
   ],
   "source": [
    "list(items.columns)"
   ]
  },
  {
   "cell_type": "code",
   "execution_count": 17,
   "metadata": {},
   "outputs": [
    {
     "data": {
      "text/html": [
       "<div>\n",
       "<style scoped>\n",
       "    .dataframe tbody tr th:only-of-type {\n",
       "        vertical-align: middle;\n",
       "    }\n",
       "\n",
       "    .dataframe tbody tr th {\n",
       "        vertical-align: top;\n",
       "    }\n",
       "\n",
       "    .dataframe thead th {\n",
       "        text-align: right;\n",
       "    }\n",
       "</style>\n",
       "<table border=\"1\" class=\"dataframe\">\n",
       "  <thead>\n",
       "    <tr style=\"text-align: right;\">\n",
       "      <th></th>\n",
       "      <th>isbn</th>\n",
       "      <th>average_rating</th>\n",
       "      <th>similar_books</th>\n",
       "      <th>description</th>\n",
       "      <th>link</th>\n",
       "      <th>authors</th>\n",
       "      <th>publisher</th>\n",
       "      <th>num_pages</th>\n",
       "      <th>publication_day</th>\n",
       "      <th>publication_month</th>\n",
       "      <th>publication_year</th>\n",
       "      <th>isbn13</th>\n",
       "      <th>url</th>\n",
       "      <th>image_url</th>\n",
       "      <th>gr_book_id</th>\n",
       "      <th>ratings_count</th>\n",
       "      <th>title</th>\n",
       "    </tr>\n",
       "  </thead>\n",
       "  <tbody>\n",
       "    <tr>\n",
       "      <th>0</th>\n",
       "      <td></td>\n",
       "      <td>4.03</td>\n",
       "      <td>[19997, 828466, 1569323, 425389, 1176674, 2627...</td>\n",
       "      <td>Omnibus book club edition containing the Ladie...</td>\n",
       "      <td>https://www.goodreads.com/book/show/7327624-th...</td>\n",
       "      <td>[{'author_id': '10333', 'role': ''}]</td>\n",
       "      <td>Nelson Doubleday, Inc.</td>\n",
       "      <td>600</td>\n",
       "      <td></td>\n",
       "      <td></td>\n",
       "      <td>1987</td>\n",
       "      <td></td>\n",
       "      <td>https://www.goodreads.com/book/show/7327624-th...</td>\n",
       "      <td>https://images.gr-assets.com/books/1304100136m...</td>\n",
       "      <td>7327624</td>\n",
       "      <td>140</td>\n",
       "      <td>The Unschooled Wizard (Sun Wolf and Starhawk, ...</td>\n",
       "    </tr>\n",
       "    <tr>\n",
       "      <th>1</th>\n",
       "      <td>0743294297</td>\n",
       "      <td>3.49</td>\n",
       "      <td>[6604176, 6054190, 2285777, 82641, 7569453, 70...</td>\n",
       "      <td>Addie Downs and Valerie Adler were eight when ...</td>\n",
       "      <td>https://www.goodreads.com/book/show/6066819-be...</td>\n",
       "      <td>[{'author_id': '9212', 'role': ''}]</td>\n",
       "      <td>Atria Books</td>\n",
       "      <td>368</td>\n",
       "      <td>14</td>\n",
       "      <td>7</td>\n",
       "      <td>2009</td>\n",
       "      <td>9780743294294</td>\n",
       "      <td>https://www.goodreads.com/book/show/6066819-be...</td>\n",
       "      <td>https://s.gr-assets.com/assets/nophoto/book/11...</td>\n",
       "      <td>6066819</td>\n",
       "      <td>51184</td>\n",
       "      <td>Best Friends Forever</td>\n",
       "    </tr>\n",
       "    <tr>\n",
       "      <th>2</th>\n",
       "      <td>1599150603</td>\n",
       "      <td>4.13</td>\n",
       "      <td>[]</td>\n",
       "      <td>Relates in vigorous prose the tale of Aeneas, ...</td>\n",
       "      <td>https://www.goodreads.com/book/show/287141.The...</td>\n",
       "      <td>[{'author_id': '3041852', 'role': ''}]</td>\n",
       "      <td>Yesterday's Classics</td>\n",
       "      <td>162</td>\n",
       "      <td>13</td>\n",
       "      <td>9</td>\n",
       "      <td>2006</td>\n",
       "      <td>9781599150604</td>\n",
       "      <td>https://www.goodreads.com/book/show/287141.The...</td>\n",
       "      <td>https://s.gr-assets.com/assets/nophoto/book/11...</td>\n",
       "      <td>287141</td>\n",
       "      <td>46</td>\n",
       "      <td>The Aeneid for Boys and Girls</td>\n",
       "    </tr>\n",
       "    <tr>\n",
       "      <th>3</th>\n",
       "      <td>1934876569</td>\n",
       "      <td>4.22</td>\n",
       "      <td>[948696, 439885, 274955, 12978730, 372986, 216...</td>\n",
       "      <td>To Kara's astonishment, she discovers that a p...</td>\n",
       "      <td>https://www.goodreads.com/book/show/6066812-al...</td>\n",
       "      <td>[{'author_id': '19158', 'role': ''}]</td>\n",
       "      <td>Seven Seas</td>\n",
       "      <td>216</td>\n",
       "      <td>3</td>\n",
       "      <td>3</td>\n",
       "      <td>2009</td>\n",
       "      <td>9781934876565</td>\n",
       "      <td>https://www.goodreads.com/book/show/6066812-al...</td>\n",
       "      <td>https://images.gr-assets.com/books/1316637798m...</td>\n",
       "      <td>6066812</td>\n",
       "      <td>98</td>\n",
       "      <td>All's Fairy in Love and War (Avalon: Web of Ma...</td>\n",
       "    </tr>\n",
       "    <tr>\n",
       "      <th>4</th>\n",
       "      <td>0922915113</td>\n",
       "      <td>3.81</td>\n",
       "      <td>[287151, 1104760, 1172822, 440292, 287082, 630...</td>\n",
       "      <td>Wisdom, humor, and dark observations by the fo...</td>\n",
       "      <td>https://www.goodreads.com/book/show/287149.The...</td>\n",
       "      <td>[{'author_id': '2983296', 'role': ''}, {'autho...</td>\n",
       "      <td>Feral House</td>\n",
       "      <td>147</td>\n",
       "      <td>1</td>\n",
       "      <td>4</td>\n",
       "      <td>2000</td>\n",
       "      <td>9780922915118</td>\n",
       "      <td>https://www.goodreads.com/book/show/287149.The...</td>\n",
       "      <td>https://images.gr-assets.com/books/1328768789m...</td>\n",
       "      <td>287149</td>\n",
       "      <td>986</td>\n",
       "      <td>The Devil's Notebook</td>\n",
       "    </tr>\n",
       "  </tbody>\n",
       "</table>\n",
       "</div>"
      ],
      "text/plain": [
       "         isbn average_rating  \\\n",
       "0                       4.03   \n",
       "1  0743294297           3.49   \n",
       "2  1599150603           4.13   \n",
       "3  1934876569           4.22   \n",
       "4  0922915113           3.81   \n",
       "\n",
       "                                       similar_books  \\\n",
       "0  [19997, 828466, 1569323, 425389, 1176674, 2627...   \n",
       "1  [6604176, 6054190, 2285777, 82641, 7569453, 70...   \n",
       "2                                                 []   \n",
       "3  [948696, 439885, 274955, 12978730, 372986, 216...   \n",
       "4  [287151, 1104760, 1172822, 440292, 287082, 630...   \n",
       "\n",
       "                                         description  \\\n",
       "0  Omnibus book club edition containing the Ladie...   \n",
       "1  Addie Downs and Valerie Adler were eight when ...   \n",
       "2  Relates in vigorous prose the tale of Aeneas, ...   \n",
       "3  To Kara's astonishment, she discovers that a p...   \n",
       "4  Wisdom, humor, and dark observations by the fo...   \n",
       "\n",
       "                                                link  \\\n",
       "0  https://www.goodreads.com/book/show/7327624-th...   \n",
       "1  https://www.goodreads.com/book/show/6066819-be...   \n",
       "2  https://www.goodreads.com/book/show/287141.The...   \n",
       "3  https://www.goodreads.com/book/show/6066812-al...   \n",
       "4  https://www.goodreads.com/book/show/287149.The...   \n",
       "\n",
       "                                             authors               publisher  \\\n",
       "0               [{'author_id': '10333', 'role': ''}]  Nelson Doubleday, Inc.   \n",
       "1                [{'author_id': '9212', 'role': ''}]             Atria Books   \n",
       "2             [{'author_id': '3041852', 'role': ''}]    Yesterday's Classics   \n",
       "3               [{'author_id': '19158', 'role': ''}]              Seven Seas   \n",
       "4  [{'author_id': '2983296', 'role': ''}, {'autho...             Feral House   \n",
       "\n",
       "  num_pages publication_day publication_month publication_year         isbn13  \\\n",
       "0       600                                               1987                  \n",
       "1       368              14                 7             2009  9780743294294   \n",
       "2       162              13                 9             2006  9781599150604   \n",
       "3       216               3                 3             2009  9781934876565   \n",
       "4       147               1                 4             2000  9780922915118   \n",
       "\n",
       "                                                 url  \\\n",
       "0  https://www.goodreads.com/book/show/7327624-th...   \n",
       "1  https://www.goodreads.com/book/show/6066819-be...   \n",
       "2  https://www.goodreads.com/book/show/287141.The...   \n",
       "3  https://www.goodreads.com/book/show/6066812-al...   \n",
       "4  https://www.goodreads.com/book/show/287149.The...   \n",
       "\n",
       "                                           image_url gr_book_id ratings_count  \\\n",
       "0  https://images.gr-assets.com/books/1304100136m...    7327624           140   \n",
       "1  https://s.gr-assets.com/assets/nophoto/book/11...    6066819         51184   \n",
       "2  https://s.gr-assets.com/assets/nophoto/book/11...     287141            46   \n",
       "3  https://images.gr-assets.com/books/1316637798m...    6066812            98   \n",
       "4  https://images.gr-assets.com/books/1328768789m...     287149           986   \n",
       "\n",
       "                                               title  \n",
       "0  The Unschooled Wizard (Sun Wolf and Starhawk, ...  \n",
       "1                               Best Friends Forever  \n",
       "2                      The Aeneid for Boys and Girls  \n",
       "3  All's Fairy in Love and War (Avalon: Web of Ma...  \n",
       "4                               The Devil's Notebook  "
      ]
     },
     "execution_count": 17,
     "metadata": {},
     "output_type": "execute_result"
    }
   ],
   "source": [
    "items.head()"
   ]
  },
  {
   "cell_type": "markdown",
   "metadata": {},
   "source": [
    "**Checking for null values**"
   ]
  },
  {
   "cell_type": "code",
   "execution_count": 18,
   "metadata": {},
   "outputs": [
    {
     "data": {
      "text/plain": [
       "isbn                 0\n",
       "average_rating       0\n",
       "similar_books        0\n",
       "description          0\n",
       "link                 0\n",
       "authors              0\n",
       "publisher            0\n",
       "num_pages            0\n",
       "publication_day      0\n",
       "publication_month    0\n",
       "publication_year     0\n",
       "isbn13               0\n",
       "url                  0\n",
       "image_url            0\n",
       "gr_book_id           0\n",
       "ratings_count        0\n",
       "title                0\n",
       "dtype: int64"
      ]
     },
     "execution_count": 18,
     "metadata": {},
     "output_type": "execute_result"
    }
   ],
   "source": [
    "items.isnull().sum()"
   ]
  },
  {
   "cell_type": "markdown",
   "metadata": {},
   "source": [
    "**Insight**\n",
    "- Although we can visually see empty data but null values are not there"
   ]
  },
  {
   "cell_type": "markdown",
   "metadata": {},
   "source": [
    "**Looking at datatypes of the values from individual columns of a single record**\n",
    "- We will extract the data from each column from any one record and check the details"
   ]
  },
  {
   "cell_type": "code",
   "execution_count": 19,
   "metadata": {},
   "outputs": [
    {
     "data": {
      "text/plain": [
       "isbn                                                                  \n",
       "average_rating                                                    4.03\n",
       "similar_books        [19997, 828466, 1569323, 425389, 1176674, 2627...\n",
       "description          Omnibus book club edition containing the Ladie...\n",
       "link                 https://www.goodreads.com/book/show/7327624-th...\n",
       "authors                           [{'author_id': '10333', 'role': ''}]\n",
       "publisher                                       Nelson Doubleday, Inc.\n",
       "num_pages                                                          600\n",
       "publication_day                                                       \n",
       "publication_month                                                     \n",
       "publication_year                                                  1987\n",
       "isbn13                                                                \n",
       "url                  https://www.goodreads.com/book/show/7327624-th...\n",
       "image_url            https://images.gr-assets.com/books/1304100136m...\n",
       "gr_book_id                                                     7327624\n",
       "ratings_count                                                      140\n",
       "title                The Unschooled Wizard (Sun Wolf and Starhawk, ...\n",
       "Name: 0, dtype: object"
      ]
     },
     "execution_count": 19,
     "metadata": {},
     "output_type": "execute_result"
    }
   ],
   "source": [
    "single_record = items.iloc[0]\n",
    "single_record"
   ]
  },
  {
   "cell_type": "code",
   "execution_count": 20,
   "metadata": {},
   "outputs": [
    {
     "name": "stdout",
     "output_type": "stream",
     "text": [
      "Column: isbn \t - Datatype: <class 'str'>\n",
      "Column: average_rating \t - Datatype: <class 'str'>\n",
      "Column: similar_books \t - Datatype: <class 'list'>\n",
      "Column: description \t - Datatype: <class 'str'>\n",
      "Column: link \t - Datatype: <class 'str'>\n",
      "Column: authors \t - Datatype: <class 'list'>\n",
      "Column: publisher \t - Datatype: <class 'str'>\n",
      "Column: num_pages \t - Datatype: <class 'str'>\n",
      "Column: publication_day \t - Datatype: <class 'str'>\n",
      "Column: publication_month \t - Datatype: <class 'str'>\n",
      "Column: publication_year \t - Datatype: <class 'str'>\n",
      "Column: isbn13 \t - Datatype: <class 'str'>\n",
      "Column: url \t - Datatype: <class 'str'>\n",
      "Column: image_url \t - Datatype: <class 'str'>\n",
      "Column: gr_book_id \t - Datatype: <class 'str'>\n",
      "Column: ratings_count \t - Datatype: <class 'str'>\n",
      "Column: title \t - Datatype: <class 'str'>\n"
     ]
    }
   ],
   "source": [
    "for i in single_record.index:\n",
    "    print(f\"Column: {i} \\t - Datatype: {type(single_record[i])}\")"
   ]
  },
  {
   "cell_type": "markdown",
   "metadata": {},
   "source": [
    "**Insight**\n",
    "- So, the empty data are string with `length = 0`\n",
    "- Datatype of `authors` and `similar_books` are of type `list`\n",
    "- Rest of the data are of `string` datatype "
   ]
  },
  {
   "cell_type": "markdown",
   "metadata": {},
   "source": [
    "**Checking the datatype of the columns as a whole**"
   ]
  },
  {
   "cell_type": "code",
   "execution_count": 21,
   "metadata": {},
   "outputs": [
    {
     "name": "stdout",
     "output_type": "stream",
     "text": [
      "<class 'pandas.core.frame.DataFrame'>\n",
      "RangeIndex: 1308957 entries, 0 to 1308956\n",
      "Data columns (total 17 columns):\n",
      " #   Column             Non-Null Count    Dtype \n",
      "---  ------             --------------    ----- \n",
      " 0   isbn               1308957 non-null  object\n",
      " 1   average_rating     1308957 non-null  object\n",
      " 2   similar_books      1308957 non-null  object\n",
      " 3   description        1308957 non-null  object\n",
      " 4   link               1308957 non-null  object\n",
      " 5   authors            1308957 non-null  object\n",
      " 6   publisher          1308957 non-null  object\n",
      " 7   num_pages          1308957 non-null  object\n",
      " 8   publication_day    1308957 non-null  object\n",
      " 9   publication_month  1308957 non-null  object\n",
      " 10  publication_year   1308957 non-null  object\n",
      " 11  isbn13             1308957 non-null  object\n",
      " 12  url                1308957 non-null  object\n",
      " 13  image_url          1308957 non-null  object\n",
      " 14  gr_book_id         1308957 non-null  object\n",
      " 15  ratings_count      1308957 non-null  object\n",
      " 16  title              1308957 non-null  object\n",
      "dtypes: object(17)\n",
      "memory usage: 169.8+ MB\n"
     ]
    }
   ],
   "source": [
    "items.info()"
   ]
  },
  {
   "cell_type": "markdown",
   "metadata": {},
   "source": [
    "**Insight**\n",
    "- All are looking `object` because we have string values in most of the columns there apart from `authors` and `similar_books` which are of `list` type\n",
    "- `average_rating` and `ratings_count` column data are of `object` datatype but they should be of numeric type for further analysis and use.\n",
    "- Similarly there are other columns which we can convert into numeric\n",
    "  - `[\"num_pages\", \"publication_day\", \"publication_month\", \"publication_year\", \"gr_book_id\"]`"
   ]
  },
  {
   "cell_type": "markdown",
   "metadata": {},
   "source": [
    "**Converting datatype of columns in their proper form**\n",
    "- The `errors='coerce'` parameter in the `pd.to_numeric` function means that if there are any values in the specified columns that cannot be converted to numeric, those values will be set to `NaN` (Not a Number)"
   ]
  },
  {
   "cell_type": "code",
   "execution_count": 22,
   "metadata": {},
   "outputs": [],
   "source": [
    "columns_to_convert = [\"average_rating\", \"ratings_count\", \"num_pages\", \"publication_day\", \"publication_month\", \"publication_year\", \"gr_book_id\"]\n",
    "\n",
    "items[columns_to_convert] = items[columns_to_convert].apply(pd.to_numeric, errors='coerce')"
   ]
  },
  {
   "cell_type": "code",
   "execution_count": 23,
   "metadata": {},
   "outputs": [
    {
     "name": "stdout",
     "output_type": "stream",
     "text": [
      "<class 'pandas.core.frame.DataFrame'>\n",
      "RangeIndex: 1308957 entries, 0 to 1308956\n",
      "Data columns (total 17 columns):\n",
      " #   Column             Non-Null Count    Dtype  \n",
      "---  ------             --------------    -----  \n",
      " 0   isbn               1308957 non-null  object \n",
      " 1   average_rating     1308957 non-null  float64\n",
      " 2   similar_books      1308957 non-null  object \n",
      " 3   description        1308957 non-null  object \n",
      " 4   link               1308957 non-null  object \n",
      " 5   authors            1308957 non-null  object \n",
      " 6   publisher          1308957 non-null  object \n",
      " 7   num_pages          937378 non-null   float64\n",
      " 8   publication_day    800719 non-null   float64\n",
      " 9   publication_month  870759 non-null   float64\n",
      " 10  publication_year   988556 non-null   float64\n",
      " 11  isbn13             1308957 non-null  object \n",
      " 12  url                1308957 non-null  object \n",
      " 13  image_url          1308957 non-null  object \n",
      " 14  gr_book_id         1308957 non-null  int64  \n",
      " 15  ratings_count      1308957 non-null  int64  \n",
      " 16  title              1308957 non-null  object \n",
      "dtypes: float64(5), int64(2), object(10)\n",
      "memory usage: 169.8+ MB\n"
     ]
    }
   ],
   "source": [
    "items.info()"
   ]
  },
  {
   "cell_type": "markdown",
   "metadata": {},
   "source": [
    "**Insight**\n",
    "- We can obseve that datatypes has been converted successfully"
   ]
  },
  {
   "cell_type": "markdown",
   "metadata": {},
   "source": [
    "**Checking for null values again**"
   ]
  },
  {
   "cell_type": "code",
   "execution_count": 24,
   "metadata": {},
   "outputs": [
    {
     "data": {
      "text/plain": [
       "isbn                      0\n",
       "average_rating            0\n",
       "similar_books             0\n",
       "description               0\n",
       "link                      0\n",
       "authors                   0\n",
       "publisher                 0\n",
       "num_pages            371579\n",
       "publication_day      508238\n",
       "publication_month    438198\n",
       "publication_year     320401\n",
       "isbn13                    0\n",
       "url                       0\n",
       "image_url                 0\n",
       "gr_book_id                0\n",
       "ratings_count             0\n",
       "title                     0\n",
       "dtype: int64"
      ]
     },
     "execution_count": 24,
     "metadata": {},
     "output_type": "execute_result"
    }
   ],
   "source": [
    "items.isnull().sum()"
   ]
  },
  {
   "cell_type": "markdown",
   "metadata": {},
   "source": [
    "**Insight**\n",
    "- We can observe multiple missing values as follow\n",
    "\n",
    "```\n",
    "num_pages            371579\n",
    "publication_day      508238\n",
    "publication_month    438198\n",
    "publication_year     320401\n",
    "```\n",
    "- We can simply impute them with `0`"
   ]
  },
  {
   "cell_type": "markdown",
   "metadata": {},
   "source": [
    "**Imputing the missing values with `0`**"
   ]
  },
  {
   "cell_type": "code",
   "execution_count": 25,
   "metadata": {},
   "outputs": [],
   "source": [
    "items.fillna(0, inplace=True)"
   ]
  },
  {
   "cell_type": "markdown",
   "metadata": {},
   "source": [
    "**Checking null values after imputation**"
   ]
  },
  {
   "cell_type": "code",
   "execution_count": 26,
   "metadata": {},
   "outputs": [
    {
     "data": {
      "text/plain": [
       "isbn                 0\n",
       "average_rating       0\n",
       "similar_books        0\n",
       "description          0\n",
       "link                 0\n",
       "authors              0\n",
       "publisher            0\n",
       "num_pages            0\n",
       "publication_day      0\n",
       "publication_month    0\n",
       "publication_year     0\n",
       "isbn13               0\n",
       "url                  0\n",
       "image_url            0\n",
       "gr_book_id           0\n",
       "ratings_count        0\n",
       "title                0\n",
       "dtype: int64"
      ]
     },
     "execution_count": 26,
     "metadata": {},
     "output_type": "execute_result"
    }
   ],
   "source": [
    "items.isnull().sum()"
   ]
  },
  {
   "cell_type": "markdown",
   "metadata": {},
   "source": [
    "**Insight**\n",
    "- We can observe that all null values has been imputed with `0`\n",
    "- `0` in `[\"num_pages\", \"publication_day\", \"publication_month\", \"publication_year\"]` does not make sense\n",
    "- So we can consider them as missing data"
   ]
  },
  {
   "cell_type": "markdown",
   "metadata": {},
   "source": [
    "**Converting ISBN and ISBN13 into numeric**"
   ]
  },
  {
   "cell_type": "code",
   "execution_count": 27,
   "metadata": {},
   "outputs": [],
   "source": [
    "columns_to_convert = [\"isbn\", \"isbn13\"]\n",
    "\n",
    "items[columns_to_convert] = items[columns_to_convert].apply(pd.to_numeric, errors='coerce')"
   ]
  },
  {
   "cell_type": "markdown",
   "metadata": {},
   "source": [
    "**Checking for null values again**"
   ]
  },
  {
   "cell_type": "code",
   "execution_count": 28,
   "metadata": {},
   "outputs": [
    {
     "data": {
      "text/plain": [
       "isbn                 562645\n",
       "average_rating            0\n",
       "similar_books             0\n",
       "description               0\n",
       "link                      0\n",
       "authors                   0\n",
       "publisher                 0\n",
       "num_pages                 0\n",
       "publication_day           0\n",
       "publication_month         0\n",
       "publication_year          0\n",
       "isbn13               401625\n",
       "url                       0\n",
       "image_url                 0\n",
       "gr_book_id                0\n",
       "ratings_count             0\n",
       "title                     0\n",
       "dtype: int64"
      ]
     },
     "execution_count": 28,
     "metadata": {},
     "output_type": "execute_result"
    }
   ],
   "source": [
    "items.isnull().sum()"
   ]
  },
  {
   "cell_type": "markdown",
   "metadata": {},
   "source": [
    "**Insight**\n",
    "- We can observe some `nan` values as these were faulty or alphanumeric ISBNs\n",
    "- ISBN ideally can only be numeric and of a specific length 10 or 13.\n",
    "- So, we can call them `null` values and impute them with `0` as well"
   ]
  },
  {
   "cell_type": "markdown",
   "metadata": {},
   "source": [
    "**Imputing the missing values with `0`**"
   ]
  },
  {
   "cell_type": "code",
   "execution_count": 29,
   "metadata": {},
   "outputs": [],
   "source": [
    "items.fillna(0, inplace=True)"
   ]
  },
  {
   "cell_type": "markdown",
   "metadata": {},
   "source": [
    "**Checking null values after imputation**"
   ]
  },
  {
   "cell_type": "code",
   "execution_count": 30,
   "metadata": {},
   "outputs": [
    {
     "data": {
      "text/plain": [
       "isbn                 0\n",
       "average_rating       0\n",
       "similar_books        0\n",
       "description          0\n",
       "link                 0\n",
       "authors              0\n",
       "publisher            0\n",
       "num_pages            0\n",
       "publication_day      0\n",
       "publication_month    0\n",
       "publication_year     0\n",
       "isbn13               0\n",
       "url                  0\n",
       "image_url            0\n",
       "gr_book_id           0\n",
       "ratings_count        0\n",
       "title                0\n",
       "dtype: int64"
      ]
     },
     "execution_count": 30,
     "metadata": {},
     "output_type": "execute_result"
    }
   ],
   "source": [
    "items.isnull().sum()"
   ]
  },
  {
   "cell_type": "markdown",
   "metadata": {},
   "source": [
    "**Insight**\n",
    "- We can observe that all null values has been imputed with `0`\n",
    "- `0` in `[\"isbn\",\"isbn13\"]` does not make sense\n",
    "- So we can consider them as missing data"
   ]
  },
  {
   "cell_type": "code",
   "execution_count": 31,
   "metadata": {},
   "outputs": [],
   "source": [
    "# code stop point\n",
    "\n",
    "# 10/0"
   ]
  },
  {
   "cell_type": "markdown",
   "metadata": {},
   "source": [
    "**Checking the datatypes before export**"
   ]
  },
  {
   "cell_type": "code",
   "execution_count": 32,
   "metadata": {},
   "outputs": [
    {
     "data": {
      "text/plain": [
       "isbn                 float64\n",
       "average_rating       float64\n",
       "similar_books         object\n",
       "description           object\n",
       "link                  object\n",
       "authors               object\n",
       "publisher             object\n",
       "num_pages            float64\n",
       "publication_day      float64\n",
       "publication_month    float64\n",
       "publication_year     float64\n",
       "isbn13               float64\n",
       "url                   object\n",
       "image_url             object\n",
       "gr_book_id             int64\n",
       "ratings_count          int64\n",
       "title                 object\n",
       "dtype: object"
      ]
     },
     "execution_count": 32,
     "metadata": {},
     "output_type": "execute_result"
    }
   ],
   "source": [
    "items.dtypes"
   ]
  },
  {
   "cell_type": "markdown",
   "metadata": {},
   "source": [
    "**Insight**\n",
    "```\n",
    "isbn                 float64 - NOT OKAY\n",
    "average_rating       float64 - OKAY\n",
    "num_pages            float64 - NOT OKAY\n",
    "publication_day      float64 - NOT OKAY\n",
    "publication_month    float64 - NOT OKAY\n",
    "publication_year     float64 - NOT OKAY\n",
    "isbn13               float64 - NOT OKAY\n",
    "gr_book_id             int64 - NOT OKAY\n",
    "ratings_count          int64 - NOT OKAY\n",
    "```\n",
    "\n",
    "- We need to convert the NOT OKAY datatypes into int."
   ]
  },
  {
   "cell_type": "markdown",
   "metadata": {},
   "source": [
    "**Converting columns into integer**"
   ]
  },
  {
   "cell_type": "code",
   "execution_count": 33,
   "metadata": {},
   "outputs": [
    {
     "data": {
      "text/plain": [
       "isbn                   int64\n",
       "average_rating       float64\n",
       "similar_books         object\n",
       "description           object\n",
       "link                  object\n",
       "authors               object\n",
       "publisher             object\n",
       "num_pages              int64\n",
       "publication_day        int64\n",
       "publication_month      int64\n",
       "publication_year       int64\n",
       "isbn13                 int64\n",
       "url                   object\n",
       "image_url             object\n",
       "gr_book_id             int64\n",
       "ratings_count          int64\n",
       "title                 object\n",
       "dtype: object"
      ]
     },
     "execution_count": 33,
     "metadata": {},
     "output_type": "execute_result"
    }
   ],
   "source": [
    "columns_to_convert = ['isbn', \n",
    "                      'isbn13', \n",
    "                      'gr_book_id', \n",
    "                      'num_pages', \n",
    "                      'publication_day', \n",
    "                      'publication_month', \n",
    "                      'publication_year', \n",
    "                      'ratings_count']\n",
    "\n",
    "items[columns_to_convert] = items[columns_to_convert].astype('int64')\n",
    "\n",
    "items.dtypes"
   ]
  },
  {
   "cell_type": "markdown",
   "metadata": {},
   "source": [
    "**We will export this version of the data**\n",
    "- We have proper datatypes for the columns\n",
    "- We will export the data as compressed json where each record will be a single line as a json "
   ]
  },
  {
   "cell_type": "code",
   "execution_count": 34,
   "metadata": {},
   "outputs": [],
   "source": [
    "# with gzip.open('../Processed/books_ratingcount_gt15_p0.json.gz', 'wt', encoding='utf-8') as file:\n",
    "#     file.write(items.to_json(orient='records', lines=True))"
   ]
  },
  {
   "cell_type": "markdown",
   "metadata": {},
   "source": [
    "**Looking at missing data at different columns**"
   ]
  },
  {
   "cell_type": "code",
   "execution_count": 35,
   "metadata": {},
   "outputs": [
    {
     "name": "stdout",
     "output_type": "stream",
     "text": [
      "ratings_count  -  0\n",
      "num_pages  -  375062\n",
      "publication_day  -  508238\n",
      "publication_month  -  438198\n",
      "publication_year  -  320405\n",
      "gr_book_id  -  0\n",
      "isbn  -  562647\n",
      "isbn13  -  401626\n"
     ]
    }
   ],
   "source": [
    "imputed_cols = [\"average_rating\", \"ratings_count\", \"num_pages\", \"publication_day\", \"publication_month\", \"publication_year\", \"gr_book_id\", \"isbn\", \"isbn13\"]\n",
    "\n",
    "for i in imputed_cols[1:]:\n",
    "    print(i,\" - \",len(items[items[i] == 0]))"
   ]
  },
  {
   "cell_type": "markdown",
   "metadata": {},
   "source": [
    "**We will look for duplicate records**"
   ]
  },
  {
   "cell_type": "code",
   "execution_count": 36,
   "metadata": {},
   "outputs": [
    {
     "data": {
      "text/plain": [
       "0"
      ]
     },
     "execution_count": 36,
     "metadata": {},
     "output_type": "execute_result"
    }
   ],
   "source": [
    "columns_to_ignore = ['similar_books', 'authors']\n",
    "columns_to_check = items.columns.difference(columns_to_ignore)\n",
    "\n",
    "items.duplicated(subset=columns_to_check).sum()"
   ]
  },
  {
   "cell_type": "markdown",
   "metadata": {},
   "source": [
    "**Insight**\n",
    "- We can see that there are no duplicate records as whole\n",
    "- We need to look more deeper into the duplicates columns wise"
   ]
  },
  {
   "cell_type": "markdown",
   "metadata": {},
   "source": [
    "#### Deeper Look into Duplicates - Column Wise"
   ]
  },
  {
   "cell_type": "markdown",
   "metadata": {},
   "source": [
    "**Duplicate `title`**"
   ]
  },
  {
   "cell_type": "code",
   "execution_count": 37,
   "metadata": {},
   "outputs": [
    {
     "data": {
      "text/plain": [
       "318555"
      ]
     },
     "execution_count": 37,
     "metadata": {},
     "output_type": "execute_result"
    }
   ],
   "source": [
    "items[\"title\"].duplicated().sum()"
   ]
  },
  {
   "cell_type": "markdown",
   "metadata": {},
   "source": [
    "**Insight**\n",
    "- We have 318,555 duplicate titles"
   ]
  },
  {
   "cell_type": "markdown",
   "metadata": {},
   "source": [
    "**Number of unique books among duplicates**"
   ]
  },
  {
   "cell_type": "code",
   "execution_count": 38,
   "metadata": {},
   "outputs": [
    {
     "data": {
      "text/plain": [
       "146168"
      ]
     },
     "execution_count": 38,
     "metadata": {},
     "output_type": "execute_result"
    }
   ],
   "source": [
    "len(items.loc[items[\"title\"].duplicated(),\"title\"].unique())"
   ]
  },
  {
   "cell_type": "markdown",
   "metadata": {},
   "source": [
    "**Insight**\n",
    "- We have 146,168 duplicate titles"
   ]
  },
  {
   "cell_type": "markdown",
   "metadata": {},
   "source": [
    "**We can have a look at top 25 books on the duplicate list**"
   ]
  },
  {
   "cell_type": "code",
   "execution_count": 39,
   "metadata": {},
   "outputs": [
    {
     "data": {
      "text/plain": [
       "title\n",
       "Jane Eyre                           231\n",
       "Pride and Prejudice                 222\n",
       "Selected Poems                      205\n",
       "Dracula                             184\n",
       "Wuthering Heights                   173\n",
       "Frankenstein                        170\n",
       "Emma                                151\n",
       "Fahrenheit 451                      143\n",
       "1984                                138\n",
       "The Great Gatsby                    136\n",
       "The Picture of Dorian Gray          131\n",
       "Anna Karenina                       125\n",
       "A Christmas Carol                   117\n",
       "The Hobbit                          112\n",
       "Sense and Sensibility               111\n",
       "Great Expectations                  111\n",
       "The Secret Garden                   110\n",
       "Peter Pan                           106\n",
       "Madame Bovary                       102\n",
       "Macbeth                             101\n",
       "Hamlet                               99\n",
       "Treasure Island                      95\n",
       "Animal Farm                          94\n",
       "Lolita                               94\n",
       "Alice's Adventures in Wonderland     93\n",
       "Name: count, dtype: int64"
      ]
     },
     "execution_count": 39,
     "metadata": {},
     "output_type": "execute_result"
    }
   ],
   "source": [
    "items.loc[items[\"title\"].duplicated(),\"title\"].value_counts()[:25]"
   ]
  },
  {
   "cell_type": "markdown",
   "metadata": {},
   "source": [
    "**Insights**\n",
    "- These are usually very famous books"
   ]
  },
  {
   "cell_type": "markdown",
   "metadata": {},
   "source": [
    "**Lets deeply analyze the book - `Frankenstein`**"
   ]
  },
  {
   "cell_type": "code",
   "execution_count": 40,
   "metadata": {},
   "outputs": [
    {
     "data": {
      "text/plain": [
       "(171, 17)"
      ]
     },
     "execution_count": 40,
     "metadata": {},
     "output_type": "execute_result"
    }
   ],
   "source": [
    "duplicate_book = items.loc[items[\"title\"] == \"Frankenstein\"]\n",
    "duplicate_book.shape"
   ]
  },
  {
   "cell_type": "markdown",
   "metadata": {},
   "source": [
    "**Insight**\n",
    "- Total 171 books\n",
    "- 170 duplicates in total"
   ]
  },
  {
   "cell_type": "markdown",
   "metadata": {},
   "source": [
    "**We can look at the number of unique values in other columns for this specific book**"
   ]
  },
  {
   "cell_type": "code",
   "execution_count": 41,
   "metadata": {},
   "outputs": [
    {
     "name": "stdout",
     "output_type": "stream",
     "text": [
      "Column: average_rating \t - 8\n",
      "Column: description \t - 110\n",
      "Column: gr_book_id \t - 171\n",
      "Column: image_url \t - 99\n",
      "Column: isbn \t - 116\n",
      "Column: isbn13 \t - 147\n",
      "Column: link \t - 171\n",
      "Column: num_pages \t - 94\n",
      "Column: publication_day \t - 28\n",
      "Column: publication_month \t - 13\n",
      "Column: publication_year \t - 36\n",
      "Column: publisher \t - 111\n",
      "Column: ratings_count \t - 126\n",
      "Column: title \t - 1\n",
      "Column: url \t - 171\n"
     ]
    }
   ],
   "source": [
    "columns_to_ignore = ['similar_books', 'authors']\n",
    "columns_to_check = items.columns.difference(columns_to_ignore)\n",
    "\n",
    "for col in columns_to_check:\n",
    "    print(f\"Column: {col} \\t - {len(duplicate_book[col].unique())}\")"
   ]
  },
  {
   "cell_type": "markdown",
   "metadata": {},
   "source": [
    "**Insight**\n",
    "- All the books have unique `book_id`, `link` and `url`. So all books exist separately. "
   ]
  },
  {
   "cell_type": "code",
   "execution_count": 42,
   "metadata": {},
   "outputs": [
    {
     "data": {
      "text/plain": [
       "isbn\n",
       "0             56\n",
       "866119817      1\n",
       "8804405341     1\n",
       "321096983      1\n",
       "7350961        1\n",
       "              ..\n",
       "140433627      1\n",
       "1631060163     1\n",
       "8467039493     1\n",
       "1554811031     1\n",
       "192815326      1\n",
       "Name: count, Length: 116, dtype: int64"
      ]
     },
     "execution_count": 42,
     "metadata": {},
     "output_type": "execute_result"
    }
   ],
   "source": [
    "duplicate_book[\"isbn\"].value_counts()"
   ]
  },
  {
   "cell_type": "code",
   "execution_count": 43,
   "metadata": {},
   "outputs": [
    {
     "data": {
      "text/plain": [
       "isbn13\n",
       "0                25\n",
       "9780141334417     1\n",
       "9788420666495     1\n",
       "9781493625284     1\n",
       "9780866119818     1\n",
       "                 ..\n",
       "9780143105039     1\n",
       "9780141045115     1\n",
       "9781419542244     1\n",
       "9780760750803     1\n",
       "9780192815323     1\n",
       "Name: count, Length: 147, dtype: int64"
      ]
     },
     "execution_count": 43,
     "metadata": {},
     "output_type": "execute_result"
    }
   ],
   "source": [
    "duplicate_book[\"isbn13\"].value_counts()"
   ]
  },
  {
   "cell_type": "markdown",
   "metadata": {},
   "source": [
    "**Inshight**\n",
    "- 56 books no isbn\n",
    "- 25 books no isbn13"
   ]
  },
  {
   "cell_type": "markdown",
   "metadata": {},
   "source": [
    "**Number of books with no isbn or no isbn13**"
   ]
  },
  {
   "cell_type": "code",
   "execution_count": 44,
   "metadata": {},
   "outputs": [
    {
     "data": {
      "text/plain": [
       "23"
      ]
     },
     "execution_count": 44,
     "metadata": {},
     "output_type": "execute_result"
    }
   ],
   "source": [
    "duplicate_book.loc[(duplicate_book[\"isbn\"] == 0) & (duplicate_book[\"isbn13\"] == 0)].shape[0]"
   ]
  },
  {
   "cell_type": "markdown",
   "metadata": {},
   "source": [
    "**Insight**\n",
    "- 23 books has no isbn or isbn13"
   ]
  },
  {
   "cell_type": "markdown",
   "metadata": {},
   "source": [
    "**Number of books any one of isbn or isbn13**"
   ]
  },
  {
   "cell_type": "code",
   "execution_count": 45,
   "metadata": {},
   "outputs": [
    {
     "data": {
      "text/plain": [
       "148"
      ]
     },
     "execution_count": 45,
     "metadata": {},
     "output_type": "execute_result"
    }
   ],
   "source": [
    "duplicate_book.loc[(duplicate_book[\"isbn\"] != 0) | (duplicate_book[\"isbn13\"] != 0)].shape[0]"
   ]
  },
  {
   "cell_type": "markdown",
   "metadata": {},
   "source": [
    "**Insight**\n",
    "- 148 books are there with at least one isbn version"
   ]
  },
  {
   "cell_type": "markdown",
   "metadata": {},
   "source": [
    "**Among thsese 148 books we are looking for duplicate isbn or isbn13**"
   ]
  },
  {
   "cell_type": "code",
   "execution_count": 46,
   "metadata": {},
   "outputs": [
    {
     "name": "stdout",
     "output_type": "stream",
     "text": [
      "isbn\n",
      "0             33\n",
      "866119817      1\n",
      "8804405341     1\n",
      "321096983      1\n",
      "7350961        1\n",
      "              ..\n",
      "140433627      1\n",
      "1631060163     1\n",
      "8467039493     1\n",
      "1554811031     1\n",
      "192815326      1\n",
      "Name: count, Length: 116, dtype: int64\n",
      "isbn13\n",
      "0                2\n",
      "9780141334417    1\n",
      "9781493625284    1\n",
      "9780451527714    1\n",
      "9780195149012    1\n",
      "                ..\n",
      "9780143105039    1\n",
      "9780141045115    1\n",
      "9781419542244    1\n",
      "9780760750803    1\n",
      "9780192815323    1\n",
      "Name: count, Length: 147, dtype: int64\n"
     ]
    }
   ],
   "source": [
    "print((duplicate_book.loc[(duplicate_book[\"isbn\"] != 0) | (duplicate_book[\"isbn13\"] != 0),\"isbn\"].value_counts()))\n",
    "print((duplicate_book.loc[(duplicate_book[\"isbn\"] != 0) | (duplicate_book[\"isbn13\"] != 0),\"isbn13\"].value_counts()))"
   ]
  },
  {
   "cell_type": "markdown",
   "metadata": {},
   "source": [
    "**Insight**\n",
    "- There is no duplicate isbn or isbn13 among these 148 books\n",
    "- Only repeated isbn or isbn13 are `0` which means missing ISBNs\n",
    "- Apart from that, there are 23 more books with missing ISBNs\n",
    "- Finally we can state that there are no books with repeated ISBN among the books having at least one version of the ISBN"
   ]
  },
  {
   "cell_type": "code",
   "execution_count": 47,
   "metadata": {},
   "outputs": [
    {
     "data": {
      "text/plain": [
       "image_url\n",
       "https://s.gr-assets.com/assets/nophoto/book/111x148-bcc042a9c91a29c1d680899eff700a03.png    73\n",
       "https://images.gr-assets.com/books/1375686080m/18489.jpg                                     1\n",
       "https://images.gr-assets.com/books/1417034489m/595765.jpg                                    1\n",
       "https://images.gr-assets.com/books/1427546373m/603259.jpg                                    1\n",
       "https://images.gr-assets.com/books/1335360874m/11175287.jpg                                  1\n",
       "Name: count, dtype: int64"
      ]
     },
     "execution_count": 47,
     "metadata": {},
     "output_type": "execute_result"
    }
   ],
   "source": [
    "duplicate_book[\"image_url\"].value_counts()[:5]"
   ]
  },
  {
   "cell_type": "markdown",
   "metadata": {},
   "source": [
    "**Insight**\n",
    "- The only repeated `image_url` is NO PHOTO image"
   ]
  },
  {
   "cell_type": "code",
   "execution_count": 48,
   "metadata": {},
   "outputs": [
    {
     "data": {
      "text/plain": [
       "description\n",
       "Mary Shelley's Frankenstein is the world's most famous Gothic novel about eccentric scientist Victor Frankenstein, who creates a grotesque creature in an unorthodox scientific experiment. Shelley's work is considered to be the world's first science fiction, with Frankenstein's monster being a symbol of science gone awry. Shelley's masterpiece has inspired numerous films, plays and other books. This, the 1831 edition, contains the author's final revisions.                                                                                                                                                                                                                                                                                                                                                                                                                                                                                                                                                                                                                                                                                                                                                                                                                                                             55\n",
       "Frankenstein,loved by many decades of readers and praised by such eminent literary critics as Harold Bloom, seems hardly to need a recommendation. If you haven't read it recently, though, you may not remember the sweeping force of the prose, the grotesque, surreal imagery, and the multilayered doppelgangerthemes of Mary Shelley's masterpiece. As fantasy writer Jane Yolen writes of this (the reviewer's favorite) edition, \"The strong black and whites of the main text [illustrations] are dark and brooding, with unremitting shadows and stark contrasts. But the central conversation with the monster--who owes nothing to the overused movie image but is rather the novel's charnel-house composite--is where [Barry] Moser's illustrations show their greatest power ... The viewer can all but smell the powerful stench of the monster's breath as its words spill out across the page. Strong book-making for one of the world's strongest and most remarkable books.\" Includes an illuminating afterword by Joyce Carol Oates.                                                                                                                                                                                                                                                                                 3\n",
       "'I saw the pale student of unhallowed arts kneeling beside the thing he had put together. I saw the hideous phantasm of a man stretched out, and then, on the working of some powerful engine, show signs of life and stir with an uneasy, half-vital motion.' A summer evening's ghost stories, lonely insomnia in a moonlit Alpine's room, and a runaway imagination -- fired by philosophical discussions with Lord Byron and Percy Bysshe Shelley about science, galvanism, and the origins of life -- conspired to produce for Mary Shelley this haunting night specter. By morning, it had become the germ of her Romantic masterpiece, \"Frankenstein.\" Written in 1816 when she was only 19, Mary Shelley's novel of 'The Modern Prometheus' chillingly dramatized the dangerous potential of life begotten upon a laboratory table. A frightening creation myth for our own time, \"Frankenstein\" remains one of the greatest horror stories ever written and is an undisputed classic of its kind.                                                                                                                                                                                                                                                                                                                               3\n",
       "                                                                                                                                                                                                                                                                                                                                                                                                                                                                                                                                                                                                                                                                                                                                                                                                                                                                                                                                                                                                                                                                                                                                                                                                                                                                                                                                         2\n",
       "Frankenstein; or, The Modern Prometheus, generally known as Frankenstein, is a novel written by the British author Mary Shelley. The title of the novel refers to a scientist, Victor Frankenstein, who learns how to create life and creates a being in the likeness of man, but larger than average and more powerful. In popular culture, people have tended to refer to the Creature as \"Frankenstein\", despite this being the name of the scientist. Frankenstein is a novel infused with some elements of the Gothic novel and the Romantic movement. It was also a warning against the \"over-reaching\" of modern man and the Industrial Revolution, alluded to in the novel's subtitle, The Modern Prometheus. The story has had an influence across literature and popular culture and spawned a complete genre of horror stories and films. It is arguably considered the first fully realized science fiction novel.                                                                                                                                                                                                                                                                                                                                                                                                           2\n",
       "This revision of a widely adopted critical edition presents the 1831 text of Mary Shelley's English Romantic novel along with critical essays that introduce students to Frankensteinfrom contemporary psychoanalytic, Marxist, feminist, gender, and cultural studies perspectives. An additional essay demonstrates how various critical perspectives can be combined. In the second edition, 3 of the 6 essays are new. The text and essays are complemented by contextual documents, introductions (with bibliographies), and a glossary of critical and theoretical terms.                                                                                                                                                                                                                                                                                                                                                                                                                                                                                                                                                                                                                                                                                                                                                          2\n",
       "La historia ha hecho justicia con este personaje relegado durante mucho tiempo a figurar en las enciclopedias como la segunda mujer Percy Bysshe Shelley.\\nHija de Godwin, un afamado editor, nacio en Inglaterra en 1797 y murio en 1851. A su labor no solo se le debe la sistematizacion de la obra poetica de su marido, sino estudios sobre Petrarca, Boccaccio, Maquiavelo, y una abultada obra en forma de novelas cortas, con las que se ganaba la vida tras la muerte de Shelley en un naufragio.\\nDe infancia desgraciada, Mary conocio a Shelley a traves de Godwin y se fugo con el, desafiando la moral de su epoca, poniendo rumbo a Suiza, donde se encontraron con Byron. Alli en la casa del afamado poeta britanico, emprendieron una aventura: cada uno de los reunidos aquella noche (Byron, Shelley, Polidori y la propia Mary)debia escribir una historia de terror en una noche de tormenta, a las orillas del lago.\\nEl resultado de esta aventura fue Frankenstein, el monstruo mas triste de la literatura, la criatura de la que su creador abominaba, incapaz de hallar su sitio en la naturaleza y con inteligencia suficiente para ser consciente de su desgraciado destino. Adaptado a la gran pantalla con desigual fortuna, Frankenstein es el monstruo mas humano de toda la literatura de terror.     1\n",
       "Name: count, dtype: int64"
      ]
     },
     "execution_count": 48,
     "metadata": {},
     "output_type": "execute_result"
    }
   ],
   "source": [
    "duplicate_book[\"description\"].value_counts()[:7]"
   ]
  },
  {
   "cell_type": "markdown",
   "metadata": {},
   "source": [
    "**Insight**\n",
    "- `\"Mary Shelley's Frankenstein is the world's most famous Gothic novel about eccentric scientist Victor Frankenstein, who creates a grotesque creature in an unorthodox scientific experiment. Shelley's work is considered to be the world's first science fiction, with Frankenstein's monster being a symbol of science gone awry. Shelley's masterpiece has inspired numerous films, plays and other books. This, the 1831 edition, contains the author's final revisions.\"`\n",
    "  - 55 books have used the same description\n",
    "- 2 books have no description\n",
    "- Other descriptions are repeated as follows times 3x, 3x, 2x, 2x\n",
    "  - There are no more repeated descriptions"
   ]
  },
  {
   "cell_type": "code",
   "execution_count": 49,
   "metadata": {},
   "outputs": [
    {
     "data": {
      "text/plain": [
       "publisher\n",
       "                               27\n",
       "Penguin Classics                6\n",
       "Oxford University Press         5\n",
       "Newton Compton                  3\n",
       "Penguin                         3\n",
       "Sterling                        3\n",
       "Austral                         3\n",
       "Dover Publications              3\n",
       "Barnes  Noble Classics          3\n",
       "Kaplan Publishing               2\n",
       "Bantam                          2\n",
       "Audible, Inc.                   2\n",
       "Wordsworth Classics             2\n",
       "Mondadori                       2\n",
       "Edimat Libros                   2\n",
       "Wordsworth Editions             2\n",
       "Modern Library                  2\n",
       "Bantam Books                    2\n",
       "Ediciones B                     2\n",
       "Barnes & Noble                  2\n",
       "Gramedia Pustaka Utama          2\n",
       "Signet                          2\n",
       "Underwood-Miller                1\n",
       "Arcturus Publishing Limited     1\n",
       "Baronet Books                   1\n",
       "Name: count, dtype: int64"
      ]
     },
     "execution_count": 49,
     "metadata": {},
     "output_type": "execute_result"
    }
   ],
   "source": [
    "duplicate_book[\"publisher\"].value_counts()[:25]"
   ]
  },
  {
   "cell_type": "code",
   "execution_count": 50,
   "metadata": {},
   "outputs": [
    {
     "data": {
      "text/html": [
       "<div>\n",
       "<style scoped>\n",
       "    .dataframe tbody tr th:only-of-type {\n",
       "        vertical-align: middle;\n",
       "    }\n",
       "\n",
       "    .dataframe tbody tr th {\n",
       "        vertical-align: top;\n",
       "    }\n",
       "\n",
       "    .dataframe thead th {\n",
       "        text-align: right;\n",
       "    }\n",
       "</style>\n",
       "<table border=\"1\" class=\"dataframe\">\n",
       "  <thead>\n",
       "    <tr style=\"text-align: right;\">\n",
       "      <th></th>\n",
       "      <th>publication_year</th>\n",
       "      <th>publication_month</th>\n",
       "      <th>publication_day</th>\n",
       "    </tr>\n",
       "  </thead>\n",
       "  <tbody>\n",
       "    <tr>\n",
       "      <th>32921</th>\n",
       "      <td>2013</td>\n",
       "      <td>10</td>\n",
       "      <td>3</td>\n",
       "    </tr>\n",
       "    <tr>\n",
       "      <th>132147</th>\n",
       "      <td>2015</td>\n",
       "      <td>11</td>\n",
       "      <td>16</td>\n",
       "    </tr>\n",
       "    <tr>\n",
       "      <th>368629</th>\n",
       "      <td>2013</td>\n",
       "      <td>10</td>\n",
       "      <td>3</td>\n",
       "    </tr>\n",
       "    <tr>\n",
       "      <th>445869</th>\n",
       "      <td>1992</td>\n",
       "      <td>11</td>\n",
       "      <td>2</td>\n",
       "    </tr>\n",
       "    <tr>\n",
       "      <th>485813</th>\n",
       "      <td>2011</td>\n",
       "      <td>8</td>\n",
       "      <td>4</td>\n",
       "    </tr>\n",
       "    <tr>\n",
       "      <th>1172465</th>\n",
       "      <td>1986</td>\n",
       "      <td>1</td>\n",
       "      <td>7</td>\n",
       "    </tr>\n",
       "  </tbody>\n",
       "</table>\n",
       "</div>"
      ],
      "text/plain": [
       "         publication_year  publication_month  publication_day\n",
       "32921                2013                 10                3\n",
       "132147               2015                 11               16\n",
       "368629               2013                 10                3\n",
       "445869               1992                 11                2\n",
       "485813               2011                  8                4\n",
       "1172465              1986                  1                7"
      ]
     },
     "execution_count": 50,
     "metadata": {},
     "output_type": "execute_result"
    }
   ],
   "source": [
    "duplicate_book.loc[duplicate_book[\"publisher\"]==\"Penguin Classics\", [\"publication_year\",\"publication_month\", \"publication_day\"]]"
   ]
  },
  {
   "cell_type": "code",
   "execution_count": 51,
   "metadata": {},
   "outputs": [
    {
     "data": {
      "text/html": [
       "<div>\n",
       "<style scoped>\n",
       "    .dataframe tbody tr th:only-of-type {\n",
       "        vertical-align: middle;\n",
       "    }\n",
       "\n",
       "    .dataframe tbody tr th {\n",
       "        vertical-align: top;\n",
       "    }\n",
       "\n",
       "    .dataframe thead th {\n",
       "        text-align: right;\n",
       "    }\n",
       "</style>\n",
       "<table border=\"1\" class=\"dataframe\">\n",
       "  <thead>\n",
       "    <tr style=\"text-align: right;\">\n",
       "      <th></th>\n",
       "      <th>publication_year</th>\n",
       "      <th>publication_month</th>\n",
       "      <th>publication_day</th>\n",
       "    </tr>\n",
       "  </thead>\n",
       "  <tbody>\n",
       "    <tr>\n",
       "      <th>45758</th>\n",
       "      <td>2009</td>\n",
       "      <td>5</td>\n",
       "      <td>0</td>\n",
       "    </tr>\n",
       "    <tr>\n",
       "      <th>193530</th>\n",
       "      <td>1998</td>\n",
       "      <td>8</td>\n",
       "      <td>0</td>\n",
       "    </tr>\n",
       "    <tr>\n",
       "      <th>1091026</th>\n",
       "      <td>2008</td>\n",
       "      <td>10</td>\n",
       "      <td>15</td>\n",
       "    </tr>\n",
       "    <tr>\n",
       "      <th>1249150</th>\n",
       "      <td>1998</td>\n",
       "      <td>6</td>\n",
       "      <td>25</td>\n",
       "    </tr>\n",
       "    <tr>\n",
       "      <th>1288163</th>\n",
       "      <td>1969</td>\n",
       "      <td>0</td>\n",
       "      <td>0</td>\n",
       "    </tr>\n",
       "  </tbody>\n",
       "</table>\n",
       "</div>"
      ],
      "text/plain": [
       "         publication_year  publication_month  publication_day\n",
       "45758                2009                  5                0\n",
       "193530               1998                  8                0\n",
       "1091026              2008                 10               15\n",
       "1249150              1998                  6               25\n",
       "1288163              1969                  0                0"
      ]
     },
     "execution_count": 51,
     "metadata": {},
     "output_type": "execute_result"
    }
   ],
   "source": [
    "duplicate_book.loc[duplicate_book[\"publisher\"]==\"Oxford University Press\", [\"publication_year\",\"publication_month\", \"publication_day\"]]"
   ]
  },
  {
   "cell_type": "code",
   "execution_count": 52,
   "metadata": {},
   "outputs": [
    {
     "data": {
      "text/html": [
       "<div>\n",
       "<style scoped>\n",
       "    .dataframe tbody tr th:only-of-type {\n",
       "        vertical-align: middle;\n",
       "    }\n",
       "\n",
       "    .dataframe tbody tr th {\n",
       "        vertical-align: top;\n",
       "    }\n",
       "\n",
       "    .dataframe thead th {\n",
       "        text-align: right;\n",
       "    }\n",
       "</style>\n",
       "<table border=\"1\" class=\"dataframe\">\n",
       "  <thead>\n",
       "    <tr style=\"text-align: right;\">\n",
       "      <th></th>\n",
       "      <th>publication_year</th>\n",
       "      <th>publication_month</th>\n",
       "      <th>publication_day</th>\n",
       "    </tr>\n",
       "  </thead>\n",
       "  <tbody>\n",
       "    <tr>\n",
       "      <th>38342</th>\n",
       "      <td>1994</td>\n",
       "      <td>1</td>\n",
       "      <td>1</td>\n",
       "    </tr>\n",
       "    <tr>\n",
       "      <th>223539</th>\n",
       "      <td>2008</td>\n",
       "      <td>2</td>\n",
       "      <td>0</td>\n",
       "    </tr>\n",
       "    <tr>\n",
       "      <th>1067955</th>\n",
       "      <td>2010</td>\n",
       "      <td>5</td>\n",
       "      <td>27</td>\n",
       "    </tr>\n",
       "  </tbody>\n",
       "</table>\n",
       "</div>"
      ],
      "text/plain": [
       "         publication_year  publication_month  publication_day\n",
       "38342                1994                  1                1\n",
       "223539               2008                  2                0\n",
       "1067955              2010                  5               27"
      ]
     },
     "execution_count": 52,
     "metadata": {},
     "output_type": "execute_result"
    }
   ],
   "source": [
    "duplicate_book.loc[duplicate_book[\"publisher\"]==\"Newton Compton\", [\"publication_year\",\"publication_month\", \"publication_day\"]]"
   ]
  },
  {
   "cell_type": "markdown",
   "metadata": {},
   "source": [
    "**Insight**\n",
    "- Most of the publisher has published this book multiple times over the years"
   ]
  },
  {
   "cell_type": "code",
   "execution_count": 53,
   "metadata": {},
   "outputs": [
    {
     "data": {
      "text/html": [
       "<div>\n",
       "<style scoped>\n",
       "    .dataframe tbody tr th:only-of-type {\n",
       "        vertical-align: middle;\n",
       "    }\n",
       "\n",
       "    .dataframe tbody tr th {\n",
       "        vertical-align: top;\n",
       "    }\n",
       "\n",
       "    .dataframe thead th {\n",
       "        text-align: right;\n",
       "    }\n",
       "</style>\n",
       "<table border=\"1\" class=\"dataframe\">\n",
       "  <thead>\n",
       "    <tr style=\"text-align: right;\">\n",
       "      <th></th>\n",
       "      <th>isbn</th>\n",
       "      <th>average_rating</th>\n",
       "      <th>similar_books</th>\n",
       "      <th>description</th>\n",
       "      <th>link</th>\n",
       "      <th>authors</th>\n",
       "      <th>publisher</th>\n",
       "      <th>num_pages</th>\n",
       "      <th>publication_day</th>\n",
       "      <th>publication_month</th>\n",
       "      <th>publication_year</th>\n",
       "      <th>isbn13</th>\n",
       "      <th>url</th>\n",
       "      <th>image_url</th>\n",
       "      <th>gr_book_id</th>\n",
       "      <th>ratings_count</th>\n",
       "      <th>title</th>\n",
       "    </tr>\n",
       "  </thead>\n",
       "  <tbody>\n",
       "    <tr>\n",
       "      <th>32921</th>\n",
       "      <td>141393394</td>\n",
       "      <td>3.76</td>\n",
       "      <td>[93157, 70985, 51497, 36314, 12194, 816740, 12...</td>\n",
       "      <td>Mary Shelley's Frankenstein is the world's mos...</td>\n",
       "      <td>https://www.goodreads.com/book/show/18306732-f...</td>\n",
       "      <td>[{'author_id': '11139', 'role': ''}]</td>\n",
       "      <td>Penguin Classics</td>\n",
       "      <td>273</td>\n",
       "      <td>3</td>\n",
       "      <td>10</td>\n",
       "      <td>2013</td>\n",
       "      <td>9780141393391</td>\n",
       "      <td>https://www.goodreads.com/book/show/18306732-f...</td>\n",
       "      <td>https://images.gr-assets.com/books/1380546334m...</td>\n",
       "      <td>18306732</td>\n",
       "      <td>454</td>\n",
       "      <td>Frankenstein</td>\n",
       "    </tr>\n",
       "    <tr>\n",
       "      <th>368629</th>\n",
       "      <td>143122339</td>\n",
       "      <td>3.76</td>\n",
       "      <td>[93157, 70985, 51497, 36314, 12194, 816740, 12...</td>\n",
       "      <td>Mary Shelley's Frankenstein is the world's mos...</td>\n",
       "      <td>https://www.goodreads.com/book/show/15808305-f...</td>\n",
       "      <td>[{'author_id': '11139', 'role': ''}, {'author_...</td>\n",
       "      <td>Penguin Classics</td>\n",
       "      <td>384</td>\n",
       "      <td>3</td>\n",
       "      <td>10</td>\n",
       "      <td>2013</td>\n",
       "      <td>9780143122333</td>\n",
       "      <td>https://www.goodreads.com/book/show/15808305-f...</td>\n",
       "      <td>https://images.gr-assets.com/books/1373997238m...</td>\n",
       "      <td>15808305</td>\n",
       "      <td>141</td>\n",
       "      <td>Frankenstein</td>\n",
       "    </tr>\n",
       "  </tbody>\n",
       "</table>\n",
       "</div>"
      ],
      "text/plain": [
       "             isbn  average_rating  \\\n",
       "32921   141393394            3.76   \n",
       "368629  143122339            3.76   \n",
       "\n",
       "                                            similar_books  \\\n",
       "32921   [93157, 70985, 51497, 36314, 12194, 816740, 12...   \n",
       "368629  [93157, 70985, 51497, 36314, 12194, 816740, 12...   \n",
       "\n",
       "                                              description  \\\n",
       "32921   Mary Shelley's Frankenstein is the world's mos...   \n",
       "368629  Mary Shelley's Frankenstein is the world's mos...   \n",
       "\n",
       "                                                     link  \\\n",
       "32921   https://www.goodreads.com/book/show/18306732-f...   \n",
       "368629  https://www.goodreads.com/book/show/15808305-f...   \n",
       "\n",
       "                                                  authors         publisher  \\\n",
       "32921                [{'author_id': '11139', 'role': ''}]  Penguin Classics   \n",
       "368629  [{'author_id': '11139', 'role': ''}, {'author_...  Penguin Classics   \n",
       "\n",
       "        num_pages  publication_day  publication_month  publication_year  \\\n",
       "32921         273                3                 10              2013   \n",
       "368629        384                3                 10              2013   \n",
       "\n",
       "               isbn13                                                url  \\\n",
       "32921   9780141393391  https://www.goodreads.com/book/show/18306732-f...   \n",
       "368629  9780143122333  https://www.goodreads.com/book/show/15808305-f...   \n",
       "\n",
       "                                                image_url  gr_book_id  \\\n",
       "32921   https://images.gr-assets.com/books/1380546334m...    18306732   \n",
       "368629  https://images.gr-assets.com/books/1373997238m...    15808305   \n",
       "\n",
       "        ratings_count         title  \n",
       "32921             454  Frankenstein  \n",
       "368629            141  Frankenstein  "
      ]
     },
     "execution_count": 53,
     "metadata": {},
     "output_type": "execute_result"
    }
   ],
   "source": [
    "duplicate_book.loc[(duplicate_book[\"publisher\"]==\"Penguin Classics\") & (duplicate_book[\"publication_year\"]==2013)]"
   ]
  },
  {
   "cell_type": "markdown",
   "metadata": {},
   "source": [
    "**Insight**\n",
    "- \"Penguin Classics\" have published the book same book same day, month and year but with different page numbers as 273 and 384\n",
    "- So, two different versions\n",
    "- But we can say that both are almost equally famous"
   ]
  },
  {
   "cell_type": "code",
   "execution_count": 54,
   "metadata": {},
   "outputs": [],
   "source": [
    "# code stopping point\n",
    "\n",
    "# 10/0"
   ]
  },
  {
   "cell_type": "markdown",
   "metadata": {},
   "source": [
    "### Creating Modified Title to Minimize Search Space"
   ]
  },
  {
   "cell_type": "markdown",
   "metadata": {},
   "source": [
    "**Removing characters apart from A-z, a-z and 0-9 and Space**"
   ]
  },
  {
   "cell_type": "code",
   "execution_count": 55,
   "metadata": {},
   "outputs": [],
   "source": [
    "items[\"mod_title\"] = items[\"title\"].str.replace(\"[^a-zA-Z0-9 ]\", \"\", regex=True)"
   ]
  },
  {
   "cell_type": "markdown",
   "metadata": {},
   "source": [
    "**We will make title lower case**"
   ]
  },
  {
   "cell_type": "code",
   "execution_count": 56,
   "metadata": {},
   "outputs": [],
   "source": [
    "items[\"mod_title\"] = items[\"mod_title\"].str.lower()"
   ]
  },
  {
   "cell_type": "markdown",
   "metadata": {},
   "source": [
    "**Replacing any extra spaces with a single space**"
   ]
  },
  {
   "cell_type": "code",
   "execution_count": 57,
   "metadata": {},
   "outputs": [],
   "source": [
    "items[\"mod_title\"] = items[\"mod_title\"].str.replace(\"\\s+\", \" \", regex=True)"
   ]
  },
  {
   "cell_type": "markdown",
   "metadata": {},
   "source": [
    "**We will keep only those records where the `mod_title` is not empty or has a length > 0**"
   ]
  },
  {
   "cell_type": "code",
   "execution_count": 58,
   "metadata": {},
   "outputs": [],
   "source": [
    "items = items[items[\"mod_title\"].str.len() > 0]"
   ]
  },
  {
   "cell_type": "code",
   "execution_count": 59,
   "metadata": {},
   "outputs": [
    {
     "data": {
      "text/plain": [
       "1302659"
      ]
     },
     "execution_count": 59,
     "metadata": {},
     "output_type": "execute_result"
    }
   ],
   "source": [
    "len(items) "
   ]
  },
  {
   "cell_type": "code",
   "execution_count": 60,
   "metadata": {},
   "outputs": [
    {
     "data": {
      "text/plain": [
       "(1302659, 18)"
      ]
     },
     "execution_count": 60,
     "metadata": {},
     "output_type": "execute_result"
    }
   ],
   "source": [
    "items.shape"
   ]
  },
  {
   "cell_type": "markdown",
   "metadata": {},
   "source": [
    "**Insight**\n",
    "- We can observe a sligt reduction in count which is expected"
   ]
  },
  {
   "cell_type": "markdown",
   "metadata": {},
   "source": [
    "**Exporting the Data as Compressed JSON After Reducing Search Space**"
   ]
  },
  {
   "cell_type": "code",
   "execution_count": 61,
   "metadata": {},
   "outputs": [],
   "source": [
    "# with gzip.open('../Processed/books_ratingcount_gt15_p1.json.gz', 'wt', encoding='utf-8') as file:\n",
    "#     file.write(items.to_json(orient='records', lines=True))"
   ]
  },
  {
   "cell_type": "code",
   "execution_count": null,
   "metadata": {},
   "outputs": [],
   "source": [
    "# execution stop point\n",
    "\n",
    "# 10/0"
   ]
  },
  {
   "cell_type": "markdown",
   "metadata": {},
   "source": [
    "### Removing Records With Title Containing Letters Other Than English"
   ]
  },
  {
   "cell_type": "markdown",
   "metadata": {},
   "source": [
    "**Titles with letter other than Engish becomes `' '` or string of length 1 in the `mod_title` column - Removing those**"
   ]
  },
  {
   "cell_type": "code",
   "execution_count": 63,
   "metadata": {},
   "outputs": [
    {
     "name": "stdout",
     "output_type": "stream",
     "text": [
      "37931\n"
     ]
    }
   ],
   "source": [
    "print(len(items[items[\"mod_title\"].str.len() == 1]))"
   ]
  },
  {
   "cell_type": "markdown",
   "metadata": {},
   "source": [
    "**Getting the indics of those records**"
   ]
  },
  {
   "cell_type": "code",
   "execution_count": 64,
   "metadata": {},
   "outputs": [
    {
     "data": {
      "text/plain": [
       "Index([     28,      37,      38,      43,      65,      72,      85,     118,\n",
       "           175,     198,\n",
       "       ...\n",
       "       1308680, 1308686, 1308691, 1308697, 1308789, 1308850, 1308854, 1308881,\n",
       "       1308931, 1308940],\n",
       "      dtype='int64', length=37931)"
      ]
     },
     "execution_count": 64,
     "metadata": {},
     "output_type": "execute_result"
    }
   ],
   "source": [
    "items_drop = items[items[\"mod_title\"].str.len() == 1].index\n",
    "items_drop"
   ]
  },
  {
   "cell_type": "markdown",
   "metadata": {},
   "source": [
    "**We can crosscheck the net number of books that we will get after dropping the records**\n",
    "- `1302659 - 37931 = 1264728`"
   ]
  },
  {
   "cell_type": "code",
   "execution_count": 65,
   "metadata": {},
   "outputs": [
    {
     "name": "stdout",
     "output_type": "stream",
     "text": [
      "1264728\n",
      "1264728\n"
     ]
    }
   ],
   "source": [
    "print(len(items.drop(index=items_drop)))\n",
    "print(1302659 - 37931)"
   ]
  },
  {
   "cell_type": "markdown",
   "metadata": {},
   "source": [
    "**Dropping the records from the actual DataFrame**"
   ]
  },
  {
   "cell_type": "code",
   "execution_count": 66,
   "metadata": {},
   "outputs": [
    {
     "data": {
      "text/plain": [
       "(1264728, 18)"
      ]
     },
     "execution_count": 66,
     "metadata": {},
     "output_type": "execute_result"
    }
   ],
   "source": [
    "items.drop(index=items_drop, inplace=True)\n",
    "\n",
    "items.shape"
   ]
  },
  {
   "cell_type": "markdown",
   "metadata": {},
   "source": [
    "**Exporting the Data as Compressed JSON After Second Level of Processing**"
   ]
  },
  {
   "cell_type": "code",
   "execution_count": 69,
   "metadata": {},
   "outputs": [],
   "source": [
    "# Export DataFrame to JSON with one line per record\n",
    "# Compress the JSON string and write to a gzip file\n",
    "\n",
    "with gzip.open('../Processed/books_ratingcount_gt15_p2.json.gz', 'wt', encoding='utf-8') as file:\n",
    "    file.write(items.to_json(orient='records', lines=True))"
   ]
  },
  {
   "cell_type": "code",
   "execution_count": null,
   "metadata": {},
   "outputs": [],
   "source": [
    "# execution stop point\n",
    "\n",
    "10/0"
   ]
  },
  {
   "cell_type": "markdown",
   "metadata": {},
   "source": [
    "### Testing The Exported Files"
   ]
  },
  {
   "cell_type": "code",
   "execution_count": 70,
   "metadata": {},
   "outputs": [
    {
     "data": {
      "text/plain": [
       "b'{\"isbn\":743294297,\"average_rating\":3.49,\"similar_books\":[\"6604176\",\"6054190\",\"2285777\",\"82641\",\"7569453\",\"7010683\",\"5941079\",\"7052976\",\"227709\",\"6389685\",\"5456247\",\"3134684\"],\"description\":\"Addie Downs and Valerie Adler were eight when they first met and decided to be best friends forever. But, in the wake of tragedy and betrayal during their teenage years, everything changed. Val went on to fame and fortune. Addie stayed behind in their small Midwestern town. Destiny, however, had more in store for these two. And when, twenty-five years later, Val shows up at Addie\\'s front door with blood on her coat and terror on her face, it is the beginning of a wild adventure for two women joined by love and history who find strength together that they could not find alone.\",\"link\":\"https:\\\\/\\\\/www.goodreads.com\\\\/book\\\\/show\\\\/6066819-best-friends-forever\",\"authors\":[{\"author_id\":\"9212\",\"role\":\"\"}],\"publisher\":\"Atria Books\",\"num_pages\":368,\"publication_day\":14,\"publication_month\":7,\"publication_year\":2009,\"isbn13\":9780743294294,\"url\":\"https:\\\\/\\\\/www.goodreads.com\\\\/book\\\\/show\\\\/6066819-best-friends-forever\",\"image_url\":\"https:\\\\/\\\\/s.gr-assets.com\\\\/assets\\\\/nophoto\\\\/book\\\\/111x148-bcc042a9c91a29c1d680899eff700a03.png\",\"gr_book_id\":6066819,\"ratings_count\":51184,\"title\":\"Best Friends Forever\",\"mod_title\":\"best friends forever\"}\\r\\n'"
      ]
     },
     "execution_count": 70,
     "metadata": {},
     "output_type": "execute_result"
    }
   ],
   "source": [
    "# testing the file  => opening gzip file streaming fashion\n",
    "\n",
    "with gzip.open('../Processed/books_ratingcount_gt15_p2.json.gz') as file:\n",
    "    for i in range(2):\n",
    "        line = file.readline()\n",
    "\n",
    "line"
   ]
  },
  {
   "cell_type": "code",
   "execution_count": 71,
   "metadata": {},
   "outputs": [
    {
     "data": {
      "text/plain": [
       "{'isbn': 743294297,\n",
       " 'average_rating': 3.49,\n",
       " 'similar_books': ['6604176',\n",
       "  '6054190',\n",
       "  '2285777',\n",
       "  '82641',\n",
       "  '7569453',\n",
       "  '7010683',\n",
       "  '5941079',\n",
       "  '7052976',\n",
       "  '227709',\n",
       "  '6389685',\n",
       "  '5456247',\n",
       "  '3134684'],\n",
       " 'description': \"Addie Downs and Valerie Adler were eight when they first met and decided to be best friends forever. But, in the wake of tragedy and betrayal during their teenage years, everything changed. Val went on to fame and fortune. Addie stayed behind in their small Midwestern town. Destiny, however, had more in store for these two. And when, twenty-five years later, Val shows up at Addie's front door with blood on her coat and terror on her face, it is the beginning of a wild adventure for two women joined by love and history who find strength together that they could not find alone.\",\n",
       " 'link': 'https://www.goodreads.com/book/show/6066819-best-friends-forever',\n",
       " 'authors': [{'author_id': '9212', 'role': ''}],\n",
       " 'publisher': 'Atria Books',\n",
       " 'num_pages': 368,\n",
       " 'publication_day': 14,\n",
       " 'publication_month': 7,\n",
       " 'publication_year': 2009,\n",
       " 'isbn13': 9780743294294,\n",
       " 'url': 'https://www.goodreads.com/book/show/6066819-best-friends-forever',\n",
       " 'image_url': 'https://s.gr-assets.com/assets/nophoto/book/111x148-bcc042a9c91a29c1d680899eff700a03.png',\n",
       " 'gr_book_id': 6066819,\n",
       " 'ratings_count': 51184,\n",
       " 'title': 'Best Friends Forever',\n",
       " 'mod_title': 'best friends forever'}"
      ]
     },
     "execution_count": 71,
     "metadata": {},
     "output_type": "execute_result"
    }
   ],
   "source": [
    "json.loads(line)"
   ]
  }
 ],
 "metadata": {
  "kernelspec": {
   "display_name": "Python 3",
   "language": "python",
   "name": "python3"
  },
  "language_info": {
   "codemirror_mode": {
    "name": "ipython",
    "version": 3
   },
   "file_extension": ".py",
   "mimetype": "text/x-python",
   "name": "python",
   "nbconvert_exporter": "python",
   "pygments_lexer": "ipython3",
   "version": "3.10.11"
  }
 },
 "nbformat": 4,
 "nbformat_minor": 2
}
