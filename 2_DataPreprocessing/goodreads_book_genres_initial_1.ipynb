{
 "cells": [
  {
   "cell_type": "markdown",
   "metadata": {},
   "source": [
    "**Modules**"
   ]
  },
  {
   "cell_type": "code",
   "execution_count": 7,
   "metadata": {},
   "outputs": [],
   "source": [
    "import pandas as pd\n",
    "import gzip\n",
    "import json"
   ]
  },
  {
   "cell_type": "markdown",
   "metadata": {},
   "source": [
    "**Reading data sample - json.gz**"
   ]
  },
  {
   "cell_type": "code",
   "execution_count": 13,
   "metadata": {},
   "outputs": [
    {
     "data": {
      "text/plain": [
       "'{\"book_id\": \"5333265\", \"genres\": {\"history, historical fiction, biography\": 1}}\\n'"
      ]
     },
     "execution_count": 13,
     "metadata": {},
     "output_type": "execute_result"
    }
   ],
   "source": [
    "with gzip.open(\"../1_DataSource/goodreads_book_genres_initial.json.gz\", 'rt') as f:\n",
    "    line = f.readline()\n",
    "\n",
    "line"
   ]
  },
  {
   "cell_type": "code",
   "execution_count": 14,
   "metadata": {},
   "outputs": [
    {
     "data": {
      "text/plain": [
       "{'book_id': '5333265', 'genres': {'history, historical fiction, biography': 1}}"
      ]
     },
     "execution_count": 14,
     "metadata": {},
     "output_type": "execute_result"
    }
   ],
   "source": [
    "json.loads(line)"
   ]
  },
  {
   "cell_type": "markdown",
   "metadata": {},
   "source": [
    "**Parsing function**"
   ]
  },
  {
   "cell_type": "code",
   "execution_count": 15,
   "metadata": {},
   "outputs": [],
   "source": [
    "def parse_fields(json_line):\n",
    "    dict_data = json.loads(json_line)\n",
    "\n",
    "    return {\n",
    "        'book_id': dict_data['book_id'],\n",
    "        'genres': dict_data['genres'],\n",
    "    }"
   ]
  },
  {
   "cell_type": "markdown",
   "metadata": {},
   "source": [
    "**Reading complete data**"
   ]
  },
  {
   "cell_type": "code",
   "execution_count": 81,
   "metadata": {},
   "outputs": [],
   "source": [
    "book_genres = []\n",
    "\n",
    "with gzip.open(\"../1_DataSource/goodreads_book_genres_initial.json.gz\", 'rt') as f:\n",
    "    while True:\n",
    "        # reading the line\n",
    "        line = f.readline()\n",
    "\n",
    "        # we will break the infinite loop when we reach the end of the dataset file\n",
    "        if not line:\n",
    "            break\n",
    "        \n",
    "        # parsing the line\n",
    "        fields = parse_fields(line)\n",
    "        book_genres.append(fields)"
   ]
  },
  {
   "cell_type": "code",
   "execution_count": 82,
   "metadata": {},
   "outputs": [
    {
     "data": {
      "text/plain": [
       "2360655"
      ]
     },
     "execution_count": 82,
     "metadata": {},
     "output_type": "execute_result"
    }
   ],
   "source": [
    "len(book_genres)"
   ]
  },
  {
   "cell_type": "markdown",
   "metadata": {},
   "source": [
    "**Looking at genres**"
   ]
  },
  {
   "cell_type": "code",
   "execution_count": 83,
   "metadata": {},
   "outputs": [
    {
     "name": "stdout",
     "output_type": "stream",
     "text": [
      "{'fiction': 19, 'history, historical fiction, biography': 38, 'mystery, thriller, crime': 38}\n",
      "{'fantasy, paranormal': 11, 'mystery, thriller, crime': 12, 'fiction': 3, 'history, historical fiction, biography': 4}\n",
      "{'non-fiction': 266, 'fiction': 33, 'young-adult': 3, 'poetry': 3, 'children': 3}\n",
      "{}\n",
      "{'fiction': 1760, 'mystery, thriller, crime': 31, 'history, historical fiction, biography': 12}\n"
     ]
    }
   ],
   "source": [
    "for item in book_genres[10:15]:\n",
    "    print(item[\"genres\"])"
   ]
  },
  {
   "cell_type": "code",
   "execution_count": 84,
   "metadata": {},
   "outputs": [
    {
     "name": "stdout",
     "output_type": "stream",
     "text": [
      "['fiction', 'history, historical fiction, biography', 'mystery, thriller, crime']\n",
      "['fantasy, paranormal', 'mystery, thriller, crime', 'fiction', 'history, historical fiction, biography']\n",
      "['non-fiction', 'fiction', 'young-adult', 'poetry', 'children']\n",
      "[]\n",
      "['fiction', 'mystery, thriller, crime', 'history, historical fiction, biography']\n"
     ]
    }
   ],
   "source": [
    "for item in book_genres[10:15]:\n",
    "    print(list(item[\"genres\"].keys()))"
   ]
  },
  {
   "cell_type": "markdown",
   "metadata": {},
   "source": [
    "- In the 10th item of book_genres, although it looks like there are 7 genres but there are 3 as per the item count.\n",
    "  - This is because `'history, historical fiction, biography'` and `'mystery, thriller, crime'` are single genres.\n",
    "  - We need to reconstruct the genres list"
   ]
  },
  {
   "cell_type": "markdown",
   "metadata": {},
   "source": [
    "**Restructuring genres**"
   ]
  },
  {
   "cell_type": "code",
   "execution_count": 85,
   "metadata": {},
   "outputs": [],
   "source": [
    "for index, item in enumerate(book_genres):\n",
    "    genres_list = list(item[\"genres\"].keys())\n",
    "    \n",
    "    total_genres = []\n",
    "    for i in genres_list:\n",
    "        total_genres.extend(i.split(\",\"))\n",
    "\n",
    "    book_genres[index][\"genres\"] = total_genres"
   ]
  },
  {
   "cell_type": "markdown",
   "metadata": {},
   "source": [
    "**Genres structure updated - crosscheck**"
   ]
  },
  {
   "cell_type": "code",
   "execution_count": 86,
   "metadata": {},
   "outputs": [
    {
     "name": "stdout",
     "output_type": "stream",
     "text": [
      "['fiction', 'history', ' historical fiction', ' biography', 'mystery', ' thriller', ' crime']\n",
      "['fantasy', ' paranormal', 'mystery', ' thriller', ' crime', 'fiction', 'history', ' historical fiction', ' biography']\n",
      "['non-fiction', 'fiction', 'young-adult', 'poetry', 'children']\n",
      "[]\n",
      "['fiction', 'mystery', ' thriller', ' crime', 'history', ' historical fiction', ' biography']\n"
     ]
    }
   ],
   "source": [
    "for item in book_genres[10:15]:\n",
    "    print(item[\"genres\"])"
   ]
  },
  {
   "cell_type": "markdown",
   "metadata": {},
   "source": [
    "**Removing unwanted space from genres**"
   ]
  },
  {
   "cell_type": "code",
   "execution_count": 87,
   "metadata": {},
   "outputs": [],
   "source": [
    "for index, item in enumerate(book_genres):\n",
    "    genres_list = list(item[\"genres\"])\n",
    "    \n",
    "    for i,genre in enumerate(genres_list):\n",
    "        genres_list[i] = genre.strip(\" \")\n",
    "\n",
    "    book_genres[index][\"genres\"] = genres_list"
   ]
  },
  {
   "cell_type": "markdown",
   "metadata": {},
   "source": [
    "**Unwanted space removed - Crosscheck**"
   ]
  },
  {
   "cell_type": "code",
   "execution_count": 88,
   "metadata": {},
   "outputs": [
    {
     "name": "stdout",
     "output_type": "stream",
     "text": [
      "['fiction', 'history', 'historical fiction', 'biography', 'mystery', 'thriller', 'crime']\n",
      "['fantasy', 'paranormal', 'mystery', 'thriller', 'crime', 'fiction', 'history', 'historical fiction', 'biography']\n",
      "['non-fiction', 'fiction', 'young-adult', 'poetry', 'children']\n",
      "[]\n",
      "['fiction', 'mystery', 'thriller', 'crime', 'history', 'historical fiction', 'biography']\n"
     ]
    }
   ],
   "source": [
    "for item in book_genres[10:15]:\n",
    "    print(item[\"genres\"])"
   ]
  },
  {
   "cell_type": "markdown",
   "metadata": {},
   "source": [
    "**Extracting unique genres**"
   ]
  },
  {
   "cell_type": "code",
   "execution_count": 89,
   "metadata": {},
   "outputs": [],
   "source": [
    "unique_genres_list = list()\n",
    "\n",
    "for i in book_genres:\n",
    "    unique_genres_list.extend(i[\"genres\"])"
   ]
  },
  {
   "cell_type": "code",
   "execution_count": 90,
   "metadata": {},
   "outputs": [
    {
     "data": {
      "text/plain": [
       "8126034"
      ]
     },
     "execution_count": 90,
     "metadata": {},
     "output_type": "execute_result"
    }
   ],
   "source": [
    "len(unique_genres_list)"
   ]
  },
  {
   "cell_type": "code",
   "execution_count": 91,
   "metadata": {},
   "outputs": [
    {
     "data": {
      "text/plain": [
       "['history',\n",
       " 'historical fiction',\n",
       " 'biography',\n",
       " 'fiction',\n",
       " 'history',\n",
       " 'historical fiction',\n",
       " 'biography',\n",
       " 'fantasy',\n",
       " 'paranormal',\n",
       " 'fiction']"
      ]
     },
     "execution_count": 91,
     "metadata": {},
     "output_type": "execute_result"
    }
   ],
   "source": [
    "unique_genres_list[:10]"
   ]
  },
  {
   "cell_type": "code",
   "execution_count": 94,
   "metadata": {},
   "outputs": [],
   "source": [
    "unique_genres = list(set(unique_genres_list))\n",
    "unique_genres.sort()"
   ]
  },
  {
   "cell_type": "code",
   "execution_count": 97,
   "metadata": {},
   "outputs": [
    {
     "data": {
      "text/plain": [
       "['biography',\n",
       " 'children',\n",
       " 'comics',\n",
       " 'crime',\n",
       " 'fantasy',\n",
       " 'fiction',\n",
       " 'graphic',\n",
       " 'historical fiction',\n",
       " 'history',\n",
       " 'mystery',\n",
       " 'non-fiction',\n",
       " 'paranormal',\n",
       " 'poetry',\n",
       " 'romance',\n",
       " 'thriller',\n",
       " 'young-adult']"
      ]
     },
     "execution_count": 97,
     "metadata": {},
     "output_type": "execute_result"
    }
   ],
   "source": [
    "unique_genres"
   ]
  },
  {
   "cell_type": "code",
   "execution_count": 96,
   "metadata": {},
   "outputs": [
    {
     "data": {
      "text/plain": [
       "16"
      ]
     },
     "execution_count": 96,
     "metadata": {},
     "output_type": "execute_result"
    }
   ],
   "source": [
    "len(unique_genres)"
   ]
  },
  {
   "cell_type": "markdown",
   "metadata": {},
   "source": [
    "**Create dataframe**"
   ]
  },
  {
   "cell_type": "code",
   "execution_count": 99,
   "metadata": {},
   "outputs": [],
   "source": [
    "bookid_genre = pd.DataFrame.from_dict(book_genres)"
   ]
  },
  {
   "cell_type": "code",
   "execution_count": 100,
   "metadata": {},
   "outputs": [
    {
     "data": {
      "text/plain": [
       "(2360655, 2)"
      ]
     },
     "execution_count": 100,
     "metadata": {},
     "output_type": "execute_result"
    }
   ],
   "source": [
    "bookid_genre.shape"
   ]
  },
  {
   "cell_type": "code",
   "execution_count": 101,
   "metadata": {},
   "outputs": [
    {
     "data": {
      "text/html": [
       "<div>\n",
       "<style scoped>\n",
       "    .dataframe tbody tr th:only-of-type {\n",
       "        vertical-align: middle;\n",
       "    }\n",
       "\n",
       "    .dataframe tbody tr th {\n",
       "        vertical-align: top;\n",
       "    }\n",
       "\n",
       "    .dataframe thead th {\n",
       "        text-align: right;\n",
       "    }\n",
       "</style>\n",
       "<table border=\"1\" class=\"dataframe\">\n",
       "  <thead>\n",
       "    <tr style=\"text-align: right;\">\n",
       "      <th></th>\n",
       "      <th>book_id</th>\n",
       "      <th>genres</th>\n",
       "    </tr>\n",
       "  </thead>\n",
       "  <tbody>\n",
       "    <tr>\n",
       "      <th>0</th>\n",
       "      <td>5333265</td>\n",
       "      <td>[history, historical fiction, biography]</td>\n",
       "    </tr>\n",
       "    <tr>\n",
       "      <th>1</th>\n",
       "      <td>1333909</td>\n",
       "      <td>[fiction, history, historical fiction, biography]</td>\n",
       "    </tr>\n",
       "    <tr>\n",
       "      <th>2</th>\n",
       "      <td>7327624</td>\n",
       "      <td>[fantasy, paranormal, fiction, mystery, thrill...</td>\n",
       "    </tr>\n",
       "    <tr>\n",
       "      <th>3</th>\n",
       "      <td>6066819</td>\n",
       "      <td>[fiction, romance, mystery, thriller, crime]</td>\n",
       "    </tr>\n",
       "    <tr>\n",
       "      <th>4</th>\n",
       "      <td>287140</td>\n",
       "      <td>[non-fiction]</td>\n",
       "    </tr>\n",
       "  </tbody>\n",
       "</table>\n",
       "</div>"
      ],
      "text/plain": [
       "   book_id                                             genres\n",
       "0  5333265           [history, historical fiction, biography]\n",
       "1  1333909  [fiction, history, historical fiction, biography]\n",
       "2  7327624  [fantasy, paranormal, fiction, mystery, thrill...\n",
       "3  6066819       [fiction, romance, mystery, thriller, crime]\n",
       "4   287140                                      [non-fiction]"
      ]
     },
     "execution_count": 101,
     "metadata": {},
     "output_type": "execute_result"
    }
   ],
   "source": [
    "bookid_genre.head()"
   ]
  },
  {
   "cell_type": "code",
   "execution_count": 102,
   "metadata": {},
   "outputs": [
    {
     "data": {
      "text/html": [
       "<div>\n",
       "<style scoped>\n",
       "    .dataframe tbody tr th:only-of-type {\n",
       "        vertical-align: middle;\n",
       "    }\n",
       "\n",
       "    .dataframe tbody tr th {\n",
       "        vertical-align: top;\n",
       "    }\n",
       "\n",
       "    .dataframe thead th {\n",
       "        text-align: right;\n",
       "    }\n",
       "</style>\n",
       "<table border=\"1\" class=\"dataframe\">\n",
       "  <thead>\n",
       "    <tr style=\"text-align: right;\">\n",
       "      <th></th>\n",
       "      <th>book_id</th>\n",
       "      <th>genres</th>\n",
       "    </tr>\n",
       "  </thead>\n",
       "  <tbody>\n",
       "    <tr>\n",
       "      <th>2360650</th>\n",
       "      <td>3084038</td>\n",
       "      <td>[non-fiction, history, historical fiction, bio...</td>\n",
       "    </tr>\n",
       "    <tr>\n",
       "      <th>2360651</th>\n",
       "      <td>26168430</td>\n",
       "      <td>[mystery, thriller, crime, children, fiction]</td>\n",
       "    </tr>\n",
       "    <tr>\n",
       "      <th>2360652</th>\n",
       "      <td>2342551</td>\n",
       "      <td>[poetry, children, young-adult, non-fiction]</td>\n",
       "    </tr>\n",
       "    <tr>\n",
       "      <th>2360653</th>\n",
       "      <td>22017381</td>\n",
       "      <td>[romance, mystery, thriller, crime]</td>\n",
       "    </tr>\n",
       "    <tr>\n",
       "      <th>2360654</th>\n",
       "      <td>11419866</td>\n",
       "      <td>[romance, fiction]</td>\n",
       "    </tr>\n",
       "  </tbody>\n",
       "</table>\n",
       "</div>"
      ],
      "text/plain": [
       "          book_id                                             genres\n",
       "2360650   3084038  [non-fiction, history, historical fiction, bio...\n",
       "2360651  26168430      [mystery, thriller, crime, children, fiction]\n",
       "2360652   2342551       [poetry, children, young-adult, non-fiction]\n",
       "2360653  22017381                [romance, mystery, thriller, crime]\n",
       "2360654  11419866                                 [romance, fiction]"
      ]
     },
     "execution_count": 102,
     "metadata": {},
     "output_type": "execute_result"
    }
   ],
   "source": [
    "bookid_genre.tail()"
   ]
  },
  {
   "cell_type": "code",
   "execution_count": 106,
   "metadata": {},
   "outputs": [
    {
     "name": "stdout",
     "output_type": "stream",
     "text": [
      "['history', 'historical fiction', 'biography']\n",
      "3\n"
     ]
    }
   ],
   "source": [
    "print(bookid_genre[\"genres\"][0])\n",
    "print(len(bookid_genre[\"genres\"][0]))"
   ]
  },
  {
   "cell_type": "markdown",
   "metadata": {},
   "source": [
    "**List of books without genres**"
   ]
  },
  {
   "cell_type": "code",
   "execution_count": 111,
   "metadata": {},
   "outputs": [
    {
     "data": {
      "text/html": [
       "<div>\n",
       "<style scoped>\n",
       "    .dataframe tbody tr th:only-of-type {\n",
       "        vertical-align: middle;\n",
       "    }\n",
       "\n",
       "    .dataframe tbody tr th {\n",
       "        vertical-align: top;\n",
       "    }\n",
       "\n",
       "    .dataframe thead th {\n",
       "        text-align: right;\n",
       "    }\n",
       "</style>\n",
       "<table border=\"1\" class=\"dataframe\">\n",
       "  <thead>\n",
       "    <tr style=\"text-align: right;\">\n",
       "      <th></th>\n",
       "      <th>book_id</th>\n",
       "      <th>genres</th>\n",
       "    </tr>\n",
       "  </thead>\n",
       "  <tbody>\n",
       "    <tr>\n",
       "      <th>13</th>\n",
       "      <td>28575155</td>\n",
       "      <td>[]</td>\n",
       "    </tr>\n",
       "    <tr>\n",
       "      <th>20</th>\n",
       "      <td>30227122</td>\n",
       "      <td>[]</td>\n",
       "    </tr>\n",
       "    <tr>\n",
       "      <th>26</th>\n",
       "      <td>287142</td>\n",
       "      <td>[]</td>\n",
       "    </tr>\n",
       "    <tr>\n",
       "      <th>27</th>\n",
       "      <td>16037548</td>\n",
       "      <td>[]</td>\n",
       "    </tr>\n",
       "    <tr>\n",
       "      <th>36</th>\n",
       "      <td>24994796</td>\n",
       "      <td>[]</td>\n",
       "    </tr>\n",
       "    <tr>\n",
       "      <th>...</th>\n",
       "      <td>...</td>\n",
       "      <td>...</td>\n",
       "    </tr>\n",
       "    <tr>\n",
       "      <th>2360615</th>\n",
       "      <td>35213446</td>\n",
       "      <td>[]</td>\n",
       "    </tr>\n",
       "    <tr>\n",
       "      <th>2360617</th>\n",
       "      <td>33640526</td>\n",
       "      <td>[]</td>\n",
       "    </tr>\n",
       "    <tr>\n",
       "      <th>2360625</th>\n",
       "      <td>31248182</td>\n",
       "      <td>[]</td>\n",
       "    </tr>\n",
       "    <tr>\n",
       "      <th>2360635</th>\n",
       "      <td>31624372</td>\n",
       "      <td>[]</td>\n",
       "    </tr>\n",
       "    <tr>\n",
       "      <th>2360646</th>\n",
       "      <td>17061397</td>\n",
       "      <td>[]</td>\n",
       "    </tr>\n",
       "  </tbody>\n",
       "</table>\n",
       "<p>409513 rows × 2 columns</p>\n",
       "</div>"
      ],
      "text/plain": [
       "          book_id genres\n",
       "13       28575155     []\n",
       "20       30227122     []\n",
       "26         287142     []\n",
       "27       16037548     []\n",
       "36       24994796     []\n",
       "...           ...    ...\n",
       "2360615  35213446     []\n",
       "2360617  33640526     []\n",
       "2360625  31248182     []\n",
       "2360635  31624372     []\n",
       "2360646  17061397     []\n",
       "\n",
       "[409513 rows x 2 columns]"
      ]
     },
     "execution_count": 111,
     "metadata": {},
     "output_type": "execute_result"
    }
   ],
   "source": [
    "bookid_genre.loc[bookid_genre['genres'].apply(lambda x: len(x) < 1)]"
   ]
  },
  {
   "cell_type": "markdown",
   "metadata": {},
   "source": [
    "**We will capture the index**"
   ]
  },
  {
   "cell_type": "code",
   "execution_count": 112,
   "metadata": {},
   "outputs": [
    {
     "data": {
      "text/plain": [
       "Index([     13,      20,      26,      27,      36,      39,      46,      47,\n",
       "            53,      62,\n",
       "       ...\n",
       "       2360596, 2360597, 2360606, 2360613, 2360614, 2360615, 2360617, 2360625,\n",
       "       2360635, 2360646],\n",
       "      dtype='int64', length=409513)"
      ]
     },
     "execution_count": 112,
     "metadata": {},
     "output_type": "execute_result"
    }
   ],
   "source": [
    "no_genre_indices = bookid_genre.loc[bookid_genre['genres'].apply(lambda x: len(x) < 1)].index\n",
    "no_genre_indices"
   ]
  },
  {
   "cell_type": "markdown",
   "metadata": {},
   "source": [
    "**Dropping the records without genre**"
   ]
  },
  {
   "cell_type": "code",
   "execution_count": 113,
   "metadata": {},
   "outputs": [],
   "source": [
    "books_with_genre = bookid_genre.drop(index=no_genre_indices)"
   ]
  },
  {
   "cell_type": "code",
   "execution_count": 114,
   "metadata": {},
   "outputs": [
    {
     "data": {
      "text/plain": [
       "(1951142, 2)"
      ]
     },
     "execution_count": 114,
     "metadata": {},
     "output_type": "execute_result"
    }
   ],
   "source": [
    "books_with_genre.shape"
   ]
  },
  {
   "cell_type": "code",
   "execution_count": 115,
   "metadata": {},
   "outputs": [
    {
     "data": {
      "text/html": [
       "<div>\n",
       "<style scoped>\n",
       "    .dataframe tbody tr th:only-of-type {\n",
       "        vertical-align: middle;\n",
       "    }\n",
       "\n",
       "    .dataframe tbody tr th {\n",
       "        vertical-align: top;\n",
       "    }\n",
       "\n",
       "    .dataframe thead th {\n",
       "        text-align: right;\n",
       "    }\n",
       "</style>\n",
       "<table border=\"1\" class=\"dataframe\">\n",
       "  <thead>\n",
       "    <tr style=\"text-align: right;\">\n",
       "      <th></th>\n",
       "      <th>book_id</th>\n",
       "      <th>genres</th>\n",
       "    </tr>\n",
       "  </thead>\n",
       "  <tbody>\n",
       "    <tr>\n",
       "      <th>0</th>\n",
       "      <td>5333265</td>\n",
       "      <td>[history, historical fiction, biography]</td>\n",
       "    </tr>\n",
       "    <tr>\n",
       "      <th>1</th>\n",
       "      <td>1333909</td>\n",
       "      <td>[fiction, history, historical fiction, biography]</td>\n",
       "    </tr>\n",
       "    <tr>\n",
       "      <th>2</th>\n",
       "      <td>7327624</td>\n",
       "      <td>[fantasy, paranormal, fiction, mystery, thrill...</td>\n",
       "    </tr>\n",
       "    <tr>\n",
       "      <th>3</th>\n",
       "      <td>6066819</td>\n",
       "      <td>[fiction, romance, mystery, thriller, crime]</td>\n",
       "    </tr>\n",
       "    <tr>\n",
       "      <th>4</th>\n",
       "      <td>287140</td>\n",
       "      <td>[non-fiction]</td>\n",
       "    </tr>\n",
       "  </tbody>\n",
       "</table>\n",
       "</div>"
      ],
      "text/plain": [
       "   book_id                                             genres\n",
       "0  5333265           [history, historical fiction, biography]\n",
       "1  1333909  [fiction, history, historical fiction, biography]\n",
       "2  7327624  [fantasy, paranormal, fiction, mystery, thrill...\n",
       "3  6066819       [fiction, romance, mystery, thriller, crime]\n",
       "4   287140                                      [non-fiction]"
      ]
     },
     "execution_count": 115,
     "metadata": {},
     "output_type": "execute_result"
    }
   ],
   "source": [
    "books_with_genre.head()"
   ]
  },
  {
   "cell_type": "code",
   "execution_count": 116,
   "metadata": {},
   "outputs": [
    {
     "data": {
      "text/html": [
       "<div>\n",
       "<style scoped>\n",
       "    .dataframe tbody tr th:only-of-type {\n",
       "        vertical-align: middle;\n",
       "    }\n",
       "\n",
       "    .dataframe tbody tr th {\n",
       "        vertical-align: top;\n",
       "    }\n",
       "\n",
       "    .dataframe thead th {\n",
       "        text-align: right;\n",
       "    }\n",
       "</style>\n",
       "<table border=\"1\" class=\"dataframe\">\n",
       "  <thead>\n",
       "    <tr style=\"text-align: right;\">\n",
       "      <th></th>\n",
       "      <th>book_id</th>\n",
       "      <th>genres</th>\n",
       "    </tr>\n",
       "  </thead>\n",
       "  <tbody>\n",
       "    <tr>\n",
       "      <th>2360650</th>\n",
       "      <td>3084038</td>\n",
       "      <td>[non-fiction, history, historical fiction, bio...</td>\n",
       "    </tr>\n",
       "    <tr>\n",
       "      <th>2360651</th>\n",
       "      <td>26168430</td>\n",
       "      <td>[mystery, thriller, crime, children, fiction]</td>\n",
       "    </tr>\n",
       "    <tr>\n",
       "      <th>2360652</th>\n",
       "      <td>2342551</td>\n",
       "      <td>[poetry, children, young-adult, non-fiction]</td>\n",
       "    </tr>\n",
       "    <tr>\n",
       "      <th>2360653</th>\n",
       "      <td>22017381</td>\n",
       "      <td>[romance, mystery, thriller, crime]</td>\n",
       "    </tr>\n",
       "    <tr>\n",
       "      <th>2360654</th>\n",
       "      <td>11419866</td>\n",
       "      <td>[romance, fiction]</td>\n",
       "    </tr>\n",
       "  </tbody>\n",
       "</table>\n",
       "</div>"
      ],
      "text/plain": [
       "          book_id                                             genres\n",
       "2360650   3084038  [non-fiction, history, historical fiction, bio...\n",
       "2360651  26168430      [mystery, thriller, crime, children, fiction]\n",
       "2360652   2342551       [poetry, children, young-adult, non-fiction]\n",
       "2360653  22017381                [romance, mystery, thriller, crime]\n",
       "2360654  11419866                                 [romance, fiction]"
      ]
     },
     "execution_count": 116,
     "metadata": {},
     "output_type": "execute_result"
    }
   ],
   "source": [
    "books_with_genre.tail()"
   ]
  },
  {
   "cell_type": "markdown",
   "metadata": {},
   "source": [
    "**Exporting the dataframe**"
   ]
  },
  {
   "cell_type": "code",
   "execution_count": 117,
   "metadata": {},
   "outputs": [],
   "source": [
    "books_with_genre.to_parquet('../3_ProcessedData/books_with_genre_RE_v1.parquet', index=True, compression=\"snappy\")"
   ]
  }
 ],
 "metadata": {
  "kernelspec": {
   "display_name": "Python 3",
   "language": "python",
   "name": "python3"
  },
  "language_info": {
   "codemirror_mode": {
    "name": "ipython",
    "version": 3
   },
   "file_extension": ".py",
   "mimetype": "text/x-python",
   "name": "python",
   "nbconvert_exporter": "python",
   "pygments_lexer": "ipython3",
   "version": "3.10.11"
  }
 },
 "nbformat": 4,
 "nbformat_minor": 2
}
