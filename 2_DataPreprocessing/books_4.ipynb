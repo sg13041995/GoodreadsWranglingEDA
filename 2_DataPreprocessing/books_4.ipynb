{
 "cells": [
  {
   "cell_type": "markdown",
   "metadata": {},
   "source": [
    "**Modules**"
   ]
  },
  {
   "cell_type": "code",
   "execution_count": 1,
   "metadata": {},
   "outputs": [],
   "source": [
    "import pandas as pd"
   ]
  },
  {
   "cell_type": "markdown",
   "metadata": {},
   "source": [
    "**Import data**"
   ]
  },
  {
   "cell_type": "code",
   "execution_count": 2,
   "metadata": {},
   "outputs": [],
   "source": [
    "items = pd.read_parquet('../3_ProcessedData/books_SE_v4.parquet')"
   ]
  },
  {
   "cell_type": "code",
   "execution_count": 3,
   "metadata": {},
   "outputs": [
    {
     "data": {
      "text/plain": [
       "(2113033, 20)"
      ]
     },
     "execution_count": 3,
     "metadata": {},
     "output_type": "execute_result"
    }
   ],
   "source": [
    "items.shape"
   ]
  },
  {
   "cell_type": "code",
   "execution_count": 4,
   "metadata": {},
   "outputs": [
    {
     "data": {
      "text/plain": [
       "Index(['isbn', 'country_code', 'language_code', 'average_rating',\n",
       "       'description', 'link', 'publisher', 'num_pages', 'publication_day',\n",
       "       'isbn13', 'publication_month', 'publication_year', 'url', 'image_url',\n",
       "       'book_id', 'ratings_count', 'title', 'title_without_series',\n",
       "       'mod_title', 'mod_title_without_series'],\n",
       "      dtype='object')"
      ]
     },
     "execution_count": 4,
     "metadata": {},
     "output_type": "execute_result"
    }
   ],
   "source": [
    "items.columns"
   ]
  },
  {
   "cell_type": "code",
   "execution_count": 5,
   "metadata": {},
   "outputs": [
    {
     "data": {
      "text/html": [
       "<div>\n",
       "<style scoped>\n",
       "    .dataframe tbody tr th:only-of-type {\n",
       "        vertical-align: middle;\n",
       "    }\n",
       "\n",
       "    .dataframe tbody tr th {\n",
       "        vertical-align: top;\n",
       "    }\n",
       "\n",
       "    .dataframe thead th {\n",
       "        text-align: right;\n",
       "    }\n",
       "</style>\n",
       "<table border=\"1\" class=\"dataframe\">\n",
       "  <thead>\n",
       "    <tr style=\"text-align: right;\">\n",
       "      <th></th>\n",
       "      <th>isbn</th>\n",
       "      <th>country_code</th>\n",
       "      <th>language_code</th>\n",
       "      <th>average_rating</th>\n",
       "      <th>description</th>\n",
       "      <th>link</th>\n",
       "      <th>publisher</th>\n",
       "      <th>num_pages</th>\n",
       "      <th>publication_day</th>\n",
       "      <th>isbn13</th>\n",
       "      <th>publication_month</th>\n",
       "      <th>publication_year</th>\n",
       "      <th>url</th>\n",
       "      <th>image_url</th>\n",
       "      <th>book_id</th>\n",
       "      <th>ratings_count</th>\n",
       "      <th>title</th>\n",
       "      <th>title_without_series</th>\n",
       "      <th>mod_title</th>\n",
       "      <th>mod_title_without_series</th>\n",
       "    </tr>\n",
       "  </thead>\n",
       "  <tbody>\n",
       "    <tr>\n",
       "      <th>0</th>\n",
       "      <td>0312853122</td>\n",
       "      <td>US</td>\n",
       "      <td></td>\n",
       "      <td>4.00</td>\n",
       "      <td></td>\n",
       "      <td>https://www.goodreads.com/book/show/5333265-w-...</td>\n",
       "      <td>St. Martin's Press</td>\n",
       "      <td>256</td>\n",
       "      <td>1</td>\n",
       "      <td>9780312853129</td>\n",
       "      <td>9</td>\n",
       "      <td>1984</td>\n",
       "      <td>https://www.goodreads.com/book/show/5333265-w-...</td>\n",
       "      <td>https://images.gr-assets.com/books/1310220028m...</td>\n",
       "      <td>5333265</td>\n",
       "      <td>3</td>\n",
       "      <td>W.C. Fields: A Life on Film</td>\n",
       "      <td>W.C. Fields: A Life on Film</td>\n",
       "      <td>wc fields a life on film</td>\n",
       "      <td>wc fields a life on film</td>\n",
       "    </tr>\n",
       "    <tr>\n",
       "      <th>1</th>\n",
       "      <td>0743509986</td>\n",
       "      <td>US</td>\n",
       "      <td></td>\n",
       "      <td>3.23</td>\n",
       "      <td>Anita Diamant's international bestseller \"The ...</td>\n",
       "      <td>https://www.goodreads.com/book/show/1333909.Go...</td>\n",
       "      <td>Simon &amp; Schuster Audio</td>\n",
       "      <td></td>\n",
       "      <td>1</td>\n",
       "      <td>9780743509985</td>\n",
       "      <td>10</td>\n",
       "      <td>2001</td>\n",
       "      <td>https://www.goodreads.com/book/show/1333909.Go...</td>\n",
       "      <td>https://s.gr-assets.com/assets/nophoto/book/11...</td>\n",
       "      <td>1333909</td>\n",
       "      <td>10</td>\n",
       "      <td>Good Harbor</td>\n",
       "      <td>Good Harbor</td>\n",
       "      <td>good harbor</td>\n",
       "      <td>good harbor</td>\n",
       "    </tr>\n",
       "    <tr>\n",
       "      <th>2</th>\n",
       "      <td></td>\n",
       "      <td>US</td>\n",
       "      <td>eng</td>\n",
       "      <td>4.03</td>\n",
       "      <td>Omnibus book club edition containing the Ladie...</td>\n",
       "      <td>https://www.goodreads.com/book/show/7327624-th...</td>\n",
       "      <td>Nelson Doubleday, Inc.</td>\n",
       "      <td>600</td>\n",
       "      <td></td>\n",
       "      <td></td>\n",
       "      <td></td>\n",
       "      <td>1987</td>\n",
       "      <td>https://www.goodreads.com/book/show/7327624-th...</td>\n",
       "      <td>https://images.gr-assets.com/books/1304100136m...</td>\n",
       "      <td>7327624</td>\n",
       "      <td>140</td>\n",
       "      <td>The Unschooled Wizard (Sun Wolf and Starhawk, ...</td>\n",
       "      <td>The Unschooled Wizard (Sun Wolf and Starhawk, ...</td>\n",
       "      <td>the unschooled wizard sun wolf and starhawk 12</td>\n",
       "      <td>the unschooled wizard sun wolf and starhawk 12</td>\n",
       "    </tr>\n",
       "    <tr>\n",
       "      <th>3</th>\n",
       "      <td>0743294297</td>\n",
       "      <td>US</td>\n",
       "      <td>eng</td>\n",
       "      <td>3.49</td>\n",
       "      <td>Addie Downs and Valerie Adler were eight when ...</td>\n",
       "      <td>https://www.goodreads.com/book/show/6066819-be...</td>\n",
       "      <td>Atria Books</td>\n",
       "      <td>368</td>\n",
       "      <td>14</td>\n",
       "      <td>9780743294294</td>\n",
       "      <td>7</td>\n",
       "      <td>2009</td>\n",
       "      <td>https://www.goodreads.com/book/show/6066819-be...</td>\n",
       "      <td>https://s.gr-assets.com/assets/nophoto/book/11...</td>\n",
       "      <td>6066819</td>\n",
       "      <td>51184</td>\n",
       "      <td>Best Friends Forever</td>\n",
       "      <td>Best Friends Forever</td>\n",
       "      <td>best friends forever</td>\n",
       "      <td>best friends forever</td>\n",
       "    </tr>\n",
       "    <tr>\n",
       "      <th>4</th>\n",
       "      <td>0850308712</td>\n",
       "      <td>US</td>\n",
       "      <td></td>\n",
       "      <td>3.40</td>\n",
       "      <td></td>\n",
       "      <td>https://www.goodreads.com/book/show/287140.Run...</td>\n",
       "      <td></td>\n",
       "      <td></td>\n",
       "      <td></td>\n",
       "      <td>9780850308716</td>\n",
       "      <td></td>\n",
       "      <td></td>\n",
       "      <td>https://www.goodreads.com/book/show/287140.Run...</td>\n",
       "      <td>https://images.gr-assets.com/books/1413219371m...</td>\n",
       "      <td>287140</td>\n",
       "      <td>15</td>\n",
       "      <td>Runic Astrology: Starcraft and Timekeeping in ...</td>\n",
       "      <td>Runic Astrology: Starcraft and Timekeeping in ...</td>\n",
       "      <td>runic astrology starcraft and timekeeping in t...</td>\n",
       "      <td>runic astrology starcraft and timekeeping in t...</td>\n",
       "    </tr>\n",
       "  </tbody>\n",
       "</table>\n",
       "</div>"
      ],
      "text/plain": [
       "         isbn country_code language_code average_rating  \\\n",
       "0  0312853122           US                         4.00   \n",
       "1  0743509986           US                         3.23   \n",
       "2                       US           eng           4.03   \n",
       "3  0743294297           US           eng           3.49   \n",
       "4  0850308712           US                         3.40   \n",
       "\n",
       "                                         description  \\\n",
       "0                                                      \n",
       "1  Anita Diamant's international bestseller \"The ...   \n",
       "2  Omnibus book club edition containing the Ladie...   \n",
       "3  Addie Downs and Valerie Adler were eight when ...   \n",
       "4                                                      \n",
       "\n",
       "                                                link               publisher  \\\n",
       "0  https://www.goodreads.com/book/show/5333265-w-...      St. Martin's Press   \n",
       "1  https://www.goodreads.com/book/show/1333909.Go...  Simon & Schuster Audio   \n",
       "2  https://www.goodreads.com/book/show/7327624-th...  Nelson Doubleday, Inc.   \n",
       "3  https://www.goodreads.com/book/show/6066819-be...             Atria Books   \n",
       "4  https://www.goodreads.com/book/show/287140.Run...                           \n",
       "\n",
       "  num_pages publication_day         isbn13 publication_month publication_year  \\\n",
       "0       256               1  9780312853129                 9             1984   \n",
       "1                         1  9780743509985                10             2001   \n",
       "2       600                                                              1987   \n",
       "3       368              14  9780743294294                 7             2009   \n",
       "4                            9780850308716                                      \n",
       "\n",
       "                                                 url  \\\n",
       "0  https://www.goodreads.com/book/show/5333265-w-...   \n",
       "1  https://www.goodreads.com/book/show/1333909.Go...   \n",
       "2  https://www.goodreads.com/book/show/7327624-th...   \n",
       "3  https://www.goodreads.com/book/show/6066819-be...   \n",
       "4  https://www.goodreads.com/book/show/287140.Run...   \n",
       "\n",
       "                                           image_url  book_id ratings_count  \\\n",
       "0  https://images.gr-assets.com/books/1310220028m...  5333265             3   \n",
       "1  https://s.gr-assets.com/assets/nophoto/book/11...  1333909            10   \n",
       "2  https://images.gr-assets.com/books/1304100136m...  7327624           140   \n",
       "3  https://s.gr-assets.com/assets/nophoto/book/11...  6066819         51184   \n",
       "4  https://images.gr-assets.com/books/1413219371m...   287140            15   \n",
       "\n",
       "                                               title  \\\n",
       "0                        W.C. Fields: A Life on Film   \n",
       "1                                        Good Harbor   \n",
       "2  The Unschooled Wizard (Sun Wolf and Starhawk, ...   \n",
       "3                               Best Friends Forever   \n",
       "4  Runic Astrology: Starcraft and Timekeeping in ...   \n",
       "\n",
       "                                title_without_series  \\\n",
       "0                        W.C. Fields: A Life on Film   \n",
       "1                                        Good Harbor   \n",
       "2  The Unschooled Wizard (Sun Wolf and Starhawk, ...   \n",
       "3                               Best Friends Forever   \n",
       "4  Runic Astrology: Starcraft and Timekeeping in ...   \n",
       "\n",
       "                                           mod_title  \\\n",
       "0                           wc fields a life on film   \n",
       "1                                        good harbor   \n",
       "2     the unschooled wizard sun wolf and starhawk 12   \n",
       "3                               best friends forever   \n",
       "4  runic astrology starcraft and timekeeping in t...   \n",
       "\n",
       "                            mod_title_without_series  \n",
       "0                           wc fields a life on film  \n",
       "1                                        good harbor  \n",
       "2     the unschooled wizard sun wolf and starhawk 12  \n",
       "3                               best friends forever  \n",
       "4  runic astrology starcraft and timekeeping in t...  "
      ]
     },
     "execution_count": 5,
     "metadata": {},
     "output_type": "execute_result"
    }
   ],
   "source": [
    "items.head()"
   ]
  },
  {
   "cell_type": "markdown",
   "metadata": {},
   "source": [
    "**Checking for null values**"
   ]
  },
  {
   "cell_type": "code",
   "execution_count": 6,
   "metadata": {},
   "outputs": [
    {
     "data": {
      "text/plain": [
       "isbn                        0\n",
       "country_code                0\n",
       "language_code               0\n",
       "average_rating              0\n",
       "description                 0\n",
       "link                        0\n",
       "publisher                   0\n",
       "num_pages                   0\n",
       "publication_day             0\n",
       "isbn13                      0\n",
       "publication_month           0\n",
       "publication_year            0\n",
       "url                         0\n",
       "image_url                   0\n",
       "book_id                     0\n",
       "ratings_count               0\n",
       "title                       0\n",
       "title_without_series        0\n",
       "mod_title                   0\n",
       "mod_title_without_series    0\n",
       "dtype: int64"
      ]
     },
     "execution_count": 6,
     "metadata": {},
     "output_type": "execute_result"
    }
   ],
   "source": [
    "items.isnull().sum()"
   ]
  },
  {
   "cell_type": "markdown",
   "metadata": {},
   "source": [
    "- Although we can visually see empty data but null values are not there"
   ]
  },
  {
   "cell_type": "markdown",
   "metadata": {},
   "source": [
    "**Looking at column dtypes**"
   ]
  },
  {
   "cell_type": "code",
   "execution_count": 7,
   "metadata": {},
   "outputs": [
    {
     "name": "stdout",
     "output_type": "stream",
     "text": [
      "<class 'pandas.core.frame.DataFrame'>\n",
      "Index: 2113033 entries, 0 to 2113032\n",
      "Data columns (total 20 columns):\n",
      " #   Column                    Dtype \n",
      "---  ------                    ----- \n",
      " 0   isbn                      object\n",
      " 1   country_code              object\n",
      " 2   language_code             object\n",
      " 3   average_rating            object\n",
      " 4   description               object\n",
      " 5   link                      object\n",
      " 6   publisher                 object\n",
      " 7   num_pages                 object\n",
      " 8   publication_day           object\n",
      " 9   isbn13                    object\n",
      " 10  publication_month         object\n",
      " 11  publication_year          object\n",
      " 12  url                       object\n",
      " 13  image_url                 object\n",
      " 14  book_id                   object\n",
      " 15  ratings_count             object\n",
      " 16  title                     object\n",
      " 17  title_without_series      object\n",
      " 18  mod_title                 object\n",
      " 19  mod_title_without_series  object\n",
      "dtypes: object(20)\n",
      "memory usage: 338.5+ MB\n"
     ]
    }
   ],
   "source": [
    "items.info()"
   ]
  },
  {
   "cell_type": "markdown",
   "metadata": {},
   "source": [
    "**We need to convert the dtypes of some of the columns to numeric before uploading the data into database**"
   ]
  },
  {
   "cell_type": "code",
   "execution_count": 8,
   "metadata": {},
   "outputs": [
    {
     "data": {
      "text/plain": [
       "isbn                                                               0312853122\n",
       "country_code                                                               US\n",
       "language_code                                                                \n",
       "average_rating                                                           4.00\n",
       "description                                                                  \n",
       "link                        https://www.goodreads.com/book/show/5333265-w-...\n",
       "publisher                                                  St. Martin's Press\n",
       "num_pages                                                                 256\n",
       "publication_day                                                             1\n",
       "isbn13                                                          9780312853129\n",
       "publication_month                                                           9\n",
       "publication_year                                                         1984\n",
       "url                         https://www.goodreads.com/book/show/5333265-w-...\n",
       "image_url                   https://images.gr-assets.com/books/1310220028m...\n",
       "book_id                                                               5333265\n",
       "ratings_count                                                               3\n",
       "title                                             W.C. Fields: A Life on Film\n",
       "title_without_series                              W.C. Fields: A Life on Film\n",
       "mod_title                                            wc fields a life on film\n",
       "mod_title_without_series                             wc fields a life on film\n",
       "Name: 0, dtype: object"
      ]
     },
     "execution_count": 8,
     "metadata": {},
     "output_type": "execute_result"
    }
   ],
   "source": [
    "single_record = items.iloc[0]\n",
    "single_record"
   ]
  },
  {
   "cell_type": "code",
   "execution_count": 9,
   "metadata": {},
   "outputs": [
    {
     "name": "stdout",
     "output_type": "stream",
     "text": [
      "Column: isbn \t - Datatype: <class 'str'>\n",
      "Column: country_code \t - Datatype: <class 'str'>\n",
      "Column: language_code \t - Datatype: <class 'str'>\n",
      "Column: average_rating \t - Datatype: <class 'str'>\n",
      "Column: description \t - Datatype: <class 'str'>\n",
      "Column: link \t - Datatype: <class 'str'>\n",
      "Column: publisher \t - Datatype: <class 'str'>\n",
      "Column: num_pages \t - Datatype: <class 'str'>\n",
      "Column: publication_day \t - Datatype: <class 'str'>\n",
      "Column: isbn13 \t - Datatype: <class 'str'>\n",
      "Column: publication_month \t - Datatype: <class 'str'>\n",
      "Column: publication_year \t - Datatype: <class 'str'>\n",
      "Column: url \t - Datatype: <class 'str'>\n",
      "Column: image_url \t - Datatype: <class 'str'>\n",
      "Column: book_id \t - Datatype: <class 'str'>\n",
      "Column: ratings_count \t - Datatype: <class 'str'>\n",
      "Column: title \t - Datatype: <class 'str'>\n",
      "Column: title_without_series \t - Datatype: <class 'str'>\n",
      "Column: mod_title \t - Datatype: <class 'str'>\n",
      "Column: mod_title_without_series \t - Datatype: <class 'str'>\n"
     ]
    }
   ],
   "source": [
    "for i in single_record.index:\n",
    "    print(f\"Column: {i} \\t - Datatype: {type(single_record[i])}\")"
   ]
  },
  {
   "cell_type": "markdown",
   "metadata": {},
   "source": [
    "**Looking at empty values or `str.len() < 1`**"
   ]
  },
  {
   "cell_type": "code",
   "execution_count": 10,
   "metadata": {},
   "outputs": [
    {
     "name": "stdout",
     "output_type": "stream",
     "text": [
      "Column: isbn \t - Empty Values: 820730\n",
      "Column: country_code \t - Empty Values: 457\n",
      "Column: language_code \t - Empty Values: 1026236\n",
      "Column: average_rating \t - Empty Values: 483\n",
      "Column: description \t - Empty Values: 362224\n",
      "Column: link \t - Empty Values: 483\n",
      "Column: publisher \t - Empty Values: 614022\n",
      "Column: num_pages \t - Empty Values: 723374\n",
      "Column: publication_day \t - Empty Values: 840897\n",
      "Column: isbn13 \t - Empty Values: 675346\n",
      "Column: publication_month \t - Empty Values: 737678\n",
      "Column: publication_year \t - Empty Values: 556885\n",
      "Column: url \t - Empty Values: 483\n",
      "Column: image_url \t - Empty Values: 457\n",
      "Column: book_id \t - Empty Values: 0\n",
      "Column: ratings_count \t - Empty Values: 483\n",
      "Column: title \t - Empty Values: 0\n",
      "Column: title_without_series \t - Empty Values: 0\n",
      "Column: mod_title \t - Empty Values: 0\n",
      "Column: mod_title_without_series \t - Empty Values: 0\n"
     ]
    }
   ],
   "source": [
    "for col in items.columns:\n",
    "    print(f\"Column: {col} \\t - Empty Values: {len(items.loc[items[col].str.len() < 1])}\")"
   ]
  },
  {
   "cell_type": "markdown",
   "metadata": {},
   "source": [
    "**Converting datatype of some of the columns into numeric**\n",
    "- The `errors='coerce'` parameter in the `pd.to_numeric` function means that if there are any values in the specified columns that cannot be converted to numeric, those values will be set to `NaN` (Not a Number)"
   ]
  },
  {
   "cell_type": "code",
   "execution_count": 7,
   "metadata": {},
   "outputs": [],
   "source": [
    "columns_to_convert = [\"average_rating\", \n",
    "                      \"ratings_count\", \n",
    "                      \"num_pages\", \n",
    "                      \"publication_day\", \n",
    "                      \"publication_month\", \n",
    "                      \"publication_year\"\n",
    "                      ]\n",
    "\n",
    "items[columns_to_convert] = items[columns_to_convert].apply(pd.to_numeric, errors='coerce')"
   ]
  },
  {
   "cell_type": "code",
   "execution_count": 8,
   "metadata": {},
   "outputs": [
    {
     "name": "stdout",
     "output_type": "stream",
     "text": [
      "<class 'pandas.core.frame.DataFrame'>\n",
      "Index: 2113033 entries, 0 to 2113032\n",
      "Data columns (total 20 columns):\n",
      " #   Column                    Dtype  \n",
      "---  ------                    -----  \n",
      " 0   isbn                      object \n",
      " 1   country_code              object \n",
      " 2   language_code             object \n",
      " 3   average_rating            float64\n",
      " 4   description               object \n",
      " 5   link                      object \n",
      " 6   publisher                 object \n",
      " 7   num_pages                 float64\n",
      " 8   publication_day           float64\n",
      " 9   isbn13                    object \n",
      " 10  publication_month         float64\n",
      " 11  publication_year          float64\n",
      " 12  url                       object \n",
      " 13  image_url                 object \n",
      " 14  book_id                   object \n",
      " 15  ratings_count             float64\n",
      " 16  title                     object \n",
      " 17  title_without_series      object \n",
      " 18  mod_title                 object \n",
      " 19  mod_title_without_series  object \n",
      "dtypes: float64(6), object(14)\n",
      "memory usage: 338.5+ MB\n"
     ]
    }
   ],
   "source": [
    "items.info()"
   ]
  },
  {
   "cell_type": "code",
   "execution_count": 10,
   "metadata": {},
   "outputs": [
    {
     "data": {
      "text/plain": [
       "isbn                                                               0312853122\n",
       "country_code                                                               US\n",
       "language_code                                                                \n",
       "average_rating                                                            4.0\n",
       "description                                                                  \n",
       "link                        https://www.goodreads.com/book/show/5333265-w-...\n",
       "publisher                                                  St. Martin's Press\n",
       "num_pages                                                               256.0\n",
       "publication_day                                                           1.0\n",
       "isbn13                                                          9780312853129\n",
       "publication_month                                                         9.0\n",
       "publication_year                                                       1984.0\n",
       "url                         https://www.goodreads.com/book/show/5333265-w-...\n",
       "image_url                   https://images.gr-assets.com/books/1310220028m...\n",
       "book_id                                                               5333265\n",
       "ratings_count                                                             3.0\n",
       "title                                             W.C. Fields: A Life on Film\n",
       "title_without_series                              W.C. Fields: A Life on Film\n",
       "mod_title                                            wc fields a life on film\n",
       "mod_title_without_series                             wc fields a life on film\n",
       "Name: 0, dtype: object"
      ]
     },
     "execution_count": 10,
     "metadata": {},
     "output_type": "execute_result"
    }
   ],
   "source": [
    "single_record = items.iloc[0]\n",
    "single_record"
   ]
  },
  {
   "cell_type": "code",
   "execution_count": 11,
   "metadata": {},
   "outputs": [
    {
     "name": "stdout",
     "output_type": "stream",
     "text": [
      "Column: isbn \t - Datatype: <class 'str'>\n",
      "Column: country_code \t - Datatype: <class 'str'>\n",
      "Column: language_code \t - Datatype: <class 'str'>\n",
      "Column: average_rating \t - Datatype: <class 'numpy.float64'>\n",
      "Column: description \t - Datatype: <class 'str'>\n",
      "Column: link \t - Datatype: <class 'str'>\n",
      "Column: publisher \t - Datatype: <class 'str'>\n",
      "Column: num_pages \t - Datatype: <class 'numpy.float64'>\n",
      "Column: publication_day \t - Datatype: <class 'numpy.float64'>\n",
      "Column: isbn13 \t - Datatype: <class 'str'>\n",
      "Column: publication_month \t - Datatype: <class 'numpy.float64'>\n",
      "Column: publication_year \t - Datatype: <class 'numpy.float64'>\n",
      "Column: url \t - Datatype: <class 'str'>\n",
      "Column: image_url \t - Datatype: <class 'str'>\n",
      "Column: book_id \t - Datatype: <class 'str'>\n",
      "Column: ratings_count \t - Datatype: <class 'numpy.float64'>\n",
      "Column: title \t - Datatype: <class 'str'>\n",
      "Column: title_without_series \t - Datatype: <class 'str'>\n",
      "Column: mod_title \t - Datatype: <class 'str'>\n",
      "Column: mod_title_without_series \t - Datatype: <class 'str'>\n"
     ]
    }
   ],
   "source": [
    "for i in single_record.index:\n",
    "    print(f\"Column: {i} \\t - Datatype: {type(single_record[i])}\")"
   ]
  },
  {
   "cell_type": "markdown",
   "metadata": {},
   "source": [
    "**We can again check the missing value counts**"
   ]
  },
  {
   "cell_type": "markdown",
   "metadata": {},
   "source": [
    "- Number of empty values in some specific column\n",
    "\n",
    "```\n",
    "Column: average_rating \t - Empty Values: 483\n",
    "Column: num_pages \t - Empty Values: 723374\n",
    "Column: publication_day \t - Empty Values: 840897\n",
    "Column: publication_month \t - Empty Values: 737678\n",
    "Column: publication_year \t - Empty Values: 556885\n",
    "Column: ratings_count \t - Empty Values: 483\n",
    "```"
   ]
  },
  {
   "cell_type": "code",
   "execution_count": 12,
   "metadata": {},
   "outputs": [
    {
     "data": {
      "text/plain": [
       "isbn                             0\n",
       "country_code                     0\n",
       "language_code                    0\n",
       "average_rating                 483\n",
       "description                      0\n",
       "link                             0\n",
       "publisher                        0\n",
       "num_pages                   723374\n",
       "publication_day             840897\n",
       "isbn13                           0\n",
       "publication_month           737678\n",
       "publication_year            556885\n",
       "url                              0\n",
       "image_url                        0\n",
       "book_id                          0\n",
       "ratings_count                  483\n",
       "title                            0\n",
       "title_without_series             0\n",
       "mod_title                        0\n",
       "mod_title_without_series         0\n",
       "dtype: int64"
      ]
     },
     "execution_count": 12,
     "metadata": {},
     "output_type": "execute_result"
    }
   ],
   "source": [
    "items.isnull().sum()"
   ]
  },
  {
   "cell_type": "markdown",
   "metadata": {},
   "source": [
    "- We can obseve that the numeric conversion of some of the columns converted the empty values into a `null` value"
   ]
  },
  {
   "cell_type": "markdown",
   "metadata": {},
   "source": [
    "**Imputing the missing values as per the folllowing strategy**\n",
    "- `publication_day, publication_month, publication_year, num_pages`  with 0\n",
    "- `ratings_count, average_rating` with -1"
   ]
  },
  {
   "cell_type": "code",
   "execution_count": 13,
   "metadata": {},
   "outputs": [],
   "source": [
    "fill_zero = [\"publication_day\", \"publication_month\", \"publication_year\", \"num_pages\"]\n",
    "fill_neg_one = [\"ratings_count\", \"average_rating\"]"
   ]
  },
  {
   "cell_type": "code",
   "execution_count": 14,
   "metadata": {},
   "outputs": [],
   "source": [
    "items[fill_zero] = items[fill_zero].fillna(0)\n",
    "items[fill_neg_one] = items[fill_neg_one].fillna(-1)"
   ]
  },
  {
   "cell_type": "code",
   "execution_count": 15,
   "metadata": {},
   "outputs": [
    {
     "data": {
      "text/plain": [
       "isbn                        0\n",
       "country_code                0\n",
       "language_code               0\n",
       "average_rating              0\n",
       "description                 0\n",
       "link                        0\n",
       "publisher                   0\n",
       "num_pages                   0\n",
       "publication_day             0\n",
       "isbn13                      0\n",
       "publication_month           0\n",
       "publication_year            0\n",
       "url                         0\n",
       "image_url                   0\n",
       "book_id                     0\n",
       "ratings_count               0\n",
       "title                       0\n",
       "title_without_series        0\n",
       "mod_title                   0\n",
       "mod_title_without_series    0\n",
       "dtype: int64"
      ]
     },
     "execution_count": 15,
     "metadata": {},
     "output_type": "execute_result"
    }
   ],
   "source": [
    "items.isnull().sum()"
   ]
  },
  {
   "cell_type": "markdown",
   "metadata": {},
   "source": [
    "**Dtypes of `\"publication_day\", \"publication_month\", \"publication_year\", \"num_pages\", \"ratings_count\"` should be in `int64` instead of `float64`**"
   ]
  },
  {
   "cell_type": "code",
   "execution_count": 16,
   "metadata": {},
   "outputs": [],
   "source": [
    "float_to_int = [\"publication_day\", \"publication_month\", \"publication_year\", \"num_pages\", \"ratings_count\"]\n",
    "\n",
    "for col in float_to_int:\n",
    "    items[col] = items[col].astype(\"int64\")"
   ]
  },
  {
   "cell_type": "code",
   "execution_count": 17,
   "metadata": {},
   "outputs": [
    {
     "name": "stdout",
     "output_type": "stream",
     "text": [
      "<class 'pandas.core.frame.DataFrame'>\n",
      "Index: 2113033 entries, 0 to 2113032\n",
      "Data columns (total 20 columns):\n",
      " #   Column                    Dtype  \n",
      "---  ------                    -----  \n",
      " 0   isbn                      object \n",
      " 1   country_code              object \n",
      " 2   language_code             object \n",
      " 3   average_rating            float64\n",
      " 4   description               object \n",
      " 5   link                      object \n",
      " 6   publisher                 object \n",
      " 7   num_pages                 int64  \n",
      " 8   publication_day           int64  \n",
      " 9   isbn13                    object \n",
      " 10  publication_month         int64  \n",
      " 11  publication_year          int64  \n",
      " 12  url                       object \n",
      " 13  image_url                 object \n",
      " 14  book_id                   object \n",
      " 15  ratings_count             int64  \n",
      " 16  title                     object \n",
      " 17  title_without_series      object \n",
      " 18  mod_title                 object \n",
      " 19  mod_title_without_series  object \n",
      "dtypes: float64(1), int64(5), object(14)\n",
      "memory usage: 338.5+ MB\n"
     ]
    }
   ],
   "source": [
    "items.info()"
   ]
  },
  {
   "cell_type": "code",
   "execution_count": null,
   "metadata": {},
   "outputs": [],
   "source": [
    "# stop execution\n",
    "\n",
    "10/0"
   ]
  },
  {
   "cell_type": "markdown",
   "metadata": {},
   "source": [
    "**Export the data**"
   ]
  },
  {
   "cell_type": "code",
   "execution_count": 18,
   "metadata": {},
   "outputs": [],
   "source": [
    "items.to_parquet('../3_ProcessedData/books_SE_v5.parquet', index=True, compression=\"snappy\")"
   ]
  },
  {
   "cell_type": "markdown",
   "metadata": {},
   "source": [
    "### Import Verification"
   ]
  },
  {
   "cell_type": "code",
   "execution_count": 19,
   "metadata": {},
   "outputs": [
    {
     "data": {
      "text/plain": [
       "(2113033, 20)"
      ]
     },
     "execution_count": 19,
     "metadata": {},
     "output_type": "execute_result"
    }
   ],
   "source": [
    "items = pd.read_parquet('../3_ProcessedData/books_SE_v5.parquet')\n",
    "items.shape"
   ]
  },
  {
   "cell_type": "code",
   "execution_count": 20,
   "metadata": {},
   "outputs": [
    {
     "name": "stdout",
     "output_type": "stream",
     "text": [
      "<class 'pandas.core.frame.DataFrame'>\n",
      "Index: 2113033 entries, 0 to 2113032\n",
      "Data columns (total 20 columns):\n",
      " #   Column                    Dtype  \n",
      "---  ------                    -----  \n",
      " 0   isbn                      object \n",
      " 1   country_code              object \n",
      " 2   language_code             object \n",
      " 3   average_rating            float64\n",
      " 4   description               object \n",
      " 5   link                      object \n",
      " 6   publisher                 object \n",
      " 7   num_pages                 int64  \n",
      " 8   publication_day           int64  \n",
      " 9   isbn13                    object \n",
      " 10  publication_month         int64  \n",
      " 11  publication_year          int64  \n",
      " 12  url                       object \n",
      " 13  image_url                 object \n",
      " 14  book_id                   object \n",
      " 15  ratings_count             int64  \n",
      " 16  title                     object \n",
      " 17  title_without_series      object \n",
      " 18  mod_title                 object \n",
      " 19  mod_title_without_series  object \n",
      "dtypes: float64(1), int64(5), object(14)\n",
      "memory usage: 338.5+ MB\n"
     ]
    }
   ],
   "source": [
    "items.info()"
   ]
  }
 ],
 "metadata": {
  "kernelspec": {
   "display_name": "Python 3",
   "language": "python",
   "name": "python3"
  },
  "language_info": {
   "codemirror_mode": {
    "name": "ipython",
    "version": 3
   },
   "file_extension": ".py",
   "mimetype": "text/x-python",
   "name": "python",
   "nbconvert_exporter": "python",
   "pygments_lexer": "ipython3",
   "version": "3.10.11"
  }
 },
 "nbformat": 4,
 "nbformat_minor": 2
}
